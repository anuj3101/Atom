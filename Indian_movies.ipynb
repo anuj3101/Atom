{
 "cells": [
  {
   "cell_type": "code",
   "execution_count": 139,
   "id": "72357750",
   "metadata": {},
   "outputs": [],
   "source": [
    "import pandas as pd\n",
    "import datetime as dt\n",
    "import pandasql as ps\n",
    "import os\n",
    "import zipfile as zp\n",
    "from datetime import datetime\n",
    "import matplotlib.pyplot as plt\n",
    "import matplotlib\n",
    "\n",
    "DIR=r'C:\\Users\\anuj\\Downloads'\n",
    "ZIp='archive (5).zip'\n",
    "\n",
    "os.chdir(DIR)\n",
    "zf = zp.ZipFile(f'{ZIp}')\n",
    "\n",
    "dfs={}\n",
    "for name in zf.namelist():\n",
    "    df_name= name.replace('.csv','')\n",
    "    dfs[df_name]=pd.read_csv(zf.open(name,mode='r'),encoding='latin')\n",
    "\n",
    "#df1.columns=df1.columns.str.replace(' ','_')\n",
    "\n",
    "df=dfs['Top3000_imdb_indian_movies']\n",
    "\n",
    "df.columns=df.columns.str.replace(' ','_')\n",
    "df['Date_of_Release']=df['Date_of_Release'].apply(lambda x: str(x))\n",
    "#df[df.duplicated()]## Check duplicates\n",
    "#sales_store.info()\n",
    "#df.isnull().values.any() ########Check NUlls\n",
    "#df.isnull().isnull().sum() ########Check NUlls by each column\n",
    "#est=df[df['Date_of_Release']=='2021']\n",
    "df=df.set_index(['Title', 'Date_of_Release','Crew_dir','Cast_stars','Plot_summary','Age_of_content','Votes','ImDBRating']).apply(lambda x: x.str.split(',').explode()).reset_index()\n",
    "df=df.set_index(['Title', 'Date_of_Release','Genre','Cast_stars','Plot_summary','Age_of_content','Votes','ImDBRating']).apply(lambda x: x.str.split(',').explode()).reset_index()\n",
    "df=df.set_index(['Title', 'Date_of_Release','Genre','Crew_dir','Plot_summary','Age_of_content','Votes','ImDBRating']).apply(lambda x: x.str.split(',').explode()).reset_index()\n",
    "df['Genre']=df['Genre'].str.strip()\n",
    "df['Crew_dir']=df['Crew_dir'].str.strip()\n",
    "df['Cast_stars']=df['Cast_stars'].str.strip()"
   ]
  },
  {
   "cell_type": "markdown",
   "id": "f4c54a2c",
   "metadata": {},
   "source": [
    "### Number of movies by Year by star"
   ]
  },
  {
   "cell_type": "code",
   "execution_count": 227,
   "id": "506fbe76",
   "metadata": {},
   "outputs": [
    {
     "name": "stdout",
     "output_type": "stream",
     "text": [
      "Akshay Kumar\n"
     ]
    },
    {
     "data": {
      "image/png": "[encoded data removed]",
      "text/plain": [
       "<Figure size 1440x792 with 1 Axes>"
      ]
     },
     "metadata": {
      "needs_background": "light"
     },
     "output_type": "display_data"
    }
   ],
   "source": [
    "fig = matplotlib.pyplot.gcf()\n",
    "fig.set_size_inches(20, 11)\n",
    "fig.savefig('test2.png', dpi=100)\n",
    "\n",
    "star=input()\n",
    "test=pd.DataFrame(df[df['Cast_stars'].str.contains(f'{star}')]['Title'].groupby(df['Date_of_Release']).nunique())\n",
    "test['Date_of_Release']=test.index\n",
    "ax=plt.bar(test['Date_of_Release'].to_list(),height=test['Title'].to_list(),width=0.45,color='blue')\n",
    "plt.xlabel('Year Of Release')\n",
    "plt.ylabel('# Movies')\n",
    "plt.title(f\"{star}'s Movies over Years\")\n",
    "plt.show()\n",
    "df[df['Cast_stars'].str.contains(f'{star}')].sort_values(by='Date_of_Release',ascending=True).to_excel(f'{star}.xlsx')"
   ]
  },
  {
   "cell_type": "markdown",
   "id": "4bae894d",
   "metadata": {},
   "source": [
    "### Movies with Rating 8 and by Star"
   ]
  },
  {
   "cell_type": "code",
   "execution_count": 229,
   "id": "51b2cb94",
   "metadata": {},
   "outputs": [
    {
     "name": "stdout",
     "output_type": "stream",
     "text": [
      "Akshay Kumar\n"
     ]
    },
    {
     "data": {
      "text/html": [
       "<div>\n",
       "<style scoped>\n",
       "    .dataframe tbody tr th:only-of-type {\n",
       "        vertical-align: middle;\n",
       "    }\n",
       "\n",
       "    .dataframe tbody tr th {\n",
       "        vertical-align: top;\n",
       "    }\n",
       "\n",
       "    .dataframe thead th {\n",
       "        text-align: right;\n",
       "    }\n",
       "</style>\n",
       "<table border=\"1\" class=\"dataframe\">\n",
       "  <thead>\n",
       "    <tr style=\"text-align: right;\">\n",
       "      <th></th>\n",
       "      <th>Title</th>\n",
       "      <th>Date_of_Release</th>\n",
       "      <th>Crew_dir</th>\n",
       "      <th>ImDBRating</th>\n",
       "      <th>Votes</th>\n",
       "    </tr>\n",
       "  </thead>\n",
       "  <tbody>\n",
       "    <tr>\n",
       "      <th>304</th>\n",
       "      <td>Hera Pheri</td>\n",
       "      <td>2000</td>\n",
       "      <td>Priyadarshan</td>\n",
       "      <td>8.2</td>\n",
       "      <td>61731</td>\n",
       "    </tr>\n",
       "    <tr>\n",
       "      <th>401</th>\n",
       "      <td>OMG: Oh My God!</td>\n",
       "      <td>2012</td>\n",
       "      <td>Umesh Shukla</td>\n",
       "      <td>8.1</td>\n",
       "      <td>54862</td>\n",
       "    </tr>\n",
       "    <tr>\n",
       "      <th>412</th>\n",
       "      <td>Special Chabbis</td>\n",
       "      <td>2013</td>\n",
       "      <td>Neeraj Pandey</td>\n",
       "      <td>8.0</td>\n",
       "      <td>53541</td>\n",
       "    </tr>\n",
       "  </tbody>\n",
       "</table>\n",
       "</div>"
      ],
      "text/plain": [
       "               Title Date_of_Release       Crew_dir  ImDBRating  Votes\n",
       "304       Hera Pheri            2000   Priyadarshan         8.2  61731\n",
       "401  OMG: Oh My God!            2012   Umesh Shukla         8.1  54862\n",
       "412  Special Chabbis            2013  Neeraj Pandey         8.0  53541"
      ]
     },
     "execution_count": 229,
     "metadata": {},
     "output_type": "execute_result"
    }
   ],
   "source": [
    "star=input()\n",
    "test=pd.DataFrame(df[(df['Cast_stars'].str.contains(f'{star}'))&(df['ImDBRating']>=8)]['Title'])\n",
    "test['Date_of_Release']=test.index\n",
    "df2=df[df['Cast_stars'].str.contains(f'{star}')&(df['ImDBRating']>=8)].sort_values(by='Date_of_Release',ascending=True)\n",
    "df2.to_excel(f'{star}.xlsx')\n",
    "df2[['Title','Date_of_Release','Crew_dir','ImDBRating','Votes']].drop_duplicates().head(3)"
   ]
  },
  {
   "cell_type": "code",
   "execution_count": 214,
   "id": "8bbe1d7b",
   "metadata": {},
   "outputs": [
    {
     "name": "stdout",
     "output_type": "stream",
     "text": [
      "<class 'pandas.core.frame.DataFrame'>\n",
      "RangeIndex: 30881 entries, 0 to 30880\n",
      "Data columns (total 9 columns):\n",
      " #   Column           Non-Null Count  Dtype  \n",
      "---  ------           --------------  -----  \n",
      " 0   Title            30881 non-null  object \n",
      " 1   Date_of_Release  30881 non-null  object \n",
      " 2   Genre            30881 non-null  object \n",
      " 3   Crew_dir         30851 non-null  object \n",
      " 4   Plot_summary     30881 non-null  object \n",
      " 5   Age_of_content   30881 non-null  int64  \n",
      " 6   Votes            30881 non-null  int64  \n",
      " 7   ImDBRating       30881 non-null  float64\n",
      " 8   Cast_stars       30881 non-null  object \n",
      "dtypes: float64(1), int64(2), object(6)\n",
      "memory usage: 2.1+ MB\n"
     ]
    }
   ],
   "source": [
    "fig = matplotlib.pyplot.gcf()\n",
    "fig.set_size_inches(20, 11)\n",
    "fig.savefig('test2.png', dpi=100)\n",
    "\n",
    "star=input()\n",
    "test=pd.DataFrame(df[df['Cast_stars'].str.contains(f'{star}')]['Title'].groupby(df['Date_of_Release']).nunique())\n",
    "test['Date_of_Release']=test.index\n",
    "ax=plt.bar(test['Date_of_Release'].to_list(),height=test['Title'].to_list(),width=0.45,color='blue')\n",
    "plt.xlabel('Year Of Release')\n",
    "plt.ylabel('# Movies')\n",
    "plt.title(f\"{star}'s Movies over Years\")\n",
    "plt.show()"
   ]
  }
 ],
 "metadata": {
  "kernelspec": {
   "display_name": "Python 3 (ipykernel)",
   "language": "python",
   "name": "python3"
  },
  "language_info": {
   "codemirror_mode": {
    "name": "ipython",
    "version": 3
   },
   "file_extension": ".py",
   "mimetype": "text/x-python",
   "name": "python",
   "nbconvert_exporter": "python",
   "pygments_lexer": "ipython3",
   "version": "3.9.7"
  }
 },
 "nbformat": 4,
 "nbformat_minor": 5
}
