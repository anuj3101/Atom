{
 "cells": [
  {
   "cell_type": "code",
   "execution_count": 1,
   "id": "6979f7e6",
   "metadata": {},
   "outputs": [
    {
     "name": "stderr",
     "output_type": "stream",
     "text": [
      "/tmp/ipykernel_19559/2890825634.py:30: FutureWarning: The default value of regex will change from True to False in a future version. In addition, single character regular expressions will *not* be treated as literal strings when regex=True.\n",
      "  df.columns=df.columns.str.replace('(','')\n",
      "/tmp/ipykernel_19559/2890825634.py:31: FutureWarning: The default value of regex will change from True to False in a future version. In addition, single character regular expressions will *not* be treated as literal strings when regex=True.\n",
      "  df.columns=df.columns.str.replace(')','')\n"
     ]
    }
   ],
   "source": [
    "import pandas as pd\n",
    "import datetime as dt\n",
    "import pandasql as ps\n",
    "import os\n",
    "import zipfile as zp\n",
    "from datetime import datetime\n",
    "import matplotlib.pyplot as plt\n",
    "import plotly.express as px\n",
    "\n",
    "#from kaggle.api.kaggle_api_extended import KaggleApi\n",
    "#api = KaggleApi()\n",
    "#api.authenticate()\n",
    "\n",
    "#dataset_name=api.dataset_list_files('prakrutchauhan/indian-candidates-for-general-election-2019').files\n",
    "\n",
    "DIR=r'/home/anuj/Downloads/'\n",
    "ZIp='archive(2).zip'\n",
    "\n",
    "os.chdir(DIR)\n",
    "zf = zp.ZipFile(f'{ZIp}')\n",
    "\n",
    "dfs={}\n",
    "for name in zf.namelist():\n",
    "    df_name= name.replace('.csv','')\n",
    "    dfs[df_name]=pd.read_csv(zf.open(name,mode='r'),encoding='latin')\n",
    "\n",
    "df=dfs['GOI']\n",
    "df.columns=df.columns.str.replace(' ','_')\n",
    "df.columns=df.columns.str.replace('\\n','_')\n",
    "df.columns=df.columns.str.replace('(','')\n",
    "df.columns=df.columns.str.replace(')','')\n",
    "df.columns=df.columns.str.replace('-','')\n",
    "df.columns=df.columns.str.replace('/','')\n",
    "\n",
    "df=df[df['Country_States_Union_Territories_Name']!='INDIA']\n",
    "\n",
    "#os.chdir(r'C:\\Users\\anuj\\Documents\\My Tableau Repository\\Datasources')\n",
    "#df.to_csv('indian_elections.csv',index=False)"
   ]
  },
  {
   "cell_type": "code",
   "execution_count": 38,
   "id": "d0e86a6f",
   "metadata": {},
   "outputs": [],
   "source": [
    "df2=df.melt(id_vars=['Category','Country_States_Union_Territories_Name'],value_name='Literacy_Rate',var_name='Type')\n",
    "df2=df2.rename(columns={\"Country_States_Union_Territories_Name\":\"STATE_UT\"})\n",
    "df2['Year']=df2['Type'].apply(lambda x: x.split('__')[2])\n",
    "df2['Typ']=df2['Type'].apply(lambda x: x.split('__')[1])\n",
    "del df2['Type']\n"
   ]
  },
  {
   "cell_type": "code",
   "execution_count": 3,
   "id": "b8db8870",
   "metadata": {},
   "outputs": [
    {
     "data": {
      "text/html": [
       "<div>\n",
       "<style scoped>\n",
       "    .dataframe tbody tr th:only-of-type {\n",
       "        vertical-align: middle;\n",
       "    }\n",
       "\n",
       "    .dataframe tbody tr th {\n",
       "        vertical-align: top;\n",
       "    }\n",
       "\n",
       "    .dataframe thead th {\n",
       "        text-align: right;\n",
       "    }\n",
       "</style>\n",
       "<table border=\"1\" class=\"dataframe\">\n",
       "  <thead>\n",
       "    <tr style=\"text-align: right;\">\n",
       "      <th></th>\n",
       "      <th>Category</th>\n",
       "      <th>STATE_UT</th>\n",
       "      <th>Literacy_Rate</th>\n",
       "      <th>Year</th>\n",
       "      <th>Typ</th>\n",
       "    </tr>\n",
       "  </thead>\n",
       "  <tbody>\n",
       "  </tbody>\n",
       "</table>\n",
       "</div>"
      ],
      "text/plain": [
       "Empty DataFrame\n",
       "Columns: [Category, STATE_UT, Literacy_Rate, Year, Typ]\n",
       "Index: []"
      ]
     },
     "execution_count": 3,
     "metadata": {},
     "output_type": "execute_result"
    }
   ],
   "source": [
    "df2.isnull().isnull().sum()\n",
    "df2[df2.duplicated()]"
   ]
  },
  {
   "cell_type": "code",
   "execution_count": 4,
   "id": "0e7df31e",
   "metadata": {},
   "outputs": [
    {
     "name": "stdout",
     "output_type": "stream",
     "text": [
      "<class 'pandas.core.frame.DataFrame'>\n",
      "RangeIndex: 210 entries, 0 to 209\n",
      "Data columns (total 5 columns):\n",
      " #   Column         Non-Null Count  Dtype  \n",
      "---  ------         --------------  -----  \n",
      " 0   Category       210 non-null    object \n",
      " 1   STATE_UT       210 non-null    object \n",
      " 2   Literacy_Rate  210 non-null    float64\n",
      " 3   Year           210 non-null    object \n",
      " 4   Typ            210 non-null    object \n",
      "dtypes: float64(1), object(4)\n",
      "memory usage: 8.3+ KB\n"
     ]
    }
   ],
   "source": [
    "df2.info()"
   ]
  },
  {
   "cell_type": "code",
   "execution_count": 5,
   "id": "3e4bac83",
   "metadata": {},
   "outputs": [
    {
     "name": "stdout",
     "output_type": "stream",
     "text": [
      "Category 2\n",
      "STATE_UT 35\n",
      "Literacy_Rate 163\n",
      "Year 2\n",
      "Typ 3\n"
     ]
    }
   ],
   "source": [
    "# NUMBER OF UNIQUE VALUES\n",
    "\n",
    "for col in df2.columns:\n",
    "    print(col,df2[col].nunique())"
   ]
  },
  {
   "cell_type": "markdown",
   "id": "c4b6a8e5",
   "metadata": {},
   "source": [
    "### AVG LITERACY RATE BY STATE"
   ]
  },
  {
   "cell_type": "code",
   "execution_count": 99,
   "id": "dbf03f9f",
   "metadata": {},
   "outputs": [
    {
     "data": {
      "application/vnd.plotly.v1+json": {
       "config": {
        "plotlyServerURL": "https://plot.ly"
       },
       "data": [
        {
         "alignmentgroup": "True",
         "customdata": [
          [
           "2011",
           "Rural",
           "59.8%"
          ],
          [
           "2011",
           "Rural",
           "59.9%"
          ],
          [
           "2011",
           "Rural",
           "60.4%"
          ],
          [
           "2011",
           "Rural",
           "61.1%"
          ],
          [
           "2011",
           "Rural",
           "61.4%"
          ],
          [
           "2011",
           "Rural",
           "63.2%"
          ],
          [
           "2011",
           "Rural",
           "63.9%"
          ],
          [
           "2011",
           "Rural",
           "64.1%"
          ],
          [
           "2011",
           "Rural",
           "65.5%"
          ],
          [
           "2011",
           "Rural",
           "66.0%"
          ],
          [
           "2011",
           "Rural",
           "68.7%"
          ],
          [
           "2011",
           "Rural",
           "69.3%"
          ],
          [
           "2011",
           "Rural",
           "69.9%"
          ],
          [
           "2011",
           "Rural",
           "70.2%"
          ],
          [
           "2011",
           "Rural",
           "71.4%"
          ],
          [
           "2011",
           "Rural",
           "71.4%"
          ],
          [
           "2011",
           "Rural",
           "71.7%"
          ],
          [
           "2011",
           "Rural",
           "72.1%"
          ],
          [
           "2011",
           "Rural",
           "73.4%"
          ],
          [
           "2011",
           "Rural",
           "73.5%"
          ],
          [
           "2011",
           "Rural",
           "75.3%"
          ],
          [
           "2011",
           "Rural",
           "76.3%"
          ],
          [
           "2011",
           "Rural",
           "77.0%"
          ],
          [
           "2011",
           "Rural",
           "78.9%"
          ],
          [
           "2011",
           "Rural",
           "80.1%"
          ],
          [
           "2011",
           "Rural",
           "80.7%"
          ],
          [
           "2011",
           "Rural",
           "81.4%"
          ],
          [
           "2011",
           "Rural",
           "81.9%"
          ],
          [
           "2011",
           "Rural",
           "81.9%"
          ],
          [
           "2011",
           "Rural",
           "84.1%"
          ],
          [
           "2011",
           "Rural",
           "84.5%"
          ],
          [
           "2011",
           "Rural",
           "84.9%"
          ],
          [
           "2011",
           "Rural",
           "86.6%"
          ],
          [
           "2011",
           "Rural",
           "91.6%"
          ],
          [
           "2011",
           "Rural",
           "93.0%"
          ]
         ],
         "hovertemplate": "Typ=%{customdata[1]}<br>Year=%{customdata[0]}<br>Literacy_Rate=%{x}<br>STATE_UT=%{y}<br>Literacy_Rate_lab=%{customdata[2]}<extra></extra>",
         "legendgroup": "Rural",
         "marker": {
          "color": "#636efa",
          "pattern": {
           "shape": ""
          }
         },
         "name": "Rural",
         "offsetgroup": "Rural",
         "orientation": "h",
         "showlegend": true,
         "text": [
          "59.8%",
          "59.9%",
          "60.4%",
          "61.1%",
          "61.4%",
          "63.2%",
          "63.9%",
          "64.1%",
          "65.5%",
          "66.0%",
          "68.7%",
          "69.3%",
          "69.9%",
          "70.2%",
          "71.4%",
          "71.4%",
          "71.7%",
          "72.1%",
          "73.4%",
          "73.5%",
          "75.3%",
          "76.3%",
          "77.0%",
          "78.9%",
          "80.1%",
          "80.7%",
          "81.4%",
          "81.9%",
          "81.9%",
          "84.1%",
          "84.5%",
          "84.9%",
          "86.6%",
          "91.6%",
          "93.0%"
         ],
         "textposition": "auto",
         "type": "bar",
         "x": [
          59.8,
          59.9,
          60.4,
          61.1,
          61.4,
          63.2,
          63.9,
          64.1,
          65.5,
          66,
          68.7,
          69.3,
          69.9,
          70.2,
          71.4,
          71.4,
          71.7,
          72.1,
          73.4,
          73.5,
          75.3,
          76.3,
          77,
          78.9,
          80.1,
          80.7,
          81.4,
          81.9,
          81.9,
          84.1,
          84.5,
          84.9,
          86.6,
          91.6,
          93
         ],
         "xaxis": "x",
         "y": [
          "Bihar",
          "Arunachal Pradesh",
          "Andhra Pradesh",
          "Jharkhand",
          "Rajasthan",
          "Jammu & Kashmir",
          "Madhya Pradesh",
          "D & N Haveli",
          "Uttar Pradesh",
          "Chhattisgarh",
          "Karnataka",
          "Assam",
          "Meghalaya",
          "Odisha",
          "Haryana",
          "Punjab",
          "Gujarat",
          "West Bengal",
          "Manipur",
          "Tamil Nadu",
          "Nagaland",
          "Uttarakhand",
          "Maharashtra",
          "Sikkim",
          "Puducherry",
          "Chandigarh",
          "Daman & Diu",
          "Himachal Pradesh",
          "NCT of Delhi",
          "Mizoram",
          "A & N Islands",
          "Tripura",
          "Goa",
          "Lakshadweep",
          "Kerala"
         ],
         "yaxis": "y"
        },
        {
         "alignmentgroup": "True",
         "customdata": [
          [
           "2001",
           "Rural",
           "43.9%"
          ],
          [
           "2001",
           "Rural",
           "45.7%"
          ],
          [
           "2001",
           "Rural",
           "47.8%"
          ],
          [
           "2001",
           "Rural",
           "49.3%"
          ],
          [
           "2001",
           "Rural",
           "49.8%"
          ],
          [
           "2001",
           "Rural",
           "52.5%"
          ],
          [
           "2001",
           "Rural",
           "54.5%"
          ],
          [
           "2001",
           "Rural",
           "55.3%"
          ],
          [
           "2001",
           "Rural",
           "56.3%"
          ],
          [
           "2001",
           "Rural",
           "57.8%"
          ],
          [
           "2001",
           "Rural",
           "59.3%"
          ],
          [
           "2001",
           "Rural",
           "59.7%"
          ],
          [
           "2001",
           "Rural",
           "59.8%"
          ],
          [
           "2001",
           "Rural",
           "60.5%"
          ],
          [
           "2001",
           "Rural",
           "61.3%"
          ],
          [
           "2001",
           "Rural",
           "62.8%"
          ],
          [
           "2001",
           "Rural",
           "63.2%"
          ],
          [
           "2001",
           "Rural",
           "63.4%"
          ],
          [
           "2001",
           "Rural",
           "64.7%"
          ],
          [
           "2001",
           "Rural",
           "66.2%"
          ],
          [
           "2001",
           "Rural",
           "66.8%"
          ],
          [
           "2001",
           "Rural",
           "67.3%"
          ],
          [
           "2001",
           "Rural",
           "68.1%"
          ],
          [
           "2001",
           "Rural",
           "69.7%"
          ],
          [
           "2001",
           "Rural",
           "70.4%"
          ],
          [
           "2001",
           "Rural",
           "74.0%"
          ],
          [
           "2001",
           "Rural",
           "75.1%"
          ],
          [
           "2001",
           "Rural",
           "75.6%"
          ],
          [
           "2001",
           "Rural",
           "75.8%"
          ],
          [
           "2001",
           "Rural",
           "78.1%"
          ],
          [
           "2001",
           "Rural",
           "78.7%"
          ],
          [
           "2001",
           "Rural",
           "79.7%"
          ],
          [
           "2001",
           "Rural",
           "81.3%"
          ],
          [
           "2001",
           "Rural",
           "85.0%"
          ],
          [
           "2001",
           "Rural",
           "90.0%"
          ]
         ],
         "hovertemplate": "Typ=%{customdata[1]}<br>Year=%{customdata[0]}<br>Literacy_Rate=%{x}<br>STATE_UT=%{y}<br>Literacy_Rate_lab=%{customdata[2]}<extra></extra>",
         "legendgroup": "Rural",
         "marker": {
          "color": "#636efa",
          "pattern": {
           "shape": ""
          }
         },
         "name": "Rural",
         "offsetgroup": "Rural",
         "orientation": "h",
         "showlegend": false,
         "text": [
          "43.9%",
          "45.7%",
          "47.8%",
          "49.3%",
          "49.8%",
          "52.5%",
          "54.5%",
          "55.3%",
          "56.3%",
          "57.8%",
          "59.3%",
          "59.7%",
          "59.8%",
          "60.5%",
          "61.3%",
          "62.8%",
          "63.2%",
          "63.4%",
          "64.7%",
          "66.2%",
          "66.8%",
          "67.3%",
          "68.1%",
          "69.7%",
          "70.4%",
          "74.0%",
          "75.1%",
          "75.6%",
          "75.8%",
          "78.1%",
          "78.7%",
          "79.7%",
          "81.3%",
          "85.0%",
          "90.0%"
         ],
         "textposition": "auto",
         "type": "bar",
         "x": [
          43.9,
          45.7,
          47.8,
          49.3,
          49.8,
          52.5,
          54.5,
          55.3,
          56.3,
          57.8,
          59.3,
          59.7,
          59.8,
          60.5,
          61.3,
          62.8,
          63.2,
          63.4,
          64.7,
          66.2,
          66.8,
          67.3,
          68.1,
          69.7,
          70.4,
          74,
          75.1,
          75.6,
          75.8,
          78.1,
          78.7,
          79.7,
          81.3,
          85,
          90
         ],
         "xaxis": "x2",
         "y": [
          "Bihar",
          "Jharkhand",
          "Arunachal Pradesh",
          "D & N Haveli",
          "Jammu & Kashmir",
          "Uttar Pradesh",
          "Andhra Pradesh",
          "Rajasthan",
          "Meghalaya",
          "Madhya Pradesh",
          "Karnataka",
          "Assam",
          "Odisha",
          "Chhattisgarh",
          "Gujarat",
          "Nagaland",
          "Haryana",
          "West Bengal",
          "Punjab",
          "Tamil Nadu",
          "Sikkim",
          "Manipur",
          "Uttarakhand",
          "Tripura",
          "Maharashtra",
          "Puducherry",
          "Himachal Pradesh",
          "Chandigarh",
          "Daman & Diu",
          "NCT of Delhi",
          "A & N Islands",
          "Goa",
          "Mizoram",
          "Lakshadweep",
          "Kerala"
         ],
         "yaxis": "y2"
        },
        {
         "alignmentgroup": "True",
         "customdata": [
          [
           "2011",
           "Urban",
           "75.1%"
          ],
          [
           "2011",
           "Urban",
           "76.9%"
          ],
          [
           "2011",
           "Urban",
           "77.1%"
          ],
          [
           "2011",
           "Urban",
           "79.7%"
          ],
          [
           "2011",
           "Urban",
           "80.1%"
          ],
          [
           "2011",
           "Urban",
           "82.3%"
          ],
          [
           "2011",
           "Urban",
           "82.8%"
          ],
          [
           "2011",
           "Urban",
           "82.9%"
          ],
          [
           "2011",
           "Urban",
           "83.1%"
          ],
          [
           "2011",
           "Urban",
           "83.2%"
          ],
          [
           "2011",
           "Urban",
           "84.0%"
          ],
          [
           "2011",
           "Urban",
           "84.5%"
          ],
          [
           "2011",
           "Urban",
           "84.8%"
          ],
          [
           "2011",
           "Urban",
           "85.4%"
          ],
          [
           "2011",
           "Urban",
           "85.7%"
          ],
          [
           "2011",
           "Urban",
           "85.8%"
          ],
          [
           "2011",
           "Urban",
           "86.2%"
          ],
          [
           "2011",
           "Urban",
           "86.3%"
          ],
          [
           "2011",
           "Urban",
           "86.3%"
          ],
          [
           "2011",
           "Urban",
           "87.0%"
          ],
          [
           "2011",
           "Urban",
           "88.5%"
          ],
          [
           "2011",
           "Urban",
           "88.5%"
          ],
          [
           "2011",
           "Urban",
           "88.7%"
          ],
          [
           "2011",
           "Urban",
           "88.7%"
          ],
          [
           "2011",
           "Urban",
           "89.0%"
          ],
          [
           "2011",
           "Urban",
           "89.6%"
          ],
          [
           "2011",
           "Urban",
           "89.8%"
          ],
          [
           "2011",
           "Urban",
           "90.0%"
          ],
          [
           "2011",
           "Urban",
           "90.1%"
          ],
          [
           "2011",
           "Urban",
           "90.8%"
          ],
          [
           "2011",
           "Urban",
           "91.1%"
          ],
          [
           "2011",
           "Urban",
           "91.9%"
          ],
          [
           "2011",
           "Urban",
           "93.5%"
          ],
          [
           "2011",
           "Urban",
           "95.1%"
          ],
          [
           "2011",
           "Urban",
           "97.6%"
          ]
         ],
         "hovertemplate": "Typ=%{customdata[1]}<br>Year=%{customdata[0]}<br>Literacy_Rate=%{x}<br>STATE_UT=%{y}<br>Literacy_Rate_lab=%{customdata[2]}<extra></extra>",
         "legendgroup": "Urban",
         "marker": {
          "color": "#EF553B",
          "pattern": {
           "shape": ""
          }
         },
         "name": "Urban",
         "offsetgroup": "Urban",
         "orientation": "h",
         "showlegend": true,
         "text": [
          "75.1%",
          "76.9%",
          "77.1%",
          "79.7%",
          "80.1%",
          "82.3%",
          "82.8%",
          "82.9%",
          "83.1%",
          "83.2%",
          "84.0%",
          "84.5%",
          "84.8%",
          "85.4%",
          "85.7%",
          "85.8%",
          "86.2%",
          "86.3%",
          "86.3%",
          "87.0%",
          "88.5%",
          "88.5%",
          "88.7%",
          "88.7%",
          "89.0%",
          "89.6%",
          "89.8%",
          "90.0%",
          "90.1%",
          "90.8%",
          "91.1%",
          "91.9%",
          "93.5%",
          "95.1%",
          "97.6%"
         ],
         "textposition": "auto",
         "type": "bar",
         "x": [
          75.1,
          76.9,
          77.1,
          79.7,
          80.1,
          82.3,
          82.8,
          82.9,
          83.1,
          83.2,
          84,
          84.5,
          84.8,
          85.4,
          85.7,
          85.8,
          86.2,
          86.3,
          86.3,
          87,
          88.5,
          88.5,
          88.7,
          88.7,
          89,
          89.6,
          89.8,
          90,
          90.1,
          90.8,
          91.1,
          91.9,
          93.5,
          95.1,
          97.6
         ],
         "xaxis": "x",
         "y": [
          "Uttar Pradesh",
          "Bihar",
          "Jammu & Kashmir",
          "Rajasthan",
          "Andhra Pradesh",
          "Jharkhand",
          "Madhya Pradesh",
          "Arunachal Pradesh",
          "Haryana",
          "Punjab",
          "Chhattisgarh",
          "Uttarakhand",
          "West Bengal",
          "Manipur",
          "Odisha",
          "Karnataka",
          "Chandigarh",
          "Gujarat",
          "NCT of Delhi",
          "Tamil Nadu",
          "Assam",
          "Puducherry",
          "Maharashtra",
          "Sikkim",
          "Daman & Diu",
          "Nagaland",
          "D & N Haveli",
          "Goa",
          "A & N Islands",
          "Meghalaya",
          "Himachal Pradesh",
          "Lakshadweep",
          "Tripura",
          "Kerala",
          "Mizoram"
         ],
         "yaxis": "y"
        },
        {
         "alignmentgroup": "True",
         "customdata": [
          [
           "2001",
           "Urban",
           "69.8%"
          ],
          [
           "2001",
           "Urban",
           "71.9%"
          ],
          [
           "2001",
           "Urban",
           "71.9%"
          ],
          [
           "2001",
           "Urban",
           "76.1%"
          ],
          [
           "2001",
           "Urban",
           "76.2%"
          ],
          [
           "2001",
           "Urban",
           "78.3%"
          ],
          [
           "2001",
           "Urban",
           "79.1%"
          ],
          [
           "2001",
           "Urban",
           "79.1%"
          ],
          [
           "2001",
           "Urban",
           "79.2%"
          ],
          [
           "2001",
           "Urban",
           "79.3%"
          ],
          [
           "2001",
           "Urban",
           "79.4%"
          ],
          [
           "2001",
           "Urban",
           "80.6%"
          ],
          [
           "2001",
           "Urban",
           "80.6%"
          ],
          [
           "2001",
           "Urban",
           "80.8%"
          ],
          [
           "2001",
           "Urban",
           "81.2%"
          ],
          [
           "2001",
           "Urban",
           "81.4%"
          ],
          [
           "2001",
           "Urban",
           "81.8%"
          ],
          [
           "2001",
           "Urban",
           "81.9%"
          ],
          [
           "2001",
           "Urban",
           "82.3%"
          ],
          [
           "2001",
           "Urban",
           "82.5%"
          ],
          [
           "2001",
           "Urban",
           "82.6%"
          ],
          [
           "2001",
           "Urban",
           "83.9%"
          ],
          [
           "2001",
           "Urban",
           "84.4%"
          ],
          [
           "2001",
           "Urban",
           "84.4%"
          ],
          [
           "2001",
           "Urban",
           "84.7%"
          ],
          [
           "2001",
           "Urban",
           "84.8%"
          ],
          [
           "2001",
           "Urban",
           "85.3%"
          ],
          [
           "2001",
           "Urban",
           "85.5%"
          ],
          [
           "2001",
           "Urban",
           "86.3%"
          ],
          [
           "2001",
           "Urban",
           "86.6%"
          ],
          [
           "2001",
           "Urban",
           "88.6%"
          ],
          [
           "2001",
           "Urban",
           "88.9%"
          ],
          [
           "2001",
           "Urban",
           "89.2%"
          ],
          [
           "2001",
           "Urban",
           "93.2%"
          ],
          [
           "2001",
           "Urban",
           "96.1%"
          ]
         ],
         "hovertemplate": "Typ=%{customdata[1]}<br>Year=%{customdata[0]}<br>Literacy_Rate=%{x}<br>STATE_UT=%{y}<br>Literacy_Rate_lab=%{customdata[2]}<extra></extra>",
         "legendgroup": "Urban",
         "marker": {
          "color": "#EF553B",
          "pattern": {
           "shape": ""
          }
         },
         "name": "Urban",
         "offsetgroup": "Urban",
         "orientation": "h",
         "showlegend": false,
         "text": [
          "69.8%",
          "71.9%",
          "71.9%",
          "76.1%",
          "76.2%",
          "78.3%",
          "79.1%",
          "79.1%",
          "79.2%",
          "79.3%",
          "79.4%",
          "80.6%",
          "80.6%",
          "80.8%",
          "81.2%",
          "81.4%",
          "81.8%",
          "81.9%",
          "82.3%",
          "82.5%",
          "82.6%",
          "83.9%",
          "84.4%",
          "84.4%",
          "84.7%",
          "84.8%",
          "85.3%",
          "85.5%",
          "86.3%",
          "86.6%",
          "88.6%",
          "88.9%",
          "89.2%",
          "93.2%",
          "96.1%"
         ],
         "textposition": "auto",
         "type": "bar",
         "x": [
          69.8,
          71.9,
          71.9,
          76.1,
          76.2,
          78.3,
          79.1,
          79.1,
          79.2,
          79.3,
          79.4,
          80.6,
          80.6,
          80.8,
          81.2,
          81.4,
          81.8,
          81.9,
          82.3,
          82.5,
          82.6,
          83.9,
          84.4,
          84.4,
          84.7,
          84.8,
          85.3,
          85.5,
          86.3,
          86.6,
          88.6,
          88.9,
          89.2,
          93.2,
          96.1
         ],
         "xaxis": "x2",
         "y": [
          "Uttar Pradesh",
          "Bihar",
          "Jammu & Kashmir",
          "Andhra Pradesh",
          "Rajasthan",
          "Arunachal Pradesh",
          "Jharkhand",
          "Punjab",
          "Haryana",
          "Manipur",
          "Madhya Pradesh",
          "Chhattisgarh",
          "Karnataka",
          "Odisha",
          "West Bengal",
          "Uttarakhand",
          "Gujarat",
          "NCT of Delhi",
          "Daman & Diu",
          "Tamil Nadu",
          "Chandigarh",
          "Sikkim",
          "D & N Haveli",
          "Goa",
          "Nagaland",
          "Puducherry",
          "Assam",
          "Maharashtra",
          "Meghalaya",
          "A & N Islands",
          "Lakshadweep",
          "Himachal Pradesh",
          "Tripura",
          "Kerala",
          "Mizoram"
         ],
         "yaxis": "y2"
        }
       ],
       "layout": {
        "annotations": [
         {
          "font": {},
          "showarrow": false,
          "text": "Year=2011",
          "x": 0.245,
          "xanchor": "center",
          "xref": "paper",
          "y": 1,
          "yanchor": "bottom",
          "yref": "paper"
         },
         {
          "font": {},
          "showarrow": false,
          "text": "Year=2001",
          "x": 0.755,
          "xanchor": "center",
          "xref": "paper",
          "y": 1,
          "yanchor": "bottom",
          "yref": "paper"
         }
        ],
        "barmode": "relative",
        "font": {
         "family": "Courier New"
        },
        "height": 1000,
        "legend": {
         "title": {
          "font": {
           "color": "green"
          },
          "text": "Typ"
         },
         "tracegroupgap": 0
        },
        "margin": {
         "t": 60
        },
        "showlegend": true,
        "template": {
         "data": {
          "bar": [
           {
            "error_x": {
             "color": "#2a3f5f"
            },
            "error_y": {
             "color": "#2a3f5f"
            },
            "marker": {
             "line": {
              "color": "#E5ECF6",
              "width": 0.5
             },
             "pattern": {
              "fillmode": "overlay",
              "size": 10,
              "solidity": 0.2
             }
            },
            "type": "bar"
           }
          ],
          "barpolar": [
           {
            "marker": {
             "line": {
              "color": "#E5ECF6",
              "width": 0.5
             },
             "pattern": {
              "fillmode": "overlay",
              "size": 10,
              "solidity": 0.2
             }
            },
            "type": "barpolar"
           }
          ],
          "carpet": [
           {
            "aaxis": {
             "endlinecolor": "#2a3f5f",
             "gridcolor": "white",
             "linecolor": "white",
             "minorgridcolor": "white",
             "startlinecolor": "#2a3f5f"
            },
            "baxis": {
             "endlinecolor": "#2a3f5f",
             "gridcolor": "white",
             "linecolor": "white",
             "minorgridcolor": "white",
             "startlinecolor": "#2a3f5f"
            },
            "type": "carpet"
           }
          ],
          "choropleth": [
           {
            "colorbar": {
             "outlinewidth": 0,
             "ticks": ""
            },
            "type": "choropleth"
           }
          ],
          "contour": [
           {
            "colorbar": {
             "outlinewidth": 0,
             "ticks": ""
            },
            "colorscale": [
             [
              0,
              "#0d0887"
             ],
             [
              0.1111111111111111,
              "#46039f"
             ],
             [
              0.2222222222222222,
              "#7201a8"
             ],
             [
              0.3333333333333333,
              "#9c179e"
             ],
             [
              0.4444444444444444,
              "#bd3786"
             ],
             [
              0.5555555555555556,
              "#d8576b"
             ],
             [
              0.6666666666666666,
              "#ed7953"
             ],
             [
              0.7777777777777778,
              "#fb9f3a"
             ],
             [
              0.8888888888888888,
              "#fdca26"
             ],
             [
              1,
              "#f0f921"
             ]
            ],
            "type": "contour"
           }
          ],
          "contourcarpet": [
           {
            "colorbar": {
             "outlinewidth": 0,
             "ticks": ""
            },
            "type": "contourcarpet"
           }
          ],
          "heatmap": [
           {
            "colorbar": {
             "outlinewidth": 0,
             "ticks": ""
            },
            "colorscale": [
             [
              0,
              "#0d0887"
             ],
             [
              0.1111111111111111,
              "#46039f"
             ],
             [
              0.2222222222222222,
              "#7201a8"
             ],
             [
              0.3333333333333333,
              "#9c179e"
             ],
             [
              0.4444444444444444,
              "#bd3786"
             ],
             [
              0.5555555555555556,
              "#d8576b"
             ],
             [
              0.6666666666666666,
              "#ed7953"
             ],
             [
              0.7777777777777778,
              "#fb9f3a"
             ],
             [
              0.8888888888888888,
              "#fdca26"
             ],
             [
              1,
              "#f0f921"
             ]
            ],
            "type": "heatmap"
           }
          ],
          "heatmapgl": [
           {
            "colorbar": {
             "outlinewidth": 0,
             "ticks": ""
            },
            "colorscale": [
             [
              0,
              "#0d0887"
             ],
             [
              0.1111111111111111,
              "#46039f"
             ],
             [
              0.2222222222222222,
              "#7201a8"
             ],
             [
              0.3333333333333333,
              "#9c179e"
             ],
             [
              0.4444444444444444,
              "#bd3786"
             ],
             [
              0.5555555555555556,
              "#d8576b"
             ],
             [
              0.6666666666666666,
              "#ed7953"
             ],
             [
              0.7777777777777778,
              "#fb9f3a"
             ],
             [
              0.8888888888888888,
              "#fdca26"
             ],
             [
              1,
              "#f0f921"
             ]
            ],
            "type": "heatmapgl"
           }
          ],
          "histogram": [
           {
            "marker": {
             "pattern": {
              "fillmode": "overlay",
              "size": 10,
              "solidity": 0.2
             }
            },
            "type": "histogram"
           }
          ],
          "histogram2d": [
           {
            "colorbar": {
             "outlinewidth": 0,
             "ticks": ""
            },
            "colorscale": [
             [
              0,
              "#0d0887"
             ],
             [
              0.1111111111111111,
              "#46039f"
             ],
             [
              0.2222222222222222,
              "#7201a8"
             ],
             [
              0.3333333333333333,
              "#9c179e"
             ],
             [
              0.4444444444444444,
              "#bd3786"
             ],
             [
              0.5555555555555556,
              "#d8576b"
             ],
             [
              0.6666666666666666,
              "#ed7953"
             ],
             [
              0.7777777777777778,
              "#fb9f3a"
             ],
             [
              0.8888888888888888,
              "#fdca26"
             ],
             [
              1,
              "#f0f921"
             ]
            ],
            "type": "histogram2d"
           }
          ],
          "histogram2dcontour": [
           {
            "colorbar": {
             "outlinewidth": 0,
             "ticks": ""
            },
            "colorscale": [
             [
              0,
              "#0d0887"
             ],
             [
              0.1111111111111111,
              "#46039f"
             ],
             [
              0.2222222222222222,
              "#7201a8"
             ],
             [
              0.3333333333333333,
              "#9c179e"
             ],
             [
              0.4444444444444444,
              "#bd3786"
             ],
             [
              0.5555555555555556,
              "#d8576b"
             ],
             [
              0.6666666666666666,
              "#ed7953"
             ],
             [
              0.7777777777777778,
              "#fb9f3a"
             ],
             [
              0.8888888888888888,
              "#fdca26"
             ],
             [
              1,
              "#f0f921"
             ]
            ],
            "type": "histogram2dcontour"
           }
          ],
          "mesh3d": [
           {
            "colorbar": {
             "outlinewidth": 0,
             "ticks": ""
            },
            "type": "mesh3d"
           }
          ],
          "parcoords": [
           {
            "line": {
             "colorbar": {
              "outlinewidth": 0,
              "ticks": ""
             }
            },
            "type": "parcoords"
           }
          ],
          "pie": [
           {
            "automargin": true,
            "type": "pie"
           }
          ],
          "scatter": [
           {
            "marker": {
             "colorbar": {
              "outlinewidth": 0,
              "ticks": ""
             }
            },
            "type": "scatter"
           }
          ],
          "scatter3d": [
           {
            "line": {
             "colorbar": {
              "outlinewidth": 0,
              "ticks": ""
             }
            },
            "marker": {
             "colorbar": {
              "outlinewidth": 0,
              "ticks": ""
             }
            },
            "type": "scatter3d"
           }
          ],
          "scattercarpet": [
           {
            "marker": {
             "colorbar": {
              "outlinewidth": 0,
              "ticks": ""
             }
            },
            "type": "scattercarpet"
           }
          ],
          "scattergeo": [
           {
            "marker": {
             "colorbar": {
              "outlinewidth": 0,
              "ticks": ""
             }
            },
            "type": "scattergeo"
           }
          ],
          "scattergl": [
           {
            "marker": {
             "colorbar": {
              "outlinewidth": 0,
              "ticks": ""
             }
            },
            "type": "scattergl"
           }
          ],
          "scattermapbox": [
           {
            "marker": {
             "colorbar": {
              "outlinewidth": 0,
              "ticks": ""
             }
            },
            "type": "scattermapbox"
           }
          ],
          "scatterpolar": [
           {
            "marker": {
             "colorbar": {
              "outlinewidth": 0,
              "ticks": ""
             }
            },
            "type": "scatterpolar"
           }
          ],
          "scatterpolargl": [
           {
            "marker": {
             "colorbar": {
              "outlinewidth": 0,
              "ticks": ""
             }
            },
            "type": "scatterpolargl"
           }
          ],
          "scatterternary": [
           {
            "marker": {
             "colorbar": {
              "outlinewidth": 0,
              "ticks": ""
             }
            },
            "type": "scatterternary"
           }
          ],
          "surface": [
           {
            "colorbar": {
             "outlinewidth": 0,
             "ticks": ""
            },
            "colorscale": [
             [
              0,
              "#0d0887"
             ],
             [
              0.1111111111111111,
              "#46039f"
             ],
             [
              0.2222222222222222,
              "#7201a8"
             ],
             [
              0.3333333333333333,
              "#9c179e"
             ],
             [
              0.4444444444444444,
              "#bd3786"
             ],
             [
              0.5555555555555556,
              "#d8576b"
             ],
             [
              0.6666666666666666,
              "#ed7953"
             ],
             [
              0.7777777777777778,
              "#fb9f3a"
             ],
             [
              0.8888888888888888,
              "#fdca26"
             ],
             [
              1,
              "#f0f921"
             ]
            ],
            "type": "surface"
           }
          ],
          "table": [
           {
            "cells": {
             "fill": {
              "color": "#EBF0F8"
             },
             "line": {
              "color": "white"
             }
            },
            "header": {
             "fill": {
              "color": "#C8D4E3"
             },
             "line": {
              "color": "white"
             }
            },
            "type": "table"
           }
          ]
         },
         "layout": {
          "annotationdefaults": {
           "arrowcolor": "#2a3f5f",
           "arrowhead": 0,
           "arrowwidth": 1
          },
          "autotypenumbers": "strict",
          "coloraxis": {
           "colorbar": {
            "outlinewidth": 0,
            "ticks": ""
           }
          },
          "colorscale": {
           "diverging": [
            [
             0,
             "#8e0152"
            ],
            [
             0.1,
             "#c51b7d"
            ],
            [
             0.2,
             "#de77ae"
            ],
            [
             0.3,
             "#f1b6da"
            ],
            [
             0.4,
             "#fde0ef"
            ],
            [
             0.5,
             "#f7f7f7"
            ],
            [
             0.6,
             "#e6f5d0"
            ],
            [
             0.7,
             "#b8e186"
            ],
            [
             0.8,
             "#7fbc41"
            ],
            [
             0.9,
             "#4d9221"
            ],
            [
             1,
             "#276419"
            ]
           ],
           "sequential": [
            [
             0,
             "#0d0887"
            ],
            [
             0.1111111111111111,
             "#46039f"
            ],
            [
             0.2222222222222222,
             "#7201a8"
            ],
            [
             0.3333333333333333,
             "#9c179e"
            ],
            [
             0.4444444444444444,
             "#bd3786"
            ],
            [
             0.5555555555555556,
             "#d8576b"
            ],
            [
             0.6666666666666666,
             "#ed7953"
            ],
            [
             0.7777777777777778,
             "#fb9f3a"
            ],
            [
             0.8888888888888888,
             "#fdca26"
            ],
            [
             1,
             "#f0f921"
            ]
           ],
           "sequentialminus": [
            [
             0,
             "#0d0887"
            ],
            [
             0.1111111111111111,
             "#46039f"
            ],
            [
             0.2222222222222222,
             "#7201a8"
            ],
            [
             0.3333333333333333,
             "#9c179e"
            ],
            [
             0.4444444444444444,
             "#bd3786"
            ],
            [
             0.5555555555555556,
             "#d8576b"
            ],
            [
             0.6666666666666666,
             "#ed7953"
            ],
            [
             0.7777777777777778,
             "#fb9f3a"
            ],
            [
             0.8888888888888888,
             "#fdca26"
            ],
            [
             1,
             "#f0f921"
            ]
           ]
          },
          "colorway": [
           "#636efa",
           "#EF553B",
           "#00cc96",
           "#ab63fa",
           "#FFA15A",
           "#19d3f3",
           "#FF6692",
           "#B6E880",
           "#FF97FF",
           "#FECB52"
          ],
          "font": {
           "color": "#2a3f5f"
          },
          "geo": {
           "bgcolor": "white",
           "lakecolor": "white",
           "landcolor": "#E5ECF6",
           "showlakes": true,
           "showland": true,
           "subunitcolor": "white"
          },
          "hoverlabel": {
           "align": "left"
          },
          "hovermode": "closest",
          "mapbox": {
           "style": "light"
          },
          "paper_bgcolor": "white",
          "plot_bgcolor": "#E5ECF6",
          "polar": {
           "angularaxis": {
            "gridcolor": "white",
            "linecolor": "white",
            "ticks": ""
           },
           "bgcolor": "#E5ECF6",
           "radialaxis": {
            "gridcolor": "white",
            "linecolor": "white",
            "ticks": ""
           }
          },
          "scene": {
           "xaxis": {
            "backgroundcolor": "#E5ECF6",
            "gridcolor": "white",
            "gridwidth": 2,
            "linecolor": "white",
            "showbackground": true,
            "ticks": "",
            "zerolinecolor": "white"
           },
           "yaxis": {
            "backgroundcolor": "#E5ECF6",
            "gridcolor": "white",
            "gridwidth": 2,
            "linecolor": "white",
            "showbackground": true,
            "ticks": "",
            "zerolinecolor": "white"
           },
           "zaxis": {
            "backgroundcolor": "#E5ECF6",
            "gridcolor": "white",
            "gridwidth": 2,
            "linecolor": "white",
            "showbackground": true,
            "ticks": "",
            "zerolinecolor": "white"
           }
          },
          "shapedefaults": {
           "line": {
            "color": "#2a3f5f"
           }
          },
          "ternary": {
           "aaxis": {
            "gridcolor": "white",
            "linecolor": "white",
            "ticks": ""
           },
           "baxis": {
            "gridcolor": "white",
            "linecolor": "white",
            "ticks": ""
           },
           "bgcolor": "#E5ECF6",
           "caxis": {
            "gridcolor": "white",
            "linecolor": "white",
            "ticks": ""
           }
          },
          "title": {
           "x": 0.05
          },
          "xaxis": {
           "automargin": true,
           "gridcolor": "white",
           "linecolor": "white",
           "ticks": "",
           "title": {
            "standoff": 15
           },
           "zerolinecolor": "white",
           "zerolinewidth": 2
          },
          "yaxis": {
           "automargin": true,
           "gridcolor": "white",
           "linecolor": "white",
           "ticks": "",
           "title": {
            "standoff": 15
           },
           "zerolinecolor": "white",
           "zerolinewidth": 2
          }
         }
        },
        "title": {
         "font": {
          "color": "red",
          "size": 25
         },
         "text": "Literacy Rate by State"
        },
        "xaxis": {
         "anchor": "y",
         "domain": [
          0,
          0.49
         ],
         "title": {
          "text": "Literacy_Rate"
         }
        },
        "xaxis2": {
         "anchor": "y2",
         "domain": [
          0.51,
          1
         ],
         "matches": "x",
         "title": {
          "text": "Literacy_Rate"
         }
        },
        "yaxis": {
         "anchor": "x",
         "domain": [
          0,
          1
         ],
         "title": {
          "text": "STATE_UT"
         }
        },
        "yaxis2": {
         "anchor": "x2",
         "domain": [
          0,
          1
         ],
         "matches": "y",
         "showticklabels": false
        }
       }
      },
      "text/html": [
       "<div>                            <div id=\"f99c760c-e6c1-402b-9783-1f245fa3ff2e\" class=\"plotly-graph-div\" style=\"height:1000px; width:100%;\"></div>            <script type=\"text/javascript\">                require([\"plotly\"], function(Plotly) {                    window.PLOTLYENV=window.PLOTLYENV || {};                                    if (document.getElementById(\"f99c760c-e6c1-402b-9783-1f245fa3ff2e\")) {                    Plotly.newPlot(                        \"f99c760c-e6c1-402b-9783-1f245fa3ff2e\",                        [{\"alignmentgroup\":\"True\",\"customdata\":[[\"2011\",\"Rural\",\"59.8%\"],[\"2011\",\"Rural\",\"59.9%\"],[\"2011\",\"Rural\",\"60.4%\"],[\"2011\",\"Rural\",\"61.1%\"],[\"2011\",\"Rural\",\"61.4%\"],[\"2011\",\"Rural\",\"63.2%\"],[\"2011\",\"Rural\",\"63.9%\"],[\"2011\",\"Rural\",\"64.1%\"],[\"2011\",\"Rural\",\"65.5%\"],[\"2011\",\"Rural\",\"66.0%\"],[\"2011\",\"Rural\",\"68.7%\"],[\"2011\",\"Rural\",\"69.3%\"],[\"2011\",\"Rural\",\"69.9%\"],[\"2011\",\"Rural\",\"70.2%\"],[\"2011\",\"Rural\",\"71.4%\"],[\"2011\",\"Rural\",\"71.4%\"],[\"2011\",\"Rural\",\"71.7%\"],[\"2011\",\"Rural\",\"72.1%\"],[\"2011\",\"Rural\",\"73.4%\"],[\"2011\",\"Rural\",\"73.5%\"],[\"2011\",\"Rural\",\"75.3%\"],[\"2011\",\"Rural\",\"76.3%\"],[\"2011\",\"Rural\",\"77.0%\"],[\"2011\",\"Rural\",\"78.9%\"],[\"2011\",\"Rural\",\"80.1%\"],[\"2011\",\"Rural\",\"80.7%\"],[\"2011\",\"Rural\",\"81.4%\"],[\"2011\",\"Rural\",\"81.9%\"],[\"2011\",\"Rural\",\"81.9%\"],[\"2011\",\"Rural\",\"84.1%\"],[\"2011\",\"Rural\",\"84.5%\"],[\"2011\",\"Rural\",\"84.9%\"],[\"2011\",\"Rural\",\"86.6%\"],[\"2011\",\"Rural\",\"91.6%\"],[\"2011\",\"Rural\",\"93.0%\"]],\"hovertemplate\":\"Typ=%{customdata[1]}<br>Year=%{customdata[0]}<br>Literacy_Rate=%{x}<br>STATE_UT=%{y}<br>Literacy_Rate_lab=%{customdata[2]}<extra></extra>\",\"legendgroup\":\"Rural\",\"marker\":{\"color\":\"#636efa\",\"pattern\":{\"shape\":\"\"}},\"name\":\"Rural\",\"offsetgroup\":\"Rural\",\"orientation\":\"h\",\"showlegend\":true,\"text\":[\"59.8%\",\"59.9%\",\"60.4%\",\"61.1%\",\"61.4%\",\"63.2%\",\"63.9%\",\"64.1%\",\"65.5%\",\"66.0%\",\"68.7%\",\"69.3%\",\"69.9%\",\"70.2%\",\"71.4%\",\"71.4%\",\"71.7%\",\"72.1%\",\"73.4%\",\"73.5%\",\"75.3%\",\"76.3%\",\"77.0%\",\"78.9%\",\"80.1%\",\"80.7%\",\"81.4%\",\"81.9%\",\"81.9%\",\"84.1%\",\"84.5%\",\"84.9%\",\"86.6%\",\"91.6%\",\"93.0%\"],\"textposition\":\"auto\",\"type\":\"bar\",\"x\":[59.8,59.9,60.4,61.1,61.4,63.2,63.9,64.1,65.5,66.0,68.7,69.3,69.9,70.2,71.4,71.4,71.7,72.1,73.4,73.5,75.3,76.3,77.0,78.9,80.1,80.7,81.4,81.9,81.9,84.1,84.5,84.9,86.6,91.6,93.0],\"xaxis\":\"x\",\"y\":[\"Bihar\",\"Arunachal Pradesh\",\"Andhra Pradesh\",\"Jharkhand\",\"Rajasthan\",\"Jammu & Kashmir\",\"Madhya Pradesh\",\"D & N Haveli\",\"Uttar Pradesh\",\"Chhattisgarh\",\"Karnataka\",\"Assam\",\"Meghalaya\",\"Odisha\",\"Haryana\",\"Punjab\",\"Gujarat\",\"West Bengal\",\"Manipur\",\"Tamil Nadu\",\"Nagaland\",\"Uttarakhand\",\"Maharashtra\",\"Sikkim\",\"Puducherry\",\"Chandigarh\",\"Daman & Diu\",\"Himachal Pradesh\",\"NCT of Delhi\",\"Mizoram\",\"A & N Islands\",\"Tripura\",\"Goa\",\"Lakshadweep\",\"Kerala\"],\"yaxis\":\"y\"},{\"alignmentgroup\":\"True\",\"customdata\":[[\"2001\",\"Rural\",\"43.9%\"],[\"2001\",\"Rural\",\"45.7%\"],[\"2001\",\"Rural\",\"47.8%\"],[\"2001\",\"Rural\",\"49.3%\"],[\"2001\",\"Rural\",\"49.8%\"],[\"2001\",\"Rural\",\"52.5%\"],[\"2001\",\"Rural\",\"54.5%\"],[\"2001\",\"Rural\",\"55.3%\"],[\"2001\",\"Rural\",\"56.3%\"],[\"2001\",\"Rural\",\"57.8%\"],[\"2001\",\"Rural\",\"59.3%\"],[\"2001\",\"Rural\",\"59.7%\"],[\"2001\",\"Rural\",\"59.8%\"],[\"2001\",\"Rural\",\"60.5%\"],[\"2001\",\"Rural\",\"61.3%\"],[\"2001\",\"Rural\",\"62.8%\"],[\"2001\",\"Rural\",\"63.2%\"],[\"2001\",\"Rural\",\"63.4%\"],[\"2001\",\"Rural\",\"64.7%\"],[\"2001\",\"Rural\",\"66.2%\"],[\"2001\",\"Rural\",\"66.8%\"],[\"2001\",\"Rural\",\"67.3%\"],[\"2001\",\"Rural\",\"68.1%\"],[\"2001\",\"Rural\",\"69.7%\"],[\"2001\",\"Rural\",\"70.4%\"],[\"2001\",\"Rural\",\"74.0%\"],[\"2001\",\"Rural\",\"75.1%\"],[\"2001\",\"Rural\",\"75.6%\"],[\"2001\",\"Rural\",\"75.8%\"],[\"2001\",\"Rural\",\"78.1%\"],[\"2001\",\"Rural\",\"78.7%\"],[\"2001\",\"Rural\",\"79.7%\"],[\"2001\",\"Rural\",\"81.3%\"],[\"2001\",\"Rural\",\"85.0%\"],[\"2001\",\"Rural\",\"90.0%\"]],\"hovertemplate\":\"Typ=%{customdata[1]}<br>Year=%{customdata[0]}<br>Literacy_Rate=%{x}<br>STATE_UT=%{y}<br>Literacy_Rate_lab=%{customdata[2]}<extra></extra>\",\"legendgroup\":\"Rural\",\"marker\":{\"color\":\"#636efa\",\"pattern\":{\"shape\":\"\"}},\"name\":\"Rural\",\"offsetgroup\":\"Rural\",\"orientation\":\"h\",\"showlegend\":false,\"text\":[\"43.9%\",\"45.7%\",\"47.8%\",\"49.3%\",\"49.8%\",\"52.5%\",\"54.5%\",\"55.3%\",\"56.3%\",\"57.8%\",\"59.3%\",\"59.7%\",\"59.8%\",\"60.5%\",\"61.3%\",\"62.8%\",\"63.2%\",\"63.4%\",\"64.7%\",\"66.2%\",\"66.8%\",\"67.3%\",\"68.1%\",\"69.7%\",\"70.4%\",\"74.0%\",\"75.1%\",\"75.6%\",\"75.8%\",\"78.1%\",\"78.7%\",\"79.7%\",\"81.3%\",\"85.0%\",\"90.0%\"],\"textposition\":\"auto\",\"type\":\"bar\",\"x\":[43.9,45.7,47.8,49.3,49.8,52.5,54.5,55.3,56.3,57.8,59.3,59.7,59.8,60.5,61.3,62.8,63.2,63.4,64.7,66.2,66.8,67.3,68.1,69.7,70.4,74.0,75.1,75.6,75.8,78.1,78.7,79.7,81.3,85.0,90.0],\"xaxis\":\"x2\",\"y\":[\"Bihar\",\"Jharkhand\",\"Arunachal Pradesh\",\"D & N Haveli\",\"Jammu & Kashmir\",\"Uttar Pradesh\",\"Andhra Pradesh\",\"Rajasthan\",\"Meghalaya\",\"Madhya Pradesh\",\"Karnataka\",\"Assam\",\"Odisha\",\"Chhattisgarh\",\"Gujarat\",\"Nagaland\",\"Haryana\",\"West Bengal\",\"Punjab\",\"Tamil Nadu\",\"Sikkim\",\"Manipur\",\"Uttarakhand\",\"Tripura\",\"Maharashtra\",\"Puducherry\",\"Himachal Pradesh\",\"Chandigarh\",\"Daman & Diu\",\"NCT of Delhi\",\"A & N Islands\",\"Goa\",\"Mizoram\",\"Lakshadweep\",\"Kerala\"],\"yaxis\":\"y2\"},{\"alignmentgroup\":\"True\",\"customdata\":[[\"2011\",\"Urban\",\"75.1%\"],[\"2011\",\"Urban\",\"76.9%\"],[\"2011\",\"Urban\",\"77.1%\"],[\"2011\",\"Urban\",\"79.7%\"],[\"2011\",\"Urban\",\"80.1%\"],[\"2011\",\"Urban\",\"82.3%\"],[\"2011\",\"Urban\",\"82.8%\"],[\"2011\",\"Urban\",\"82.9%\"],[\"2011\",\"Urban\",\"83.1%\"],[\"2011\",\"Urban\",\"83.2%\"],[\"2011\",\"Urban\",\"84.0%\"],[\"2011\",\"Urban\",\"84.5%\"],[\"2011\",\"Urban\",\"84.8%\"],[\"2011\",\"Urban\",\"85.4%\"],[\"2011\",\"Urban\",\"85.7%\"],[\"2011\",\"Urban\",\"85.8%\"],[\"2011\",\"Urban\",\"86.2%\"],[\"2011\",\"Urban\",\"86.3%\"],[\"2011\",\"Urban\",\"86.3%\"],[\"2011\",\"Urban\",\"87.0%\"],[\"2011\",\"Urban\",\"88.5%\"],[\"2011\",\"Urban\",\"88.5%\"],[\"2011\",\"Urban\",\"88.7%\"],[\"2011\",\"Urban\",\"88.7%\"],[\"2011\",\"Urban\",\"89.0%\"],[\"2011\",\"Urban\",\"89.6%\"],[\"2011\",\"Urban\",\"89.8%\"],[\"2011\",\"Urban\",\"90.0%\"],[\"2011\",\"Urban\",\"90.1%\"],[\"2011\",\"Urban\",\"90.8%\"],[\"2011\",\"Urban\",\"91.1%\"],[\"2011\",\"Urban\",\"91.9%\"],[\"2011\",\"Urban\",\"93.5%\"],[\"2011\",\"Urban\",\"95.1%\"],[\"2011\",\"Urban\",\"97.6%\"]],\"hovertemplate\":\"Typ=%{customdata[1]}<br>Year=%{customdata[0]}<br>Literacy_Rate=%{x}<br>STATE_UT=%{y}<br>Literacy_Rate_lab=%{customdata[2]}<extra></extra>\",\"legendgroup\":\"Urban\",\"marker\":{\"color\":\"#EF553B\",\"pattern\":{\"shape\":\"\"}},\"name\":\"Urban\",\"offsetgroup\":\"Urban\",\"orientation\":\"h\",\"showlegend\":true,\"text\":[\"75.1%\",\"76.9%\",\"77.1%\",\"79.7%\",\"80.1%\",\"82.3%\",\"82.8%\",\"82.9%\",\"83.1%\",\"83.2%\",\"84.0%\",\"84.5%\",\"84.8%\",\"85.4%\",\"85.7%\",\"85.8%\",\"86.2%\",\"86.3%\",\"86.3%\",\"87.0%\",\"88.5%\",\"88.5%\",\"88.7%\",\"88.7%\",\"89.0%\",\"89.6%\",\"89.8%\",\"90.0%\",\"90.1%\",\"90.8%\",\"91.1%\",\"91.9%\",\"93.5%\",\"95.1%\",\"97.6%\"],\"textposition\":\"auto\",\"type\":\"bar\",\"x\":[75.1,76.9,77.1,79.7,80.1,82.3,82.8,82.9,83.1,83.2,84.0,84.5,84.8,85.4,85.7,85.8,86.2,86.3,86.3,87.0,88.5,88.5,88.7,88.7,89.0,89.6,89.8,90.0,90.1,90.8,91.1,91.9,93.5,95.1,97.6],\"xaxis\":\"x\",\"y\":[\"Uttar Pradesh\",\"Bihar\",\"Jammu & Kashmir\",\"Rajasthan\",\"Andhra Pradesh\",\"Jharkhand\",\"Madhya Pradesh\",\"Arunachal Pradesh\",\"Haryana\",\"Punjab\",\"Chhattisgarh\",\"Uttarakhand\",\"West Bengal\",\"Manipur\",\"Odisha\",\"Karnataka\",\"Chandigarh\",\"Gujarat\",\"NCT of Delhi\",\"Tamil Nadu\",\"Assam\",\"Puducherry\",\"Maharashtra\",\"Sikkim\",\"Daman & Diu\",\"Nagaland\",\"D & N Haveli\",\"Goa\",\"A & N Islands\",\"Meghalaya\",\"Himachal Pradesh\",\"Lakshadweep\",\"Tripura\",\"Kerala\",\"Mizoram\"],\"yaxis\":\"y\"},{\"alignmentgroup\":\"True\",\"customdata\":[[\"2001\",\"Urban\",\"69.8%\"],[\"2001\",\"Urban\",\"71.9%\"],[\"2001\",\"Urban\",\"71.9%\"],[\"2001\",\"Urban\",\"76.1%\"],[\"2001\",\"Urban\",\"76.2%\"],[\"2001\",\"Urban\",\"78.3%\"],[\"2001\",\"Urban\",\"79.1%\"],[\"2001\",\"Urban\",\"79.1%\"],[\"2001\",\"Urban\",\"79.2%\"],[\"2001\",\"Urban\",\"79.3%\"],[\"2001\",\"Urban\",\"79.4%\"],[\"2001\",\"Urban\",\"80.6%\"],[\"2001\",\"Urban\",\"80.6%\"],[\"2001\",\"Urban\",\"80.8%\"],[\"2001\",\"Urban\",\"81.2%\"],[\"2001\",\"Urban\",\"81.4%\"],[\"2001\",\"Urban\",\"81.8%\"],[\"2001\",\"Urban\",\"81.9%\"],[\"2001\",\"Urban\",\"82.3%\"],[\"2001\",\"Urban\",\"82.5%\"],[\"2001\",\"Urban\",\"82.6%\"],[\"2001\",\"Urban\",\"83.9%\"],[\"2001\",\"Urban\",\"84.4%\"],[\"2001\",\"Urban\",\"84.4%\"],[\"2001\",\"Urban\",\"84.7%\"],[\"2001\",\"Urban\",\"84.8%\"],[\"2001\",\"Urban\",\"85.3%\"],[\"2001\",\"Urban\",\"85.5%\"],[\"2001\",\"Urban\",\"86.3%\"],[\"2001\",\"Urban\",\"86.6%\"],[\"2001\",\"Urban\",\"88.6%\"],[\"2001\",\"Urban\",\"88.9%\"],[\"2001\",\"Urban\",\"89.2%\"],[\"2001\",\"Urban\",\"93.2%\"],[\"2001\",\"Urban\",\"96.1%\"]],\"hovertemplate\":\"Typ=%{customdata[1]}<br>Year=%{customdata[0]}<br>Literacy_Rate=%{x}<br>STATE_UT=%{y}<br>Literacy_Rate_lab=%{customdata[2]}<extra></extra>\",\"legendgroup\":\"Urban\",\"marker\":{\"color\":\"#EF553B\",\"pattern\":{\"shape\":\"\"}},\"name\":\"Urban\",\"offsetgroup\":\"Urban\",\"orientation\":\"h\",\"showlegend\":false,\"text\":[\"69.8%\",\"71.9%\",\"71.9%\",\"76.1%\",\"76.2%\",\"78.3%\",\"79.1%\",\"79.1%\",\"79.2%\",\"79.3%\",\"79.4%\",\"80.6%\",\"80.6%\",\"80.8%\",\"81.2%\",\"81.4%\",\"81.8%\",\"81.9%\",\"82.3%\",\"82.5%\",\"82.6%\",\"83.9%\",\"84.4%\",\"84.4%\",\"84.7%\",\"84.8%\",\"85.3%\",\"85.5%\",\"86.3%\",\"86.6%\",\"88.6%\",\"88.9%\",\"89.2%\",\"93.2%\",\"96.1%\"],\"textposition\":\"auto\",\"type\":\"bar\",\"x\":[69.8,71.9,71.9,76.1,76.2,78.3,79.1,79.1,79.2,79.3,79.4,80.6,80.6,80.8,81.2,81.4,81.8,81.9,82.3,82.5,82.6,83.9,84.4,84.4,84.7,84.8,85.3,85.5,86.3,86.6,88.6,88.9,89.2,93.2,96.1],\"xaxis\":\"x2\",\"y\":[\"Uttar Pradesh\",\"Bihar\",\"Jammu & Kashmir\",\"Andhra Pradesh\",\"Rajasthan\",\"Arunachal Pradesh\",\"Jharkhand\",\"Punjab\",\"Haryana\",\"Manipur\",\"Madhya Pradesh\",\"Chhattisgarh\",\"Karnataka\",\"Odisha\",\"West Bengal\",\"Uttarakhand\",\"Gujarat\",\"NCT of Delhi\",\"Daman & Diu\",\"Tamil Nadu\",\"Chandigarh\",\"Sikkim\",\"D & N Haveli\",\"Goa\",\"Nagaland\",\"Puducherry\",\"Assam\",\"Maharashtra\",\"Meghalaya\",\"A & N Islands\",\"Lakshadweep\",\"Himachal Pradesh\",\"Tripura\",\"Kerala\",\"Mizoram\"],\"yaxis\":\"y2\"}],                        {\"annotations\":[{\"font\":{},\"showarrow\":false,\"text\":\"Year=2011\",\"x\":0.245,\"xanchor\":\"center\",\"xref\":\"paper\",\"y\":1.0,\"yanchor\":\"bottom\",\"yref\":\"paper\"},{\"font\":{},\"showarrow\":false,\"text\":\"Year=2001\",\"x\":0.755,\"xanchor\":\"center\",\"xref\":\"paper\",\"y\":1.0,\"yanchor\":\"bottom\",\"yref\":\"paper\"}],\"barmode\":\"relative\",\"font\":{\"family\":\"Courier New\"},\"height\":1000,\"legend\":{\"title\":{\"font\":{\"color\":\"green\"},\"text\":\"Typ\"},\"tracegroupgap\":0},\"margin\":{\"t\":60},\"showlegend\":true,\"template\":{\"data\":{\"bar\":[{\"error_x\":{\"color\":\"#2a3f5f\"},\"error_y\":{\"color\":\"#2a3f5f\"},\"marker\":{\"line\":{\"color\":\"#E5ECF6\",\"width\":0.5},\"pattern\":{\"fillmode\":\"overlay\",\"size\":10,\"solidity\":0.2}},\"type\":\"bar\"}],\"barpolar\":[{\"marker\":{\"line\":{\"color\":\"#E5ECF6\",\"width\":0.5},\"pattern\":{\"fillmode\":\"overlay\",\"size\":10,\"solidity\":0.2}},\"type\":\"barpolar\"}],\"carpet\":[{\"aaxis\":{\"endlinecolor\":\"#2a3f5f\",\"gridcolor\":\"white\",\"linecolor\":\"white\",\"minorgridcolor\":\"white\",\"startlinecolor\":\"#2a3f5f\"},\"baxis\":{\"endlinecolor\":\"#2a3f5f\",\"gridcolor\":\"white\",\"linecolor\":\"white\",\"minorgridcolor\":\"white\",\"startlinecolor\":\"#2a3f5f\"},\"type\":\"carpet\"}],\"choropleth\":[{\"colorbar\":{\"outlinewidth\":0,\"ticks\":\"\"},\"type\":\"choropleth\"}],\"contour\":[{\"colorbar\":{\"outlinewidth\":0,\"ticks\":\"\"},\"colorscale\":[[0.0,\"#0d0887\"],[0.1111111111111111,\"#46039f\"],[0.2222222222222222,\"#7201a8\"],[0.3333333333333333,\"#9c179e\"],[0.4444444444444444,\"#bd3786\"],[0.5555555555555556,\"#d8576b\"],[0.6666666666666666,\"#ed7953\"],[0.7777777777777778,\"#fb9f3a\"],[0.8888888888888888,\"#fdca26\"],[1.0,\"#f0f921\"]],\"type\":\"contour\"}],\"contourcarpet\":[{\"colorbar\":{\"outlinewidth\":0,\"ticks\":\"\"},\"type\":\"contourcarpet\"}],\"heatmap\":[{\"colorbar\":{\"outlinewidth\":0,\"ticks\":\"\"},\"colorscale\":[[0.0,\"#0d0887\"],[0.1111111111111111,\"#46039f\"],[0.2222222222222222,\"#7201a8\"],[0.3333333333333333,\"#9c179e\"],[0.4444444444444444,\"#bd3786\"],[0.5555555555555556,\"#d8576b\"],[0.6666666666666666,\"#ed7953\"],[0.7777777777777778,\"#fb9f3a\"],[0.8888888888888888,\"#fdca26\"],[1.0,\"#f0f921\"]],\"type\":\"heatmap\"}],\"heatmapgl\":[{\"colorbar\":{\"outlinewidth\":0,\"ticks\":\"\"},\"colorscale\":[[0.0,\"#0d0887\"],[0.1111111111111111,\"#46039f\"],[0.2222222222222222,\"#7201a8\"],[0.3333333333333333,\"#9c179e\"],[0.4444444444444444,\"#bd3786\"],[0.5555555555555556,\"#d8576b\"],[0.6666666666666666,\"#ed7953\"],[0.7777777777777778,\"#fb9f3a\"],[0.8888888888888888,\"#fdca26\"],[1.0,\"#f0f921\"]],\"type\":\"heatmapgl\"}],\"histogram\":[{\"marker\":{\"pattern\":{\"fillmode\":\"overlay\",\"size\":10,\"solidity\":0.2}},\"type\":\"histogram\"}],\"histogram2d\":[{\"colorbar\":{\"outlinewidth\":0,\"ticks\":\"\"},\"colorscale\":[[0.0,\"#0d0887\"],[0.1111111111111111,\"#46039f\"],[0.2222222222222222,\"#7201a8\"],[0.3333333333333333,\"#9c179e\"],[0.4444444444444444,\"#bd3786\"],[0.5555555555555556,\"#d8576b\"],[0.6666666666666666,\"#ed7953\"],[0.7777777777777778,\"#fb9f3a\"],[0.8888888888888888,\"#fdca26\"],[1.0,\"#f0f921\"]],\"type\":\"histogram2d\"}],\"histogram2dcontour\":[{\"colorbar\":{\"outlinewidth\":0,\"ticks\":\"\"},\"colorscale\":[[0.0,\"#0d0887\"],[0.1111111111111111,\"#46039f\"],[0.2222222222222222,\"#7201a8\"],[0.3333333333333333,\"#9c179e\"],[0.4444444444444444,\"#bd3786\"],[0.5555555555555556,\"#d8576b\"],[0.6666666666666666,\"#ed7953\"],[0.7777777777777778,\"#fb9f3a\"],[0.8888888888888888,\"#fdca26\"],[1.0,\"#f0f921\"]],\"type\":\"histogram2dcontour\"}],\"mesh3d\":[{\"colorbar\":{\"outlinewidth\":0,\"ticks\":\"\"},\"type\":\"mesh3d\"}],\"parcoords\":[{\"line\":{\"colorbar\":{\"outlinewidth\":0,\"ticks\":\"\"}},\"type\":\"parcoords\"}],\"pie\":[{\"automargin\":true,\"type\":\"pie\"}],\"scatter\":[{\"marker\":{\"colorbar\":{\"outlinewidth\":0,\"ticks\":\"\"}},\"type\":\"scatter\"}],\"scatter3d\":[{\"line\":{\"colorbar\":{\"outlinewidth\":0,\"ticks\":\"\"}},\"marker\":{\"colorbar\":{\"outlinewidth\":0,\"ticks\":\"\"}},\"type\":\"scatter3d\"}],\"scattercarpet\":[{\"marker\":{\"colorbar\":{\"outlinewidth\":0,\"ticks\":\"\"}},\"type\":\"scattercarpet\"}],\"scattergeo\":[{\"marker\":{\"colorbar\":{\"outlinewidth\":0,\"ticks\":\"\"}},\"type\":\"scattergeo\"}],\"scattergl\":[{\"marker\":{\"colorbar\":{\"outlinewidth\":0,\"ticks\":\"\"}},\"type\":\"scattergl\"}],\"scattermapbox\":[{\"marker\":{\"colorbar\":{\"outlinewidth\":0,\"ticks\":\"\"}},\"type\":\"scattermapbox\"}],\"scatterpolar\":[{\"marker\":{\"colorbar\":{\"outlinewidth\":0,\"ticks\":\"\"}},\"type\":\"scatterpolar\"}],\"scatterpolargl\":[{\"marker\":{\"colorbar\":{\"outlinewidth\":0,\"ticks\":\"\"}},\"type\":\"scatterpolargl\"}],\"scatterternary\":[{\"marker\":{\"colorbar\":{\"outlinewidth\":0,\"ticks\":\"\"}},\"type\":\"scatterternary\"}],\"surface\":[{\"colorbar\":{\"outlinewidth\":0,\"ticks\":\"\"},\"colorscale\":[[0.0,\"#0d0887\"],[0.1111111111111111,\"#46039f\"],[0.2222222222222222,\"#7201a8\"],[0.3333333333333333,\"#9c179e\"],[0.4444444444444444,\"#bd3786\"],[0.5555555555555556,\"#d8576b\"],[0.6666666666666666,\"#ed7953\"],[0.7777777777777778,\"#fb9f3a\"],[0.8888888888888888,\"#fdca26\"],[1.0,\"#f0f921\"]],\"type\":\"surface\"}],\"table\":[{\"cells\":{\"fill\":{\"color\":\"#EBF0F8\"},\"line\":{\"color\":\"white\"}},\"header\":{\"fill\":{\"color\":\"#C8D4E3\"},\"line\":{\"color\":\"white\"}},\"type\":\"table\"}]},\"layout\":{\"annotationdefaults\":{\"arrowcolor\":\"#2a3f5f\",\"arrowhead\":0,\"arrowwidth\":1},\"autotypenumbers\":\"strict\",\"coloraxis\":{\"colorbar\":{\"outlinewidth\":0,\"ticks\":\"\"}},\"colorscale\":{\"diverging\":[[0,\"#8e0152\"],[0.1,\"#c51b7d\"],[0.2,\"#de77ae\"],[0.3,\"#f1b6da\"],[0.4,\"#fde0ef\"],[0.5,\"#f7f7f7\"],[0.6,\"#e6f5d0\"],[0.7,\"#b8e186\"],[0.8,\"#7fbc41\"],[0.9,\"#4d9221\"],[1,\"#276419\"]],\"sequential\":[[0.0,\"#0d0887\"],[0.1111111111111111,\"#46039f\"],[0.2222222222222222,\"#7201a8\"],[0.3333333333333333,\"#9c179e\"],[0.4444444444444444,\"#bd3786\"],[0.5555555555555556,\"#d8576b\"],[0.6666666666666666,\"#ed7953\"],[0.7777777777777778,\"#fb9f3a\"],[0.8888888888888888,\"#fdca26\"],[1.0,\"#f0f921\"]],\"sequentialminus\":[[0.0,\"#0d0887\"],[0.1111111111111111,\"#46039f\"],[0.2222222222222222,\"#7201a8\"],[0.3333333333333333,\"#9c179e\"],[0.4444444444444444,\"#bd3786\"],[0.5555555555555556,\"#d8576b\"],[0.6666666666666666,\"#ed7953\"],[0.7777777777777778,\"#fb9f3a\"],[0.8888888888888888,\"#fdca26\"],[1.0,\"#f0f921\"]]},\"colorway\":[\"#636efa\",\"#EF553B\",\"#00cc96\",\"#ab63fa\",\"#FFA15A\",\"#19d3f3\",\"#FF6692\",\"#B6E880\",\"#FF97FF\",\"#FECB52\"],\"font\":{\"color\":\"#2a3f5f\"},\"geo\":{\"bgcolor\":\"white\",\"lakecolor\":\"white\",\"landcolor\":\"#E5ECF6\",\"showlakes\":true,\"showland\":true,\"subunitcolor\":\"white\"},\"hoverlabel\":{\"align\":\"left\"},\"hovermode\":\"closest\",\"mapbox\":{\"style\":\"light\"},\"paper_bgcolor\":\"white\",\"plot_bgcolor\":\"#E5ECF6\",\"polar\":{\"angularaxis\":{\"gridcolor\":\"white\",\"linecolor\":\"white\",\"ticks\":\"\"},\"bgcolor\":\"#E5ECF6\",\"radialaxis\":{\"gridcolor\":\"white\",\"linecolor\":\"white\",\"ticks\":\"\"}},\"scene\":{\"xaxis\":{\"backgroundcolor\":\"#E5ECF6\",\"gridcolor\":\"white\",\"gridwidth\":2,\"linecolor\":\"white\",\"showbackground\":true,\"ticks\":\"\",\"zerolinecolor\":\"white\"},\"yaxis\":{\"backgroundcolor\":\"#E5ECF6\",\"gridcolor\":\"white\",\"gridwidth\":2,\"linecolor\":\"white\",\"showbackground\":true,\"ticks\":\"\",\"zerolinecolor\":\"white\"},\"zaxis\":{\"backgroundcolor\":\"#E5ECF6\",\"gridcolor\":\"white\",\"gridwidth\":2,\"linecolor\":\"white\",\"showbackground\":true,\"ticks\":\"\",\"zerolinecolor\":\"white\"}},\"shapedefaults\":{\"line\":{\"color\":\"#2a3f5f\"}},\"ternary\":{\"aaxis\":{\"gridcolor\":\"white\",\"linecolor\":\"white\",\"ticks\":\"\"},\"baxis\":{\"gridcolor\":\"white\",\"linecolor\":\"white\",\"ticks\":\"\"},\"bgcolor\":\"#E5ECF6\",\"caxis\":{\"gridcolor\":\"white\",\"linecolor\":\"white\",\"ticks\":\"\"}},\"title\":{\"x\":0.05},\"xaxis\":{\"automargin\":true,\"gridcolor\":\"white\",\"linecolor\":\"white\",\"ticks\":\"\",\"title\":{\"standoff\":15},\"zerolinecolor\":\"white\",\"zerolinewidth\":2},\"yaxis\":{\"automargin\":true,\"gridcolor\":\"white\",\"linecolor\":\"white\",\"ticks\":\"\",\"title\":{\"standoff\":15},\"zerolinecolor\":\"white\",\"zerolinewidth\":2}}},\"title\":{\"font\":{\"color\":\"red\",\"size\":25},\"text\":\"Literacy Rate by State\"},\"xaxis\":{\"anchor\":\"y\",\"domain\":[0.0,0.49],\"title\":{\"text\":\"Literacy_Rate\"}},\"xaxis2\":{\"anchor\":\"y2\",\"domain\":[0.51,1.0],\"matches\":\"x\",\"title\":{\"text\":\"Literacy_Rate\"}},\"yaxis\":{\"anchor\":\"x\",\"domain\":[0.0,1.0],\"title\":{\"text\":\"STATE_UT\"}},\"yaxis2\":{\"anchor\":\"x2\",\"domain\":[0.0,1.0],\"matches\":\"y\",\"showticklabels\":false}},                        {\"responsive\": true}                    ).then(function(){\n",
       "                            \n",
       "var gd = document.getElementById('f99c760c-e6c1-402b-9783-1f245fa3ff2e');\n",
       "var x = new MutationObserver(function (mutations, observer) {{\n",
       "        var display = window.getComputedStyle(gd).display;\n",
       "        if (!display || display === 'none') {{\n",
       "            console.log([gd, 'removed!']);\n",
       "            Plotly.purge(gd);\n",
       "            observer.disconnect();\n",
       "        }}\n",
       "}});\n",
       "\n",
       "// Listen for the removal of the full notebook cells\n",
       "var notebookContainer = gd.closest('#notebook-container');\n",
       "if (notebookContainer) {{\n",
       "    x.observe(notebookContainer, {childList: true});\n",
       "}}\n",
       "\n",
       "// Listen for the clearing of the current output cell\n",
       "var outputEl = gd.closest('.output');\n",
       "if (outputEl) {{\n",
       "    x.observe(outputEl, {childList: true});\n",
       "}}\n",
       "\n",
       "                        })                };                });            </script>        </div>"
      ]
     },
     "metadata": {},
     "output_type": "display_data"
    }
   ],
   "source": [
    "q1=df2.query(\"Typ!='Total'\").groupby(['STATE_UT','Year','Typ']).agg({\"Literacy_Rate\":\"mean\"}).reset_index().sort_values(by=['Year','Literacy_Rate'],ascending=[False,True])\n",
    "q1['Literacy_Rate_lab']=q1['Literacy_Rate'].apply(lambda x: \"{:.1%}\".format(x/100))\n",
    "fig=px.bar(q1,x='Literacy_Rate',y='STATE_UT',orientation='h',facet_col='Year',color='Typ',hover_data=q1.columns,text='Literacy_Rate_lab',height=1000)\n",
    "fig.update_layout({\"showlegend\":True,\"title\":\"Literacy Rate by State\",\"title_font_size\":25,\"font_family\":\"Courier New\",\"title_font_color\":\"red\",\"legend_title_font_color\":\"green\"})\n",
    "fig.write_image(format='png',file='Literacy Rate by State.png',validate=True)\n",
    "fig.show()"
   ]
  },
  {
   "cell_type": "code",
   "execution_count": 48,
   "id": "0bb112b1",
   "metadata": {},
   "outputs": [
    {
     "data": {
      "application/vnd.plotly.v1+json": {
       "config": {
        "plotlyServerURL": "https://plot.ly"
       },
       "data": [
        {
         "alignmentgroup": "True",
         "customdata": [
          [
           88.73333333333333,
           91,
           "2.3%"
          ],
          [
           91.36666666666667,
           94.03333333333335,
           "2.7%"
          ],
          [
           80.56666666666666,
           84.8,
           "4.2%"
          ],
          [
           80.03333333333333,
           84.3,
           "4.3%"
          ],
          [
           80,
           84.8,
           "4.8%"
          ],
          [
           68.60000000000001,
           73.43333333333334,
           "4.8%"
          ],
          [
           82.2,
           87.06666666666666,
           "4.9%"
          ],
          [
           86.76666666666667,
           91.76666666666667,
           "5.0%"
          ],
          [
           66.96666666666667,
           72,
           "5.0%"
          ],
          [
           77.60000000000001,
           82.66666666666667,
           "5.1%"
          ],
          [
           80.16666666666667,
           85.26666666666667,
           "5.1%"
          ],
          [
           63.96666666666667,
           69.06666666666666,
           "5.1%"
          ],
          [
           63.699999999999996,
           69.16666666666667,
           "5.5%"
          ],
          [
           71.16666666666667,
           76.8,
           "5.6%"
          ],
          [
           74.06666666666666,
           80.2,
           "6.1%"
          ],
          [
           73.7,
           79.86666666666666,
           "6.2%"
          ],
          [
           72.36666666666666,
           78.56666666666668,
           "6.2%"
          ],
          [
           82.03333333333335,
           88.43333333333334,
           "6.4%"
          ],
          [
           70.10000000000001,
           76.7,
           "6.6%"
          ],
          [
           71.06666666666666,
           77.73333333333333,
           "6.7%"
          ],
          [
           78.76666666666667,
           85.83333333333333,
           "7.1%"
          ],
          [
           69.43333333333334,
           76.66666666666667,
           "7.2%"
          ],
          [
           68.83333333333333,
           76.63333333333334,
           "7.8%"
          ],
          [
           70.73333333333333,
           78.66666666666667,
           "7.9%"
          ],
          [
           67.89999999999999,
           76.26666666666667,
           "8.4%"
          ],
          [
           60.133333333333326,
           69.4,
           "9.3%"
          ],
          [
           73.16666666666667,
           83,
           "9.8%"
          ],
          [
           59.53333333333333,
           69.43333333333334,
           "9.9%"
          ],
          [
           68.39999999999999,
           78.36666666666667,
           "10.0%"
          ],
          [
           59.06666666666666,
           69.16666666666667,
           "10.1%"
          ],
          [
           71.36666666666666,
           81.5,
           "10.1%"
          ],
          [
           59.46666666666667,
           69.93333333333334,
           "10.5%"
          ],
          [
           77.36666666666667,
           88.53333333333335,
           "11.2%"
          ],
          [
           54.26666666666667,
           66.16666666666667,
           "11.9%"
          ],
          [
           63.76666666666667,
           76.7,
           "12.9%"
          ]
         ],
         "hovertemplate": "chng=%{x}<br>STATE_UT=%{y}<br>chng_lab=%{customdata[2]}<br>last_census=%{customdata[0]}<br>latest_census=%{customdata[1]}<extra></extra>",
         "legendgroup": "",
         "marker": {
          "color": "#636efa",
          "pattern": {
           "shape": ""
          }
         },
         "name": "",
         "offsetgroup": "",
         "orientation": "h",
         "showlegend": false,
         "text": [
          "2.3%",
          "2.7%",
          "4.2%",
          "4.3%",
          "4.8%",
          "4.8%",
          "4.9%",
          "5.0%",
          "5.0%",
          "5.1%",
          "5.1%",
          "5.1%",
          "5.5%",
          "5.6%",
          "6.1%",
          "6.2%",
          "6.2%",
          "6.4%",
          "6.6%",
          "6.7%",
          "7.1%",
          "7.2%",
          "7.8%",
          "7.9%",
          "8.4%",
          "9.3%",
          "9.8%",
          "9.9%",
          "10.0%",
          "10.1%",
          "10.1%",
          "10.5%",
          "11.2%",
          "11.9%",
          "12.9%"
         ],
         "textposition": "auto",
         "type": "bar",
         "x": [
          2.2666666666666657,
          2.6666666666666714,
          4.233333333333334,
          4.266666666666666,
          4.799999999999997,
          4.833333333333329,
          4.86666666666666,
          5,
          5.033333333333331,
          5.066666666666663,
          5.099999999999994,
          5.099999999999994,
          5.466666666666676,
          5.633333333333326,
          6.13333333333334,
          6.166666666666657,
          6.200000000000017,
          6.3999999999999915,
          6.599999999999994,
          6.666666666666671,
          7.066666666666663,
          7.233333333333334,
          7.800000000000011,
          7.933333333333337,
          8.366666666666674,
          9.26666666666668,
          9.833333333333329,
          9.900000000000006,
          9.966666666666683,
          10.100000000000009,
          10.13333333333334,
          10.466666666666669,
          11.166666666666671,
          11.899999999999999,
          12.93333333333333
         ],
         "xaxis": "x",
         "y": [
          "Mizoram",
          "Kerala",
          "NCT of Delhi",
          "Chandigarh",
          "Puducherry",
          "Chhattisgarh",
          "A & N Islands",
          "Lakshadweep",
          "Madhya Pradesh",
          "Maharashtra",
          "Himachal Pradesh",
          "Rajasthan",
          "Andhra Pradesh",
          "Punjab",
          "Tamil Nadu",
          "Uttarakhand",
          "Manipur",
          "Goa",
          "Haryana",
          "West Bengal",
          "Daman & Diu",
          "Assam",
          "Karnataka",
          "Gujarat",
          "Odisha",
          "Arunachal Pradesh",
          "Sikkim",
          "Uttar Pradesh",
          "Meghalaya",
          "Jammu & Kashmir",
          "Nagaland",
          "Jharkhand",
          "Tripura",
          "Bihar",
          "D & N Haveli"
         ],
         "yaxis": "y"
        }
       ],
       "layout": {
        "barmode": "relative",
        "font": {
         "family": "Courier New"
        },
        "height": 1000,
        "legend": {
         "title": {
          "font": {
           "color": "green"
          }
         },
         "tracegroupgap": 0
        },
        "margin": {
         "t": 60
        },
        "template": {
         "data": {
          "bar": [
           {
            "error_x": {
             "color": "#2a3f5f"
            },
            "error_y": {
             "color": "#2a3f5f"
            },
            "marker": {
             "line": {
              "color": "#E5ECF6",
              "width": 0.5
             },
             "pattern": {
              "fillmode": "overlay",
              "size": 10,
              "solidity": 0.2
             }
            },
            "type": "bar"
           }
          ],
          "barpolar": [
           {
            "marker": {
             "line": {
              "color": "#E5ECF6",
              "width": 0.5
             },
             "pattern": {
              "fillmode": "overlay",
              "size": 10,
              "solidity": 0.2
             }
            },
            "type": "barpolar"
           }
          ],
          "carpet": [
           {
            "aaxis": {
             "endlinecolor": "#2a3f5f",
             "gridcolor": "white",
             "linecolor": "white",
             "minorgridcolor": "white",
             "startlinecolor": "#2a3f5f"
            },
            "baxis": {
             "endlinecolor": "#2a3f5f",
             "gridcolor": "white",
             "linecolor": "white",
             "minorgridcolor": "white",
             "startlinecolor": "#2a3f5f"
            },
            "type": "carpet"
           }
          ],
          "choropleth": [
           {
            "colorbar": {
             "outlinewidth": 0,
             "ticks": ""
            },
            "type": "choropleth"
           }
          ],
          "contour": [
           {
            "colorbar": {
             "outlinewidth": 0,
             "ticks": ""
            },
            "colorscale": [
             [
              0,
              "#0d0887"
             ],
             [
              0.1111111111111111,
              "#46039f"
             ],
             [
              0.2222222222222222,
              "#7201a8"
             ],
             [
              0.3333333333333333,
              "#9c179e"
             ],
             [
              0.4444444444444444,
              "#bd3786"
             ],
             [
              0.5555555555555556,
              "#d8576b"
             ],
             [
              0.6666666666666666,
              "#ed7953"
             ],
             [
              0.7777777777777778,
              "#fb9f3a"
             ],
             [
              0.8888888888888888,
              "#fdca26"
             ],
             [
              1,
              "#f0f921"
             ]
            ],
            "type": "contour"
           }
          ],
          "contourcarpet": [
           {
            "colorbar": {
             "outlinewidth": 0,
             "ticks": ""
            },
            "type": "contourcarpet"
           }
          ],
          "heatmap": [
           {
            "colorbar": {
             "outlinewidth": 0,
             "ticks": ""
            },
            "colorscale": [
             [
              0,
              "#0d0887"
             ],
             [
              0.1111111111111111,
              "#46039f"
             ],
             [
              0.2222222222222222,
              "#7201a8"
             ],
             [
              0.3333333333333333,
              "#9c179e"
             ],
             [
              0.4444444444444444,
              "#bd3786"
             ],
             [
              0.5555555555555556,
              "#d8576b"
             ],
             [
              0.6666666666666666,
              "#ed7953"
             ],
             [
              0.7777777777777778,
              "#fb9f3a"
             ],
             [
              0.8888888888888888,
              "#fdca26"
             ],
             [
              1,
              "#f0f921"
             ]
            ],
            "type": "heatmap"
           }
          ],
          "heatmapgl": [
           {
            "colorbar": {
             "outlinewidth": 0,
             "ticks": ""
            },
            "colorscale": [
             [
              0,
              "#0d0887"
             ],
             [
              0.1111111111111111,
              "#46039f"
             ],
             [
              0.2222222222222222,
              "#7201a8"
             ],
             [
              0.3333333333333333,
              "#9c179e"
             ],
             [
              0.4444444444444444,
              "#bd3786"
             ],
             [
              0.5555555555555556,
              "#d8576b"
             ],
             [
              0.6666666666666666,
              "#ed7953"
             ],
             [
              0.7777777777777778,
              "#fb9f3a"
             ],
             [
              0.8888888888888888,
              "#fdca26"
             ],
             [
              1,
              "#f0f921"
             ]
            ],
            "type": "heatmapgl"
           }
          ],
          "histogram": [
           {
            "marker": {
             "pattern": {
              "fillmode": "overlay",
              "size": 10,
              "solidity": 0.2
             }
            },
            "type": "histogram"
           }
          ],
          "histogram2d": [
           {
            "colorbar": {
             "outlinewidth": 0,
             "ticks": ""
            },
            "colorscale": [
             [
              0,
              "#0d0887"
             ],
             [
              0.1111111111111111,
              "#46039f"
             ],
             [
              0.2222222222222222,
              "#7201a8"
             ],
             [
              0.3333333333333333,
              "#9c179e"
             ],
             [
              0.4444444444444444,
              "#bd3786"
             ],
             [
              0.5555555555555556,
              "#d8576b"
             ],
             [
              0.6666666666666666,
              "#ed7953"
             ],
             [
              0.7777777777777778,
              "#fb9f3a"
             ],
             [
              0.8888888888888888,
              "#fdca26"
             ],
             [
              1,
              "#f0f921"
             ]
            ],
            "type": "histogram2d"
           }
          ],
          "histogram2dcontour": [
           {
            "colorbar": {
             "outlinewidth": 0,
             "ticks": ""
            },
            "colorscale": [
             [
              0,
              "#0d0887"
             ],
             [
              0.1111111111111111,
              "#46039f"
             ],
             [
              0.2222222222222222,
              "#7201a8"
             ],
             [
              0.3333333333333333,
              "#9c179e"
             ],
             [
              0.4444444444444444,
              "#bd3786"
             ],
             [
              0.5555555555555556,
              "#d8576b"
             ],
             [
              0.6666666666666666,
              "#ed7953"
             ],
             [
              0.7777777777777778,
              "#fb9f3a"
             ],
             [
              0.8888888888888888,
              "#fdca26"
             ],
             [
              1,
              "#f0f921"
             ]
            ],
            "type": "histogram2dcontour"
           }
          ],
          "mesh3d": [
           {
            "colorbar": {
             "outlinewidth": 0,
             "ticks": ""
            },
            "type": "mesh3d"
           }
          ],
          "parcoords": [
           {
            "line": {
             "colorbar": {
              "outlinewidth": 0,
              "ticks": ""
             }
            },
            "type": "parcoords"
           }
          ],
          "pie": [
           {
            "automargin": true,
            "type": "pie"
           }
          ],
          "scatter": [
           {
            "marker": {
             "colorbar": {
              "outlinewidth": 0,
              "ticks": ""
             }
            },
            "type": "scatter"
           }
          ],
          "scatter3d": [
           {
            "line": {
             "colorbar": {
              "outlinewidth": 0,
              "ticks": ""
             }
            },
            "marker": {
             "colorbar": {
              "outlinewidth": 0,
              "ticks": ""
             }
            },
            "type": "scatter3d"
           }
          ],
          "scattercarpet": [
           {
            "marker": {
             "colorbar": {
              "outlinewidth": 0,
              "ticks": ""
             }
            },
            "type": "scattercarpet"
           }
          ],
          "scattergeo": [
           {
            "marker": {
             "colorbar": {
              "outlinewidth": 0,
              "ticks": ""
             }
            },
            "type": "scattergeo"
           }
          ],
          "scattergl": [
           {
            "marker": {
             "colorbar": {
              "outlinewidth": 0,
              "ticks": ""
             }
            },
            "type": "scattergl"
           }
          ],
          "scattermapbox": [
           {
            "marker": {
             "colorbar": {
              "outlinewidth": 0,
              "ticks": ""
             }
            },
            "type": "scattermapbox"
           }
          ],
          "scatterpolar": [
           {
            "marker": {
             "colorbar": {
              "outlinewidth": 0,
              "ticks": ""
             }
            },
            "type": "scatterpolar"
           }
          ],
          "scatterpolargl": [
           {
            "marker": {
             "colorbar": {
              "outlinewidth": 0,
              "ticks": ""
             }
            },
            "type": "scatterpolargl"
           }
          ],
          "scatterternary": [
           {
            "marker": {
             "colorbar": {
              "outlinewidth": 0,
              "ticks": ""
             }
            },
            "type": "scatterternary"
           }
          ],
          "surface": [
           {
            "colorbar": {
             "outlinewidth": 0,
             "ticks": ""
            },
            "colorscale": [
             [
              0,
              "#0d0887"
             ],
             [
              0.1111111111111111,
              "#46039f"
             ],
             [
              0.2222222222222222,
              "#7201a8"
             ],
             [
              0.3333333333333333,
              "#9c179e"
             ],
             [
              0.4444444444444444,
              "#bd3786"
             ],
             [
              0.5555555555555556,
              "#d8576b"
             ],
             [
              0.6666666666666666,
              "#ed7953"
             ],
             [
              0.7777777777777778,
              "#fb9f3a"
             ],
             [
              0.8888888888888888,
              "#fdca26"
             ],
             [
              1,
              "#f0f921"
             ]
            ],
            "type": "surface"
           }
          ],
          "table": [
           {
            "cells": {
             "fill": {
              "color": "#EBF0F8"
             },
             "line": {
              "color": "white"
             }
            },
            "header": {
             "fill": {
              "color": "#C8D4E3"
             },
             "line": {
              "color": "white"
             }
            },
            "type": "table"
           }
          ]
         },
         "layout": {
          "annotationdefaults": {
           "arrowcolor": "#2a3f5f",
           "arrowhead": 0,
           "arrowwidth": 1
          },
          "autotypenumbers": "strict",
          "coloraxis": {
           "colorbar": {
            "outlinewidth": 0,
            "ticks": ""
           }
          },
          "colorscale": {
           "diverging": [
            [
             0,
             "#8e0152"
            ],
            [
             0.1,
             "#c51b7d"
            ],
            [
             0.2,
             "#de77ae"
            ],
            [
             0.3,
             "#f1b6da"
            ],
            [
             0.4,
             "#fde0ef"
            ],
            [
             0.5,
             "#f7f7f7"
            ],
            [
             0.6,
             "#e6f5d0"
            ],
            [
             0.7,
             "#b8e186"
            ],
            [
             0.8,
             "#7fbc41"
            ],
            [
             0.9,
             "#4d9221"
            ],
            [
             1,
             "#276419"
            ]
           ],
           "sequential": [
            [
             0,
             "#0d0887"
            ],
            [
             0.1111111111111111,
             "#46039f"
            ],
            [
             0.2222222222222222,
             "#7201a8"
            ],
            [
             0.3333333333333333,
             "#9c179e"
            ],
            [
             0.4444444444444444,
             "#bd3786"
            ],
            [
             0.5555555555555556,
             "#d8576b"
            ],
            [
             0.6666666666666666,
             "#ed7953"
            ],
            [
             0.7777777777777778,
             "#fb9f3a"
            ],
            [
             0.8888888888888888,
             "#fdca26"
            ],
            [
             1,
             "#f0f921"
            ]
           ],
           "sequentialminus": [
            [
             0,
             "#0d0887"
            ],
            [
             0.1111111111111111,
             "#46039f"
            ],
            [
             0.2222222222222222,
             "#7201a8"
            ],
            [
             0.3333333333333333,
             "#9c179e"
            ],
            [
             0.4444444444444444,
             "#bd3786"
            ],
            [
             0.5555555555555556,
             "#d8576b"
            ],
            [
             0.6666666666666666,
             "#ed7953"
            ],
            [
             0.7777777777777778,
             "#fb9f3a"
            ],
            [
             0.8888888888888888,
             "#fdca26"
            ],
            [
             1,
             "#f0f921"
            ]
           ]
          },
          "colorway": [
           "#636efa",
           "#EF553B",
           "#00cc96",
           "#ab63fa",
           "#FFA15A",
           "#19d3f3",
           "#FF6692",
           "#B6E880",
           "#FF97FF",
           "#FECB52"
          ],
          "font": {
           "color": "#2a3f5f"
          },
          "geo": {
           "bgcolor": "white",
           "lakecolor": "white",
           "landcolor": "#E5ECF6",
           "showlakes": true,
           "showland": true,
           "subunitcolor": "white"
          },
          "hoverlabel": {
           "align": "left"
          },
          "hovermode": "closest",
          "mapbox": {
           "style": "light"
          },
          "paper_bgcolor": "white",
          "plot_bgcolor": "#E5ECF6",
          "polar": {
           "angularaxis": {
            "gridcolor": "white",
            "linecolor": "white",
            "ticks": ""
           },
           "bgcolor": "#E5ECF6",
           "radialaxis": {
            "gridcolor": "white",
            "linecolor": "white",
            "ticks": ""
           }
          },
          "scene": {
           "xaxis": {
            "backgroundcolor": "#E5ECF6",
            "gridcolor": "white",
            "gridwidth": 2,
            "linecolor": "white",
            "showbackground": true,
            "ticks": "",
            "zerolinecolor": "white"
           },
           "yaxis": {
            "backgroundcolor": "#E5ECF6",
            "gridcolor": "white",
            "gridwidth": 2,
            "linecolor": "white",
            "showbackground": true,
            "ticks": "",
            "zerolinecolor": "white"
           },
           "zaxis": {
            "backgroundcolor": "#E5ECF6",
            "gridcolor": "white",
            "gridwidth": 2,
            "linecolor": "white",
            "showbackground": true,
            "ticks": "",
            "zerolinecolor": "white"
           }
          },
          "shapedefaults": {
           "line": {
            "color": "#2a3f5f"
           }
          },
          "ternary": {
           "aaxis": {
            "gridcolor": "white",
            "linecolor": "white",
            "ticks": ""
           },
           "baxis": {
            "gridcolor": "white",
            "linecolor": "white",
            "ticks": ""
           },
           "bgcolor": "#E5ECF6",
           "caxis": {
            "gridcolor": "white",
            "linecolor": "white",
            "ticks": ""
           }
          },
          "title": {
           "x": 0.05
          },
          "xaxis": {
           "automargin": true,
           "gridcolor": "white",
           "linecolor": "white",
           "ticks": "",
           "title": {
            "standoff": 15
           },
           "zerolinecolor": "white",
           "zerolinewidth": 2
          },
          "yaxis": {
           "automargin": true,
           "gridcolor": "white",
           "linecolor": "white",
           "ticks": "",
           "title": {
            "standoff": 15
           },
           "zerolinecolor": "white",
           "zerolinewidth": 2
          }
         }
        },
        "title": {
         "font": {
          "color": "red",
          "size": 25
         },
         "text": "States with change in Literacy Rate"
        },
        "xaxis": {
         "anchor": "y",
         "domain": [
          0,
          1
         ],
         "title": {
          "text": "chng"
         }
        },
        "yaxis": {
         "anchor": "x",
         "domain": [
          0,
          1
         ],
         "title": {
          "text": "STATE_UT"
         }
        }
       }
      },
      "text/html": [
       "<div>                            <div id=\"a0373253-a4a9-43f0-8625-bea33ec2b82c\" class=\"plotly-graph-div\" style=\"height:1000px; width:100%;\"></div>            <script type=\"text/javascript\">                require([\"plotly\"], function(Plotly) {                    window.PLOTLYENV=window.PLOTLYENV || {};                                    if (document.getElementById(\"a0373253-a4a9-43f0-8625-bea33ec2b82c\")) {                    Plotly.newPlot(                        \"a0373253-a4a9-43f0-8625-bea33ec2b82c\",                        [{\"alignmentgroup\":\"True\",\"customdata\":[[88.73333333333333,91.0,\"2.3%\"],[91.36666666666667,94.03333333333335,\"2.7%\"],[80.56666666666666,84.8,\"4.2%\"],[80.03333333333333,84.3,\"4.3%\"],[80.0,84.8,\"4.8%\"],[68.60000000000001,73.43333333333334,\"4.8%\"],[82.2,87.06666666666666,\"4.9%\"],[86.76666666666667,91.76666666666667,\"5.0%\"],[66.96666666666667,72.0,\"5.0%\"],[77.60000000000001,82.66666666666667,\"5.1%\"],[80.16666666666667,85.26666666666667,\"5.1%\"],[63.96666666666667,69.06666666666666,\"5.1%\"],[63.699999999999996,69.16666666666667,\"5.5%\"],[71.16666666666667,76.8,\"5.6%\"],[74.06666666666666,80.2,\"6.1%\"],[73.7,79.86666666666666,\"6.2%\"],[72.36666666666666,78.56666666666668,\"6.2%\"],[82.03333333333335,88.43333333333334,\"6.4%\"],[70.10000000000001,76.7,\"6.6%\"],[71.06666666666666,77.73333333333333,\"6.7%\"],[78.76666666666667,85.83333333333333,\"7.1%\"],[69.43333333333334,76.66666666666667,\"7.2%\"],[68.83333333333333,76.63333333333334,\"7.8%\"],[70.73333333333333,78.66666666666667,\"7.9%\"],[67.89999999999999,76.26666666666667,\"8.4%\"],[60.133333333333326,69.4,\"9.3%\"],[73.16666666666667,83.0,\"9.8%\"],[59.53333333333333,69.43333333333334,\"9.9%\"],[68.39999999999999,78.36666666666667,\"10.0%\"],[59.06666666666666,69.16666666666667,\"10.1%\"],[71.36666666666666,81.5,\"10.1%\"],[59.46666666666667,69.93333333333334,\"10.5%\"],[77.36666666666667,88.53333333333335,\"11.2%\"],[54.26666666666667,66.16666666666667,\"11.9%\"],[63.76666666666667,76.7,\"12.9%\"]],\"hovertemplate\":\"chng=%{x}<br>STATE_UT=%{y}<br>chng_lab=%{customdata[2]}<br>last_census=%{customdata[0]}<br>latest_census=%{customdata[1]}<extra></extra>\",\"legendgroup\":\"\",\"marker\":{\"color\":\"#636efa\",\"pattern\":{\"shape\":\"\"}},\"name\":\"\",\"offsetgroup\":\"\",\"orientation\":\"h\",\"showlegend\":false,\"text\":[\"2.3%\",\"2.7%\",\"4.2%\",\"4.3%\",\"4.8%\",\"4.8%\",\"4.9%\",\"5.0%\",\"5.0%\",\"5.1%\",\"5.1%\",\"5.1%\",\"5.5%\",\"5.6%\",\"6.1%\",\"6.2%\",\"6.2%\",\"6.4%\",\"6.6%\",\"6.7%\",\"7.1%\",\"7.2%\",\"7.8%\",\"7.9%\",\"8.4%\",\"9.3%\",\"9.8%\",\"9.9%\",\"10.0%\",\"10.1%\",\"10.1%\",\"10.5%\",\"11.2%\",\"11.9%\",\"12.9%\"],\"textposition\":\"auto\",\"type\":\"bar\",\"x\":[2.2666666666666657,2.6666666666666714,4.233333333333334,4.266666666666666,4.799999999999997,4.833333333333329,4.86666666666666,5.0,5.033333333333331,5.066666666666663,5.099999999999994,5.099999999999994,5.466666666666676,5.633333333333326,6.13333333333334,6.166666666666657,6.200000000000017,6.3999999999999915,6.599999999999994,6.666666666666671,7.066666666666663,7.233333333333334,7.800000000000011,7.933333333333337,8.366666666666674,9.26666666666668,9.833333333333329,9.900000000000006,9.966666666666683,10.100000000000009,10.13333333333334,10.466666666666669,11.166666666666671,11.899999999999999,12.93333333333333],\"xaxis\":\"x\",\"y\":[\"Mizoram\",\"Kerala\",\"NCT of Delhi\",\"Chandigarh\",\"Puducherry\",\"Chhattisgarh\",\"A & N Islands\",\"Lakshadweep\",\"Madhya Pradesh\",\"Maharashtra\",\"Himachal Pradesh\",\"Rajasthan\",\"Andhra Pradesh\",\"Punjab\",\"Tamil Nadu\",\"Uttarakhand\",\"Manipur\",\"Goa\",\"Haryana\",\"West Bengal\",\"Daman & Diu\",\"Assam\",\"Karnataka\",\"Gujarat\",\"Odisha\",\"Arunachal Pradesh\",\"Sikkim\",\"Uttar Pradesh\",\"Meghalaya\",\"Jammu & Kashmir\",\"Nagaland\",\"Jharkhand\",\"Tripura\",\"Bihar\",\"D & N Haveli\"],\"yaxis\":\"y\"}],                        {\"barmode\":\"relative\",\"font\":{\"family\":\"Courier New\"},\"height\":1000,\"legend\":{\"title\":{\"font\":{\"color\":\"green\"}},\"tracegroupgap\":0},\"margin\":{\"t\":60},\"template\":{\"data\":{\"bar\":[{\"error_x\":{\"color\":\"#2a3f5f\"},\"error_y\":{\"color\":\"#2a3f5f\"},\"marker\":{\"line\":{\"color\":\"#E5ECF6\",\"width\":0.5},\"pattern\":{\"fillmode\":\"overlay\",\"size\":10,\"solidity\":0.2}},\"type\":\"bar\"}],\"barpolar\":[{\"marker\":{\"line\":{\"color\":\"#E5ECF6\",\"width\":0.5},\"pattern\":{\"fillmode\":\"overlay\",\"size\":10,\"solidity\":0.2}},\"type\":\"barpolar\"}],\"carpet\":[{\"aaxis\":{\"endlinecolor\":\"#2a3f5f\",\"gridcolor\":\"white\",\"linecolor\":\"white\",\"minorgridcolor\":\"white\",\"startlinecolor\":\"#2a3f5f\"},\"baxis\":{\"endlinecolor\":\"#2a3f5f\",\"gridcolor\":\"white\",\"linecolor\":\"white\",\"minorgridcolor\":\"white\",\"startlinecolor\":\"#2a3f5f\"},\"type\":\"carpet\"}],\"choropleth\":[{\"colorbar\":{\"outlinewidth\":0,\"ticks\":\"\"},\"type\":\"choropleth\"}],\"contour\":[{\"colorbar\":{\"outlinewidth\":0,\"ticks\":\"\"},\"colorscale\":[[0.0,\"#0d0887\"],[0.1111111111111111,\"#46039f\"],[0.2222222222222222,\"#7201a8\"],[0.3333333333333333,\"#9c179e\"],[0.4444444444444444,\"#bd3786\"],[0.5555555555555556,\"#d8576b\"],[0.6666666666666666,\"#ed7953\"],[0.7777777777777778,\"#fb9f3a\"],[0.8888888888888888,\"#fdca26\"],[1.0,\"#f0f921\"]],\"type\":\"contour\"}],\"contourcarpet\":[{\"colorbar\":{\"outlinewidth\":0,\"ticks\":\"\"},\"type\":\"contourcarpet\"}],\"heatmap\":[{\"colorbar\":{\"outlinewidth\":0,\"ticks\":\"\"},\"colorscale\":[[0.0,\"#0d0887\"],[0.1111111111111111,\"#46039f\"],[0.2222222222222222,\"#7201a8\"],[0.3333333333333333,\"#9c179e\"],[0.4444444444444444,\"#bd3786\"],[0.5555555555555556,\"#d8576b\"],[0.6666666666666666,\"#ed7953\"],[0.7777777777777778,\"#fb9f3a\"],[0.8888888888888888,\"#fdca26\"],[1.0,\"#f0f921\"]],\"type\":\"heatmap\"}],\"heatmapgl\":[{\"colorbar\":{\"outlinewidth\":0,\"ticks\":\"\"},\"colorscale\":[[0.0,\"#0d0887\"],[0.1111111111111111,\"#46039f\"],[0.2222222222222222,\"#7201a8\"],[0.3333333333333333,\"#9c179e\"],[0.4444444444444444,\"#bd3786\"],[0.5555555555555556,\"#d8576b\"],[0.6666666666666666,\"#ed7953\"],[0.7777777777777778,\"#fb9f3a\"],[0.8888888888888888,\"#fdca26\"],[1.0,\"#f0f921\"]],\"type\":\"heatmapgl\"}],\"histogram\":[{\"marker\":{\"pattern\":{\"fillmode\":\"overlay\",\"size\":10,\"solidity\":0.2}},\"type\":\"histogram\"}],\"histogram2d\":[{\"colorbar\":{\"outlinewidth\":0,\"ticks\":\"\"},\"colorscale\":[[0.0,\"#0d0887\"],[0.1111111111111111,\"#46039f\"],[0.2222222222222222,\"#7201a8\"],[0.3333333333333333,\"#9c179e\"],[0.4444444444444444,\"#bd3786\"],[0.5555555555555556,\"#d8576b\"],[0.6666666666666666,\"#ed7953\"],[0.7777777777777778,\"#fb9f3a\"],[0.8888888888888888,\"#fdca26\"],[1.0,\"#f0f921\"]],\"type\":\"histogram2d\"}],\"histogram2dcontour\":[{\"colorbar\":{\"outlinewidth\":0,\"ticks\":\"\"},\"colorscale\":[[0.0,\"#0d0887\"],[0.1111111111111111,\"#46039f\"],[0.2222222222222222,\"#7201a8\"],[0.3333333333333333,\"#9c179e\"],[0.4444444444444444,\"#bd3786\"],[0.5555555555555556,\"#d8576b\"],[0.6666666666666666,\"#ed7953\"],[0.7777777777777778,\"#fb9f3a\"],[0.8888888888888888,\"#fdca26\"],[1.0,\"#f0f921\"]],\"type\":\"histogram2dcontour\"}],\"mesh3d\":[{\"colorbar\":{\"outlinewidth\":0,\"ticks\":\"\"},\"type\":\"mesh3d\"}],\"parcoords\":[{\"line\":{\"colorbar\":{\"outlinewidth\":0,\"ticks\":\"\"}},\"type\":\"parcoords\"}],\"pie\":[{\"automargin\":true,\"type\":\"pie\"}],\"scatter\":[{\"marker\":{\"colorbar\":{\"outlinewidth\":0,\"ticks\":\"\"}},\"type\":\"scatter\"}],\"scatter3d\":[{\"line\":{\"colorbar\":{\"outlinewidth\":0,\"ticks\":\"\"}},\"marker\":{\"colorbar\":{\"outlinewidth\":0,\"ticks\":\"\"}},\"type\":\"scatter3d\"}],\"scattercarpet\":[{\"marker\":{\"colorbar\":{\"outlinewidth\":0,\"ticks\":\"\"}},\"type\":\"scattercarpet\"}],\"scattergeo\":[{\"marker\":{\"colorbar\":{\"outlinewidth\":0,\"ticks\":\"\"}},\"type\":\"scattergeo\"}],\"scattergl\":[{\"marker\":{\"colorbar\":{\"outlinewidth\":0,\"ticks\":\"\"}},\"type\":\"scattergl\"}],\"scattermapbox\":[{\"marker\":{\"colorbar\":{\"outlinewidth\":0,\"ticks\":\"\"}},\"type\":\"scattermapbox\"}],\"scatterpolar\":[{\"marker\":{\"colorbar\":{\"outlinewidth\":0,\"ticks\":\"\"}},\"type\":\"scatterpolar\"}],\"scatterpolargl\":[{\"marker\":{\"colorbar\":{\"outlinewidth\":0,\"ticks\":\"\"}},\"type\":\"scatterpolargl\"}],\"scatterternary\":[{\"marker\":{\"colorbar\":{\"outlinewidth\":0,\"ticks\":\"\"}},\"type\":\"scatterternary\"}],\"surface\":[{\"colorbar\":{\"outlinewidth\":0,\"ticks\":\"\"},\"colorscale\":[[0.0,\"#0d0887\"],[0.1111111111111111,\"#46039f\"],[0.2222222222222222,\"#7201a8\"],[0.3333333333333333,\"#9c179e\"],[0.4444444444444444,\"#bd3786\"],[0.5555555555555556,\"#d8576b\"],[0.6666666666666666,\"#ed7953\"],[0.7777777777777778,\"#fb9f3a\"],[0.8888888888888888,\"#fdca26\"],[1.0,\"#f0f921\"]],\"type\":\"surface\"}],\"table\":[{\"cells\":{\"fill\":{\"color\":\"#EBF0F8\"},\"line\":{\"color\":\"white\"}},\"header\":{\"fill\":{\"color\":\"#C8D4E3\"},\"line\":{\"color\":\"white\"}},\"type\":\"table\"}]},\"layout\":{\"annotationdefaults\":{\"arrowcolor\":\"#2a3f5f\",\"arrowhead\":0,\"arrowwidth\":1},\"autotypenumbers\":\"strict\",\"coloraxis\":{\"colorbar\":{\"outlinewidth\":0,\"ticks\":\"\"}},\"colorscale\":{\"diverging\":[[0,\"#8e0152\"],[0.1,\"#c51b7d\"],[0.2,\"#de77ae\"],[0.3,\"#f1b6da\"],[0.4,\"#fde0ef\"],[0.5,\"#f7f7f7\"],[0.6,\"#e6f5d0\"],[0.7,\"#b8e186\"],[0.8,\"#7fbc41\"],[0.9,\"#4d9221\"],[1,\"#276419\"]],\"sequential\":[[0.0,\"#0d0887\"],[0.1111111111111111,\"#46039f\"],[0.2222222222222222,\"#7201a8\"],[0.3333333333333333,\"#9c179e\"],[0.4444444444444444,\"#bd3786\"],[0.5555555555555556,\"#d8576b\"],[0.6666666666666666,\"#ed7953\"],[0.7777777777777778,\"#fb9f3a\"],[0.8888888888888888,\"#fdca26\"],[1.0,\"#f0f921\"]],\"sequentialminus\":[[0.0,\"#0d0887\"],[0.1111111111111111,\"#46039f\"],[0.2222222222222222,\"#7201a8\"],[0.3333333333333333,\"#9c179e\"],[0.4444444444444444,\"#bd3786\"],[0.5555555555555556,\"#d8576b\"],[0.6666666666666666,\"#ed7953\"],[0.7777777777777778,\"#fb9f3a\"],[0.8888888888888888,\"#fdca26\"],[1.0,\"#f0f921\"]]},\"colorway\":[\"#636efa\",\"#EF553B\",\"#00cc96\",\"#ab63fa\",\"#FFA15A\",\"#19d3f3\",\"#FF6692\",\"#B6E880\",\"#FF97FF\",\"#FECB52\"],\"font\":{\"color\":\"#2a3f5f\"},\"geo\":{\"bgcolor\":\"white\",\"lakecolor\":\"white\",\"landcolor\":\"#E5ECF6\",\"showlakes\":true,\"showland\":true,\"subunitcolor\":\"white\"},\"hoverlabel\":{\"align\":\"left\"},\"hovermode\":\"closest\",\"mapbox\":{\"style\":\"light\"},\"paper_bgcolor\":\"white\",\"plot_bgcolor\":\"#E5ECF6\",\"polar\":{\"angularaxis\":{\"gridcolor\":\"white\",\"linecolor\":\"white\",\"ticks\":\"\"},\"bgcolor\":\"#E5ECF6\",\"radialaxis\":{\"gridcolor\":\"white\",\"linecolor\":\"white\",\"ticks\":\"\"}},\"scene\":{\"xaxis\":{\"backgroundcolor\":\"#E5ECF6\",\"gridcolor\":\"white\",\"gridwidth\":2,\"linecolor\":\"white\",\"showbackground\":true,\"ticks\":\"\",\"zerolinecolor\":\"white\"},\"yaxis\":{\"backgroundcolor\":\"#E5ECF6\",\"gridcolor\":\"white\",\"gridwidth\":2,\"linecolor\":\"white\",\"showbackground\":true,\"ticks\":\"\",\"zerolinecolor\":\"white\"},\"zaxis\":{\"backgroundcolor\":\"#E5ECF6\",\"gridcolor\":\"white\",\"gridwidth\":2,\"linecolor\":\"white\",\"showbackground\":true,\"ticks\":\"\",\"zerolinecolor\":\"white\"}},\"shapedefaults\":{\"line\":{\"color\":\"#2a3f5f\"}},\"ternary\":{\"aaxis\":{\"gridcolor\":\"white\",\"linecolor\":\"white\",\"ticks\":\"\"},\"baxis\":{\"gridcolor\":\"white\",\"linecolor\":\"white\",\"ticks\":\"\"},\"bgcolor\":\"#E5ECF6\",\"caxis\":{\"gridcolor\":\"white\",\"linecolor\":\"white\",\"ticks\":\"\"}},\"title\":{\"x\":0.05},\"xaxis\":{\"automargin\":true,\"gridcolor\":\"white\",\"linecolor\":\"white\",\"ticks\":\"\",\"title\":{\"standoff\":15},\"zerolinecolor\":\"white\",\"zerolinewidth\":2},\"yaxis\":{\"automargin\":true,\"gridcolor\":\"white\",\"linecolor\":\"white\",\"ticks\":\"\",\"title\":{\"standoff\":15},\"zerolinecolor\":\"white\",\"zerolinewidth\":2}}},\"title\":{\"font\":{\"color\":\"red\",\"size\":25},\"text\":\"States with change in Literacy Rate\"},\"xaxis\":{\"anchor\":\"y\",\"domain\":[0.0,1.0],\"title\":{\"text\":\"chng\"}},\"yaxis\":{\"anchor\":\"x\",\"domain\":[0.0,1.0],\"title\":{\"text\":\"STATE_UT\"}}},                        {\"responsive\": true}                    ).then(function(){\n",
       "                            \n",
       "var gd = document.getElementById('a0373253-a4a9-43f0-8625-bea33ec2b82c');\n",
       "var x = new MutationObserver(function (mutations, observer) {{\n",
       "        var display = window.getComputedStyle(gd).display;\n",
       "        if (!display || display === 'none') {{\n",
       "            console.log([gd, 'removed!']);\n",
       "            Plotly.purge(gd);\n",
       "            observer.disconnect();\n",
       "        }}\n",
       "}});\n",
       "\n",
       "// Listen for the removal of the full notebook cells\n",
       "var notebookContainer = gd.closest('#notebook-container');\n",
       "if (notebookContainer) {{\n",
       "    x.observe(notebookContainer, {childList: true});\n",
       "}}\n",
       "\n",
       "// Listen for the clearing of the current output cell\n",
       "var outputEl = gd.closest('.output');\n",
       "if (outputEl) {{\n",
       "    x.observe(outputEl, {childList: true});\n",
       "}}\n",
       "\n",
       "                        })                };                });            </script>        </div>"
      ]
     },
     "metadata": {},
     "output_type": "display_data"
    }
   ],
   "source": [
    "q2=df2.groupby(['STATE_UT','Year','Typ']).agg({\"Literacy_Rate\":\"mean\"}).sort_values(by='Literacy_Rate',ascending=True).reset_index()\n",
    "q2=q2.set_index(['STATE_UT','Year','Typ'])['Literacy_Rate'].unstack().reset_index().rename(columns={\"2001\":\"last_census\",\"2011\":\"latest_census\"})\n",
    "q2['chng']=q2['latest_census']-q2['last_census']\n",
    "q2=q2.sort_values(by='chng',ascending=True)\n",
    "q2['chng_lab']=q2['chng'].apply(lambda x: \"{:.1%}\".format(x/100))\n",
    "\n",
    "\n",
    "fig=px.bar(q2,x='chng',y='STATE_UT',orientation='h',hover_data=q2.columns,text='chng_lab',height=1000)\n",
    "fig.update_layout({\"title\":\"States with change in Literacy Rate\",\"title_font_size\":25,\"font_family\":\"Courier New\",\"title_font_color\":\"red\",\"legend_title_font_color\":\"green\"})\n",
    "fig.write_image(format='png',file='States with change in Literacy Rate.png',validate=True)\n",
    "fig.show()\n"
   ]
  },
  {
   "cell_type": "markdown",
   "id": "2b42d692",
   "metadata": {},
   "source": [
    "### Difference b/w Literacy Rates Max and Minimum"
   ]
  },
  {
   "cell_type": "code",
   "execution_count": 92,
   "id": "246cc916",
   "metadata": {},
   "outputs": [
    {
     "data": {
      "text/html": [
       "<div>\n",
       "<style scoped>\n",
       "    .dataframe tbody tr th:only-of-type {\n",
       "        vertical-align: middle;\n",
       "    }\n",
       "\n",
       "    .dataframe tbody tr th {\n",
       "        vertical-align: top;\n",
       "    }\n",
       "\n",
       "    .dataframe thead th {\n",
       "        text-align: right;\n",
       "    }\n",
       "</style>\n",
       "<table border=\"1\" class=\"dataframe\">\n",
       "  <thead>\n",
       "    <tr style=\"text-align: right;\">\n",
       "      <th>Year</th>\n",
       "      <th>latest_census</th>\n",
       "    </tr>\n",
       "  </thead>\n",
       "  <tbody>\n",
       "    <tr>\n",
       "      <th>0</th>\n",
       "      <td>NaN</td>\n",
       "    </tr>\n",
       "    <tr>\n",
       "      <th>1</th>\n",
       "      <td>-27.866667</td>\n",
       "    </tr>\n",
       "  </tbody>\n",
       "</table>\n",
       "</div>"
      ],
      "text/plain": [
       "Year  latest_census\n",
       "0               NaN\n",
       "1        -27.866667"
      ]
     },
     "execution_count": 92,
     "metadata": {},
     "output_type": "execute_result"
    }
   ],
   "source": [
    "q3=df2.groupby(['STATE_UT','Year']).agg({\"Literacy_Rate\":\"mean\"}).sort_values(by='Literacy_Rate',ascending=True).reset_index()\n",
    "q3=q3.set_index(['STATE_UT','Year'])['Literacy_Rate'].unstack().reset_index().rename(columns={\"2001\":\"last_census\",\"2011\":\"latest_census\"})\n",
    "q3.groupby('STATE_UT').agg({\"latest_census\":\"mean\"}).rank(ascending=False)\n",
    "q3=pd.concat([q3,q3.groupby('STATE_UT').agg({\"latest_census\":\"mean\"}).rank(ascending=False).reset_index().rename(columns={\"latest_census\":\"LR_Rank\",\"STATE_UT\":\"STATE\"})],axis=1)[['STATE_UT','latest_census','LR_Rank']]\n",
    "\n",
    "ans=q3.sort_values(by='LR_Rank',ascending=True).head(1).append(q3.sort_values(by='LR_Rank',ascending=True).tail(1))\n",
    "ans[['latest_census']].reset_index(drop=True).diff()"
   ]
  },
  {
   "cell_type": "code",
   "execution_count": 110,
   "id": "47c035cf",
   "metadata": {},
   "outputs": [
    {
     "data": {
      "text/html": [
       "<div>\n",
       "<style scoped>\n",
       "    .dataframe tbody tr th:only-of-type {\n",
       "        vertical-align: middle;\n",
       "    }\n",
       "\n",
       "    .dataframe tbody tr th {\n",
       "        vertical-align: top;\n",
       "    }\n",
       "\n",
       "    .dataframe thead th {\n",
       "        text-align: right;\n",
       "    }\n",
       "</style>\n",
       "<table border=\"1\" class=\"dataframe\">\n",
       "  <thead>\n",
       "    <tr style=\"text-align: right;\">\n",
       "      <th>Typ</th>\n",
       "      <th>STATE_UT</th>\n",
       "      <th>Rural</th>\n",
       "      <th>Urban</th>\n",
       "    </tr>\n",
       "  </thead>\n",
       "  <tbody>\n",
       "    <tr>\n",
       "      <th>0</th>\n",
       "      <td>A &amp; N Islands</td>\n",
       "      <td>84.5</td>\n",
       "      <td>90.1</td>\n",
       "    </tr>\n",
       "    <tr>\n",
       "      <th>1</th>\n",
       "      <td>Andhra Pradesh</td>\n",
       "      <td>60.4</td>\n",
       "      <td>80.1</td>\n",
       "    </tr>\n",
       "    <tr>\n",
       "      <th>2</th>\n",
       "      <td>Arunachal Pradesh</td>\n",
       "      <td>59.9</td>\n",
       "      <td>82.9</td>\n",
       "    </tr>\n",
       "    <tr>\n",
       "      <th>3</th>\n",
       "      <td>Assam</td>\n",
       "      <td>69.3</td>\n",
       "      <td>88.5</td>\n",
       "    </tr>\n",
       "    <tr>\n",
       "      <th>4</th>\n",
       "      <td>Bihar</td>\n",
       "      <td>59.8</td>\n",
       "      <td>76.9</td>\n",
       "    </tr>\n",
       "    <tr>\n",
       "      <th>5</th>\n",
       "      <td>Chandigarh</td>\n",
       "      <td>80.7</td>\n",
       "      <td>86.2</td>\n",
       "    </tr>\n",
       "    <tr>\n",
       "      <th>6</th>\n",
       "      <td>Chhattisgarh</td>\n",
       "      <td>66.0</td>\n",
       "      <td>84.0</td>\n",
       "    </tr>\n",
       "    <tr>\n",
       "      <th>7</th>\n",
       "      <td>D &amp; N Haveli</td>\n",
       "      <td>64.1</td>\n",
       "      <td>89.8</td>\n",
       "    </tr>\n",
       "    <tr>\n",
       "      <th>8</th>\n",
       "      <td>Daman &amp; Diu</td>\n",
       "      <td>81.4</td>\n",
       "      <td>89.0</td>\n",
       "    </tr>\n",
       "    <tr>\n",
       "      <th>9</th>\n",
       "      <td>Goa</td>\n",
       "      <td>86.6</td>\n",
       "      <td>90.0</td>\n",
       "    </tr>\n",
       "    <tr>\n",
       "      <th>10</th>\n",
       "      <td>Gujarat</td>\n",
       "      <td>71.7</td>\n",
       "      <td>86.3</td>\n",
       "    </tr>\n",
       "    <tr>\n",
       "      <th>11</th>\n",
       "      <td>Haryana</td>\n",
       "      <td>71.4</td>\n",
       "      <td>83.1</td>\n",
       "    </tr>\n",
       "    <tr>\n",
       "      <th>12</th>\n",
       "      <td>Himachal Pradesh</td>\n",
       "      <td>81.9</td>\n",
       "      <td>91.1</td>\n",
       "    </tr>\n",
       "    <tr>\n",
       "      <th>13</th>\n",
       "      <td>Jammu &amp; Kashmir</td>\n",
       "      <td>63.2</td>\n",
       "      <td>77.1</td>\n",
       "    </tr>\n",
       "    <tr>\n",
       "      <th>14</th>\n",
       "      <td>Jharkhand</td>\n",
       "      <td>61.1</td>\n",
       "      <td>82.3</td>\n",
       "    </tr>\n",
       "    <tr>\n",
       "      <th>15</th>\n",
       "      <td>Karnataka</td>\n",
       "      <td>68.7</td>\n",
       "      <td>85.8</td>\n",
       "    </tr>\n",
       "    <tr>\n",
       "      <th>16</th>\n",
       "      <td>Kerala</td>\n",
       "      <td>93.0</td>\n",
       "      <td>95.1</td>\n",
       "    </tr>\n",
       "    <tr>\n",
       "      <th>17</th>\n",
       "      <td>Lakshadweep</td>\n",
       "      <td>91.6</td>\n",
       "      <td>91.9</td>\n",
       "    </tr>\n",
       "    <tr>\n",
       "      <th>18</th>\n",
       "      <td>Madhya Pradesh</td>\n",
       "      <td>63.9</td>\n",
       "      <td>82.8</td>\n",
       "    </tr>\n",
       "    <tr>\n",
       "      <th>19</th>\n",
       "      <td>Maharashtra</td>\n",
       "      <td>77.0</td>\n",
       "      <td>88.7</td>\n",
       "    </tr>\n",
       "    <tr>\n",
       "      <th>20</th>\n",
       "      <td>Manipur</td>\n",
       "      <td>73.4</td>\n",
       "      <td>85.4</td>\n",
       "    </tr>\n",
       "    <tr>\n",
       "      <th>21</th>\n",
       "      <td>Meghalaya</td>\n",
       "      <td>69.9</td>\n",
       "      <td>90.8</td>\n",
       "    </tr>\n",
       "    <tr>\n",
       "      <th>22</th>\n",
       "      <td>Mizoram</td>\n",
       "      <td>84.1</td>\n",
       "      <td>97.6</td>\n",
       "    </tr>\n",
       "    <tr>\n",
       "      <th>23</th>\n",
       "      <td>NCT of Delhi</td>\n",
       "      <td>81.9</td>\n",
       "      <td>86.3</td>\n",
       "    </tr>\n",
       "    <tr>\n",
       "      <th>24</th>\n",
       "      <td>Nagaland</td>\n",
       "      <td>75.3</td>\n",
       "      <td>89.6</td>\n",
       "    </tr>\n",
       "    <tr>\n",
       "      <th>25</th>\n",
       "      <td>Odisha</td>\n",
       "      <td>70.2</td>\n",
       "      <td>85.7</td>\n",
       "    </tr>\n",
       "    <tr>\n",
       "      <th>26</th>\n",
       "      <td>Puducherry</td>\n",
       "      <td>80.1</td>\n",
       "      <td>88.5</td>\n",
       "    </tr>\n",
       "    <tr>\n",
       "      <th>27</th>\n",
       "      <td>Punjab</td>\n",
       "      <td>71.4</td>\n",
       "      <td>83.2</td>\n",
       "    </tr>\n",
       "    <tr>\n",
       "      <th>28</th>\n",
       "      <td>Rajasthan</td>\n",
       "      <td>61.4</td>\n",
       "      <td>79.7</td>\n",
       "    </tr>\n",
       "    <tr>\n",
       "      <th>29</th>\n",
       "      <td>Sikkim</td>\n",
       "      <td>78.9</td>\n",
       "      <td>88.7</td>\n",
       "    </tr>\n",
       "    <tr>\n",
       "      <th>30</th>\n",
       "      <td>Tamil Nadu</td>\n",
       "      <td>73.5</td>\n",
       "      <td>87.0</td>\n",
       "    </tr>\n",
       "    <tr>\n",
       "      <th>31</th>\n",
       "      <td>Tripura</td>\n",
       "      <td>84.9</td>\n",
       "      <td>93.5</td>\n",
       "    </tr>\n",
       "    <tr>\n",
       "      <th>32</th>\n",
       "      <td>Uttar Pradesh</td>\n",
       "      <td>65.5</td>\n",
       "      <td>75.1</td>\n",
       "    </tr>\n",
       "    <tr>\n",
       "      <th>33</th>\n",
       "      <td>Uttarakhand</td>\n",
       "      <td>76.3</td>\n",
       "      <td>84.5</td>\n",
       "    </tr>\n",
       "    <tr>\n",
       "      <th>34</th>\n",
       "      <td>West Bengal</td>\n",
       "      <td>72.1</td>\n",
       "      <td>84.8</td>\n",
       "    </tr>\n",
       "  </tbody>\n",
       "</table>\n",
       "</div>"
      ],
      "text/plain": [
       "Typ           STATE_UT  Rural  Urban\n",
       "0        A & N Islands   84.5   90.1\n",
       "1       Andhra Pradesh   60.4   80.1\n",
       "2    Arunachal Pradesh   59.9   82.9\n",
       "3                Assam   69.3   88.5\n",
       "4                Bihar   59.8   76.9\n",
       "5           Chandigarh   80.7   86.2\n",
       "6         Chhattisgarh   66.0   84.0\n",
       "7         D & N Haveli   64.1   89.8\n",
       "8          Daman & Diu   81.4   89.0\n",
       "9                  Goa   86.6   90.0\n",
       "10             Gujarat   71.7   86.3\n",
       "11             Haryana   71.4   83.1\n",
       "12    Himachal Pradesh   81.9   91.1\n",
       "13     Jammu & Kashmir   63.2   77.1\n",
       "14           Jharkhand   61.1   82.3\n",
       "15           Karnataka   68.7   85.8\n",
       "16              Kerala   93.0   95.1\n",
       "17         Lakshadweep   91.6   91.9\n",
       "18      Madhya Pradesh   63.9   82.8\n",
       "19         Maharashtra   77.0   88.7\n",
       "20             Manipur   73.4   85.4\n",
       "21           Meghalaya   69.9   90.8\n",
       "22             Mizoram   84.1   97.6\n",
       "23        NCT of Delhi   81.9   86.3\n",
       "24            Nagaland   75.3   89.6\n",
       "25              Odisha   70.2   85.7\n",
       "26          Puducherry   80.1   88.5\n",
       "27              Punjab   71.4   83.2\n",
       "28           Rajasthan   61.4   79.7\n",
       "29              Sikkim   78.9   88.7\n",
       "30          Tamil Nadu   73.5   87.0\n",
       "31             Tripura   84.9   93.5\n",
       "32       Uttar Pradesh   65.5   75.1\n",
       "33         Uttarakhand   76.3   84.5\n",
       "34         West Bengal   72.1   84.8"
      ]
     },
     "execution_count": 110,
     "metadata": {},
     "output_type": "execute_result"
    }
   ],
   "source": [
    "q4=df2[(df2['Year']=='2011') & (df2['Typ']!='Total')].groupby(['STATE_UT','Typ']).agg({\"Literacy_Rate\":\"mean\"}).sort_values(by='Literacy_Rate',ascending=True).reset_index()\n",
    "q4=q4.set_index(['STATE_UT','Typ'])['Literacy_Rate'].unstack().reset_index()\n",
    "q4"
   ]
  }
 ],
 "metadata": {
  "kernelspec": {
   "display_name": "Python 3 (ipykernel)",
   "language": "python",
   "name": "python3"
  },
  "language_info": {
   "codemirror_mode": {
    "name": "ipython",
    "version": 3
   },
   "file_extension": ".py",
   "mimetype": "text/x-python",
   "name": "python",
   "nbconvert_exporter": "python",
   "pygments_lexer": "ipython3",
   "version": "3.9.5"
  }
 },
 "nbformat": 4,
 "nbformat_minor": 5
}
