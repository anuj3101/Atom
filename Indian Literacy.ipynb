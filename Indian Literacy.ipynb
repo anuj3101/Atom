{
 "cells": [
  {
   "cell_type": "code",
   "execution_count": 18,
   "id": "6979f7e6",
   "metadata": {},
   "outputs": [
    {
     "name": "stderr",
     "output_type": "stream",
     "text": [
      "/tmp/ipykernel_23027/2190296164.py:30: FutureWarning:\n",
      "\n",
      "The default value of regex will change from True to False in a future version. In addition, single character regular expressions will *not* be treated as literal strings when regex=True.\n",
      "\n",
      "/tmp/ipykernel_23027/2190296164.py:31: FutureWarning:\n",
      "\n",
      "The default value of regex will change from True to False in a future version. In addition, single character regular expressions will *not* be treated as literal strings when regex=True.\n",
      "\n"
     ]
    }
   ],
   "source": [
    "import pandas as pd\n",
    "import datetime as dt\n",
    "import pandasql as ps\n",
    "import os\n",
    "import zipfile as zp\n",
    "from datetime import datetime\n",
    "import matplotlib.pyplot as plt\n",
    "import plotly.express as px\n",
    "\n",
    "#from kaggle.api.kaggle_api_extended import KaggleApi\n",
    "#api = KaggleApi()\n",
    "#api.authenticate()\n",
    "\n",
    "#dataset_name=api.dataset_list_files('prakrutchauhan/indian-candidates-for-general-election-2019').files\n",
    "\n",
    "DIR=r'/home/anuj/Downloads/'\n",
    "ZIp='archive(2).zip'\n",
    "\n",
    "os.chdir(DIR)\n",
    "zf = zp.ZipFile(f'{ZIp}')\n",
    "\n",
    "dfs={}\n",
    "for name in zf.namelist():\n",
    "    df_name= name.replace('.csv','')\n",
    "    dfs[df_name]=pd.read_csv(zf.open(name,mode='r'),encoding='latin')\n",
    "\n",
    "df=dfs['GOI']\n",
    "df.columns=df.columns.str.replace(' ','_')\n",
    "df.columns=df.columns.str.replace('\\n','_')\n",
    "df.columns=df.columns.str.replace('(','')\n",
    "df.columns=df.columns.str.replace(')','')\n",
    "df.columns=df.columns.str.replace('-','')\n",
    "df.columns=df.columns.str.replace('/','')\n",
    "\n",
    "\n",
    "\n",
    "#os.chdir(r'C:\\Users\\anuj\\Documents\\My Tableau Repository\\Datasources')\n",
    "#df.to_csv('indian_elections.csv',index=False)"
   ]
  },
  {
   "cell_type": "code",
   "execution_count": 19,
   "id": "d0e86a6f",
   "metadata": {},
   "outputs": [],
   "source": [
    "df2=df.melt(id_vars=['Category','Country_States_Union_Territories_Name'],value_name='Literacy_Rate',var_name='Type')\n",
    "df2=df2.rename(columns={\"Country_States_Union_Territories_Name\":\"STATE_UT\"})\n",
    "df2['Year']=df2['Type'].apply(lambda x: x.split('__')[2])\n",
    "df2['Typ']=df2['Type'].apply(lambda x: x.split('__')[1])\n",
    "del df2['Type']\n"
   ]
  },
  {
   "cell_type": "code",
   "execution_count": 3,
   "id": "b8db8870",
   "metadata": {},
   "outputs": [
    {
     "data": {
      "text/html": [
       "<div>\n",
       "<style scoped>\n",
       "    .dataframe tbody tr th:only-of-type {\n",
       "        vertical-align: middle;\n",
       "    }\n",
       "\n",
       "    .dataframe tbody tr th {\n",
       "        vertical-align: top;\n",
       "    }\n",
       "\n",
       "    .dataframe thead th {\n",
       "        text-align: right;\n",
       "    }\n",
       "</style>\n",
       "<table border=\"1\" class=\"dataframe\">\n",
       "  <thead>\n",
       "    <tr style=\"text-align: right;\">\n",
       "      <th></th>\n",
       "      <th>Category</th>\n",
       "      <th>STATE_UT</th>\n",
       "      <th>Literacy_Rate</th>\n",
       "      <th>Year</th>\n",
       "      <th>Typ</th>\n",
       "    </tr>\n",
       "  </thead>\n",
       "  <tbody>\n",
       "  </tbody>\n",
       "</table>\n",
       "</div>"
      ],
      "text/plain": [
       "Empty DataFrame\n",
       "Columns: [Category, STATE_UT, Literacy_Rate, Year, Typ]\n",
       "Index: []"
      ]
     },
     "execution_count": 3,
     "metadata": {},
     "output_type": "execute_result"
    }
   ],
   "source": [
    "df2.isnull().isnull().sum()\n",
    "df2[df2.duplicated()]"
   ]
  },
  {
   "cell_type": "code",
   "execution_count": 5,
   "id": "3e4bac83",
   "metadata": {},
   "outputs": [
    {
     "name": "stdout",
     "output_type": "stream",
     "text": [
      "Category 2\n",
      "STATE_UT 35\n",
      "Literacy_Rate 163\n",
      "Year 2\n",
      "Typ 3\n"
     ]
    }
   ],
   "source": [
    "# NUMBER OF UNIQUE VALUES\n",
    "\n",
    "for col in df2.columns:\n",
    "    print(col,df2[col].nunique())"
   ]
  },
  {
   "cell_type": "markdown",
   "id": "c4b6a8e5",
   "metadata": {},
   "source": [
    "### AVG LITERACY RATE BY STATE"
   ]
  },
  {
   "cell_type": "code",
   "execution_count": 34,
   "id": "dbf03f9f",
   "metadata": {},
   "outputs": [
    {
     "data": {
      "application/vnd.plotly.v1+json": {
       "config": {
        "plotlyServerURL": "https://plot.ly"
       },
       "data": [
        {
         "alignmentgroup": "True",
         "customdata": [
          [
           "2011",
           "Rural",
           "59.8%"
          ],
          [
           "2011",
           "Rural",
           "59.9%"
          ],
          [
           "2011",
           "Rural",
           "60.4%"
          ],
          [
           "2011",
           "Rural",
           "61.1%"
          ],
          [
           "2011",
           "Rural",
           "61.4%"
          ],
          [
           "2011",
           "Rural",
           "63.2%"
          ],
          [
           "2011",
           "Rural",
           "63.9%"
          ],
          [
           "2011",
           "Rural",
           "64.1%"
          ],
          [
           "2011",
           "Rural",
           "65.5%"
          ],
          [
           "2011",
           "Rural",
           "66.0%"
          ],
          [
           "2011",
           "Rural",
           "68.7%"
          ],
          [
           "2011",
           "Rural",
           "69.3%"
          ],
          [
           "2011",
           "Rural",
           "69.9%"
          ],
          [
           "2011",
           "Rural",
           "70.2%"
          ],
          [
           "2011",
           "Rural",
           "71.4%"
          ],
          [
           "2011",
           "Rural",
           "71.4%"
          ],
          [
           "2011",
           "Rural",
           "71.7%"
          ],
          [
           "2011",
           "Rural",
           "72.1%"
          ],
          [
           "2011",
           "Rural",
           "73.4%"
          ],
          [
           "2011",
           "Rural",
           "73.5%"
          ],
          [
           "2011",
           "Rural",
           "75.3%"
          ],
          [
           "2011",
           "Rural",
           "76.3%"
          ],
          [
           "2011",
           "Rural",
           "77.0%"
          ],
          [
           "2011",
           "Rural",
           "78.9%"
          ],
          [
           "2011",
           "Rural",
           "80.1%"
          ],
          [
           "2011",
           "Rural",
           "80.7%"
          ],
          [
           "2011",
           "Rural",
           "81.4%"
          ],
          [
           "2011",
           "Rural",
           "81.9%"
          ],
          [
           "2011",
           "Rural",
           "81.9%"
          ],
          [
           "2011",
           "Rural",
           "84.1%"
          ],
          [
           "2011",
           "Rural",
           "84.5%"
          ],
          [
           "2011",
           "Rural",
           "84.9%"
          ],
          [
           "2011",
           "Rural",
           "86.6%"
          ],
          [
           "2011",
           "Rural",
           "91.6%"
          ],
          [
           "2011",
           "Rural",
           "93.0%"
          ]
         ],
         "hovertemplate": "Typ=%{customdata[1]}<br>Year=%{customdata[0]}<br>Literacy_Rate=%{x}<br>STATE_UT=%{y}<br>Literacy_Rate_lab=%{customdata[2]}<extra></extra>",
         "legendgroup": "Rural",
         "marker": {
          "color": "#636efa",
          "pattern": {
           "shape": ""
          }
         },
         "name": "Rural",
         "offsetgroup": "Rural",
         "orientation": "h",
         "showlegend": true,
         "text": [
          "59.8%",
          "59.9%",
          "60.4%",
          "61.1%",
          "61.4%",
          "63.2%",
          "63.9%",
          "64.1%",
          "65.5%",
          "66.0%",
          "68.7%",
          "69.3%",
          "69.9%",
          "70.2%",
          "71.4%",
          "71.4%",
          "71.7%",
          "72.1%",
          "73.4%",
          "73.5%",
          "75.3%",
          "76.3%",
          "77.0%",
          "78.9%",
          "80.1%",
          "80.7%",
          "81.4%",
          "81.9%",
          "81.9%",
          "84.1%",
          "84.5%",
          "84.9%",
          "86.6%",
          "91.6%",
          "93.0%"
         ],
         "textposition": "auto",
         "type": "bar",
         "x": [
          59.8,
          59.9,
          60.4,
          61.1,
          61.4,
          63.2,
          63.9,
          64.1,
          65.5,
          66,
          68.7,
          69.3,
          69.9,
          70.2,
          71.4,
          71.4,
          71.7,
          72.1,
          73.4,
          73.5,
          75.3,
          76.3,
          77,
          78.9,
          80.1,
          80.7,
          81.4,
          81.9,
          81.9,
          84.1,
          84.5,
          84.9,
          86.6,
          91.6,
          93
         ],
         "xaxis": "x",
         "y": [
          "Bihar",
          "Arunachal Pradesh",
          "Andhra Pradesh",
          "Jharkhand",
          "Rajasthan",
          "Jammu & Kashmir",
          "Madhya Pradesh",
          "D & N Haveli",
          "Uttar Pradesh",
          "Chhattisgarh",
          "Karnataka",
          "Assam",
          "Meghalaya",
          "Odisha",
          "Haryana",
          "Punjab",
          "Gujarat",
          "West Bengal",
          "Manipur",
          "Tamil Nadu",
          "Nagaland",
          "Uttarakhand",
          "Maharashtra",
          "Sikkim",
          "Puducherry",
          "Chandigarh",
          "Daman & Diu",
          "Himachal Pradesh",
          "NCT of Delhi",
          "Mizoram",
          "A & N Islands",
          "Tripura",
          "Goa",
          "Lakshadweep",
          "Kerala"
         ],
         "yaxis": "y"
        },
        {
         "alignmentgroup": "True",
         "customdata": [
          [
           "2001",
           "Rural",
           "43.9%"
          ],
          [
           "2001",
           "Rural",
           "45.7%"
          ],
          [
           "2001",
           "Rural",
           "47.8%"
          ],
          [
           "2001",
           "Rural",
           "49.3%"
          ],
          [
           "2001",
           "Rural",
           "49.8%"
          ],
          [
           "2001",
           "Rural",
           "52.5%"
          ],
          [
           "2001",
           "Rural",
           "54.5%"
          ],
          [
           "2001",
           "Rural",
           "55.3%"
          ],
          [
           "2001",
           "Rural",
           "56.3%"
          ],
          [
           "2001",
           "Rural",
           "57.8%"
          ],
          [
           "2001",
           "Rural",
           "59.3%"
          ],
          [
           "2001",
           "Rural",
           "59.7%"
          ],
          [
           "2001",
           "Rural",
           "59.8%"
          ],
          [
           "2001",
           "Rural",
           "60.5%"
          ],
          [
           "2001",
           "Rural",
           "61.3%"
          ],
          [
           "2001",
           "Rural",
           "62.8%"
          ],
          [
           "2001",
           "Rural",
           "63.2%"
          ],
          [
           "2001",
           "Rural",
           "63.4%"
          ],
          [
           "2001",
           "Rural",
           "64.7%"
          ],
          [
           "2001",
           "Rural",
           "66.2%"
          ],
          [
           "2001",
           "Rural",
           "66.8%"
          ],
          [
           "2001",
           "Rural",
           "67.3%"
          ],
          [
           "2001",
           "Rural",
           "68.1%"
          ],
          [
           "2001",
           "Rural",
           "69.7%"
          ],
          [
           "2001",
           "Rural",
           "70.4%"
          ],
          [
           "2001",
           "Rural",
           "74.0%"
          ],
          [
           "2001",
           "Rural",
           "75.1%"
          ],
          [
           "2001",
           "Rural",
           "75.6%"
          ],
          [
           "2001",
           "Rural",
           "75.8%"
          ],
          [
           "2001",
           "Rural",
           "78.1%"
          ],
          [
           "2001",
           "Rural",
           "78.7%"
          ],
          [
           "2001",
           "Rural",
           "79.7%"
          ],
          [
           "2001",
           "Rural",
           "81.3%"
          ],
          [
           "2001",
           "Rural",
           "85.0%"
          ],
          [
           "2001",
           "Rural",
           "90.0%"
          ]
         ],
         "hovertemplate": "Typ=%{customdata[1]}<br>Year=%{customdata[0]}<br>Literacy_Rate=%{x}<br>STATE_UT=%{y}<br>Literacy_Rate_lab=%{customdata[2]}<extra></extra>",
         "legendgroup": "Rural",
         "marker": {
          "color": "#636efa",
          "pattern": {
           "shape": ""
          }
         },
         "name": "Rural",
         "offsetgroup": "Rural",
         "orientation": "h",
         "showlegend": false,
         "text": [
          "43.9%",
          "45.7%",
          "47.8%",
          "49.3%",
          "49.8%",
          "52.5%",
          "54.5%",
          "55.3%",
          "56.3%",
          "57.8%",
          "59.3%",
          "59.7%",
          "59.8%",
          "60.5%",
          "61.3%",
          "62.8%",
          "63.2%",
          "63.4%",
          "64.7%",
          "66.2%",
          "66.8%",
          "67.3%",
          "68.1%",
          "69.7%",
          "70.4%",
          "74.0%",
          "75.1%",
          "75.6%",
          "75.8%",
          "78.1%",
          "78.7%",
          "79.7%",
          "81.3%",
          "85.0%",
          "90.0%"
         ],
         "textposition": "auto",
         "type": "bar",
         "x": [
          43.9,
          45.7,
          47.8,
          49.3,
          49.8,
          52.5,
          54.5,
          55.3,
          56.3,
          57.8,
          59.3,
          59.7,
          59.8,
          60.5,
          61.3,
          62.8,
          63.2,
          63.4,
          64.7,
          66.2,
          66.8,
          67.3,
          68.1,
          69.7,
          70.4,
          74,
          75.1,
          75.6,
          75.8,
          78.1,
          78.7,
          79.7,
          81.3,
          85,
          90
         ],
         "xaxis": "x2",
         "y": [
          "Bihar",
          "Jharkhand",
          "Arunachal Pradesh",
          "D & N Haveli",
          "Jammu & Kashmir",
          "Uttar Pradesh",
          "Andhra Pradesh",
          "Rajasthan",
          "Meghalaya",
          "Madhya Pradesh",
          "Karnataka",
          "Assam",
          "Odisha",
          "Chhattisgarh",
          "Gujarat",
          "Nagaland",
          "Haryana",
          "West Bengal",
          "Punjab",
          "Tamil Nadu",
          "Sikkim",
          "Manipur",
          "Uttarakhand",
          "Tripura",
          "Maharashtra",
          "Puducherry",
          "Himachal Pradesh",
          "Chandigarh",
          "Daman & Diu",
          "NCT of Delhi",
          "A & N Islands",
          "Goa",
          "Mizoram",
          "Lakshadweep",
          "Kerala"
         ],
         "yaxis": "y2"
        },
        {
         "alignmentgroup": "True",
         "customdata": [
          [
           "2011",
           "Urban",
           "75.1%"
          ],
          [
           "2011",
           "Urban",
           "76.9%"
          ],
          [
           "2011",
           "Urban",
           "77.1%"
          ],
          [
           "2011",
           "Urban",
           "79.7%"
          ],
          [
           "2011",
           "Urban",
           "80.1%"
          ],
          [
           "2011",
           "Urban",
           "82.3%"
          ],
          [
           "2011",
           "Urban",
           "82.8%"
          ],
          [
           "2011",
           "Urban",
           "82.9%"
          ],
          [
           "2011",
           "Urban",
           "83.1%"
          ],
          [
           "2011",
           "Urban",
           "83.2%"
          ],
          [
           "2011",
           "Urban",
           "84.0%"
          ],
          [
           "2011",
           "Urban",
           "84.5%"
          ],
          [
           "2011",
           "Urban",
           "84.8%"
          ],
          [
           "2011",
           "Urban",
           "85.4%"
          ],
          [
           "2011",
           "Urban",
           "85.7%"
          ],
          [
           "2011",
           "Urban",
           "85.8%"
          ],
          [
           "2011",
           "Urban",
           "86.2%"
          ],
          [
           "2011",
           "Urban",
           "86.3%"
          ],
          [
           "2011",
           "Urban",
           "86.3%"
          ],
          [
           "2011",
           "Urban",
           "87.0%"
          ],
          [
           "2011",
           "Urban",
           "88.5%"
          ],
          [
           "2011",
           "Urban",
           "88.5%"
          ],
          [
           "2011",
           "Urban",
           "88.7%"
          ],
          [
           "2011",
           "Urban",
           "88.7%"
          ],
          [
           "2011",
           "Urban",
           "89.0%"
          ],
          [
           "2011",
           "Urban",
           "89.6%"
          ],
          [
           "2011",
           "Urban",
           "89.8%"
          ],
          [
           "2011",
           "Urban",
           "90.0%"
          ],
          [
           "2011",
           "Urban",
           "90.1%"
          ],
          [
           "2011",
           "Urban",
           "90.8%"
          ],
          [
           "2011",
           "Urban",
           "91.1%"
          ],
          [
           "2011",
           "Urban",
           "91.9%"
          ],
          [
           "2011",
           "Urban",
           "93.5%"
          ],
          [
           "2011",
           "Urban",
           "95.1%"
          ],
          [
           "2011",
           "Urban",
           "97.6%"
          ]
         ],
         "hovertemplate": "Typ=%{customdata[1]}<br>Year=%{customdata[0]}<br>Literacy_Rate=%{x}<br>STATE_UT=%{y}<br>Literacy_Rate_lab=%{customdata[2]}<extra></extra>",
         "legendgroup": "Urban",
         "marker": {
          "color": "#EF553B",
          "pattern": {
           "shape": ""
          }
         },
         "name": "Urban",
         "offsetgroup": "Urban",
         "orientation": "h",
         "showlegend": true,
         "text": [
          "75.1%",
          "76.9%",
          "77.1%",
          "79.7%",
          "80.1%",
          "82.3%",
          "82.8%",
          "82.9%",
          "83.1%",
          "83.2%",
          "84.0%",
          "84.5%",
          "84.8%",
          "85.4%",
          "85.7%",
          "85.8%",
          "86.2%",
          "86.3%",
          "86.3%",
          "87.0%",
          "88.5%",
          "88.5%",
          "88.7%",
          "88.7%",
          "89.0%",
          "89.6%",
          "89.8%",
          "90.0%",
          "90.1%",
          "90.8%",
          "91.1%",
          "91.9%",
          "93.5%",
          "95.1%",
          "97.6%"
         ],
         "textposition": "auto",
         "type": "bar",
         "x": [
          75.1,
          76.9,
          77.1,
          79.7,
          80.1,
          82.3,
          82.8,
          82.9,
          83.1,
          83.2,
          84,
          84.5,
          84.8,
          85.4,
          85.7,
          85.8,
          86.2,
          86.3,
          86.3,
          87,
          88.5,
          88.5,
          88.7,
          88.7,
          89,
          89.6,
          89.8,
          90,
          90.1,
          90.8,
          91.1,
          91.9,
          93.5,
          95.1,
          97.6
         ],
         "xaxis": "x",
         "y": [
          "Uttar Pradesh",
          "Bihar",
          "Jammu & Kashmir",
          "Rajasthan",
          "Andhra Pradesh",
          "Jharkhand",
          "Madhya Pradesh",
          "Arunachal Pradesh",
          "Haryana",
          "Punjab",
          "Chhattisgarh",
          "Uttarakhand",
          "West Bengal",
          "Manipur",
          "Odisha",
          "Karnataka",
          "Chandigarh",
          "Gujarat",
          "NCT of Delhi",
          "Tamil Nadu",
          "Assam",
          "Puducherry",
          "Maharashtra",
          "Sikkim",
          "Daman & Diu",
          "Nagaland",
          "D & N Haveli",
          "Goa",
          "A & N Islands",
          "Meghalaya",
          "Himachal Pradesh",
          "Lakshadweep",
          "Tripura",
          "Kerala",
          "Mizoram"
         ],
         "yaxis": "y"
        },
        {
         "alignmentgroup": "True",
         "customdata": [
          [
           "2001",
           "Urban",
           "69.8%"
          ],
          [
           "2001",
           "Urban",
           "71.9%"
          ],
          [
           "2001",
           "Urban",
           "71.9%"
          ],
          [
           "2001",
           "Urban",
           "76.1%"
          ],
          [
           "2001",
           "Urban",
           "76.2%"
          ],
          [
           "2001",
           "Urban",
           "78.3%"
          ],
          [
           "2001",
           "Urban",
           "79.1%"
          ],
          [
           "2001",
           "Urban",
           "79.1%"
          ],
          [
           "2001",
           "Urban",
           "79.2%"
          ],
          [
           "2001",
           "Urban",
           "79.3%"
          ],
          [
           "2001",
           "Urban",
           "79.4%"
          ],
          [
           "2001",
           "Urban",
           "80.6%"
          ],
          [
           "2001",
           "Urban",
           "80.6%"
          ],
          [
           "2001",
           "Urban",
           "80.8%"
          ],
          [
           "2001",
           "Urban",
           "81.2%"
          ],
          [
           "2001",
           "Urban",
           "81.4%"
          ],
          [
           "2001",
           "Urban",
           "81.8%"
          ],
          [
           "2001",
           "Urban",
           "81.9%"
          ],
          [
           "2001",
           "Urban",
           "82.3%"
          ],
          [
           "2001",
           "Urban",
           "82.5%"
          ],
          [
           "2001",
           "Urban",
           "82.6%"
          ],
          [
           "2001",
           "Urban",
           "83.9%"
          ],
          [
           "2001",
           "Urban",
           "84.4%"
          ],
          [
           "2001",
           "Urban",
           "84.4%"
          ],
          [
           "2001",
           "Urban",
           "84.7%"
          ],
          [
           "2001",
           "Urban",
           "84.8%"
          ],
          [
           "2001",
           "Urban",
           "85.3%"
          ],
          [
           "2001",
           "Urban",
           "85.5%"
          ],
          [
           "2001",
           "Urban",
           "86.3%"
          ],
          [
           "2001",
           "Urban",
           "86.6%"
          ],
          [
           "2001",
           "Urban",
           "88.6%"
          ],
          [
           "2001",
           "Urban",
           "88.9%"
          ],
          [
           "2001",
           "Urban",
           "89.2%"
          ],
          [
           "2001",
           "Urban",
           "93.2%"
          ],
          [
           "2001",
           "Urban",
           "96.1%"
          ]
         ],
         "hovertemplate": "Typ=%{customdata[1]}<br>Year=%{customdata[0]}<br>Literacy_Rate=%{x}<br>STATE_UT=%{y}<br>Literacy_Rate_lab=%{customdata[2]}<extra></extra>",
         "legendgroup": "Urban",
         "marker": {
          "color": "#EF553B",
          "pattern": {
           "shape": ""
          }
         },
         "name": "Urban",
         "offsetgroup": "Urban",
         "orientation": "h",
         "showlegend": false,
         "text": [
          "69.8%",
          "71.9%",
          "71.9%",
          "76.1%",
          "76.2%",
          "78.3%",
          "79.1%",
          "79.1%",
          "79.2%",
          "79.3%",
          "79.4%",
          "80.6%",
          "80.6%",
          "80.8%",
          "81.2%",
          "81.4%",
          "81.8%",
          "81.9%",
          "82.3%",
          "82.5%",
          "82.6%",
          "83.9%",
          "84.4%",
          "84.4%",
          "84.7%",
          "84.8%",
          "85.3%",
          "85.5%",
          "86.3%",
          "86.6%",
          "88.6%",
          "88.9%",
          "89.2%",
          "93.2%",
          "96.1%"
         ],
         "textposition": "auto",
         "type": "bar",
         "x": [
          69.8,
          71.9,
          71.9,
          76.1,
          76.2,
          78.3,
          79.1,
          79.1,
          79.2,
          79.3,
          79.4,
          80.6,
          80.6,
          80.8,
          81.2,
          81.4,
          81.8,
          81.9,
          82.3,
          82.5,
          82.6,
          83.9,
          84.4,
          84.4,
          84.7,
          84.8,
          85.3,
          85.5,
          86.3,
          86.6,
          88.6,
          88.9,
          89.2,
          93.2,
          96.1
         ],
         "xaxis": "x2",
         "y": [
          "Uttar Pradesh",
          "Bihar",
          "Jammu & Kashmir",
          "Andhra Pradesh",
          "Rajasthan",
          "Arunachal Pradesh",
          "Jharkhand",
          "Punjab",
          "Haryana",
          "Manipur",
          "Madhya Pradesh",
          "Chhattisgarh",
          "Karnataka",
          "Odisha",
          "West Bengal",
          "Uttarakhand",
          "Gujarat",
          "NCT of Delhi",
          "Daman & Diu",
          "Tamil Nadu",
          "Chandigarh",
          "Sikkim",
          "D & N Haveli",
          "Goa",
          "Nagaland",
          "Puducherry",
          "Assam",
          "Maharashtra",
          "Meghalaya",
          "A & N Islands",
          "Lakshadweep",
          "Himachal Pradesh",
          "Tripura",
          "Kerala",
          "Mizoram"
         ],
         "yaxis": "y2"
        }
       ],
       "layout": {
        "annotations": [
         {
          "font": {},
          "showarrow": false,
          "text": "Year=2011",
          "x": 0.245,
          "xanchor": "center",
          "xref": "paper",
          "y": 1,
          "yanchor": "bottom",
          "yref": "paper"
         },
         {
          "font": {},
          "showarrow": false,
          "text": "Year=2001",
          "x": 0.755,
          "xanchor": "center",
          "xref": "paper",
          "y": 1,
          "yanchor": "bottom",
          "yref": "paper"
         }
        ],
        "barmode": "group",
        "font": {
         "family": "Courier New"
        },
        "height": 2000,
        "legend": {
         "title": {
          "font": {
           "color": "green"
          },
          "text": "Typ"
         },
         "tracegroupgap": 0
        },
        "margin": {
         "t": 60
        },
        "showlegend": true,
        "template": {
         "data": {
          "bar": [
           {
            "error_x": {
             "color": "#2a3f5f"
            },
            "error_y": {
             "color": "#2a3f5f"
            },
            "marker": {
             "line": {
              "color": "#E5ECF6",
              "width": 0.5
             },
             "pattern": {
              "fillmode": "overlay",
              "size": 10,
              "solidity": 0.2
             }
            },
            "type": "bar"
           }
          ],
          "barpolar": [
           {
            "marker": {
             "line": {
              "color": "#E5ECF6",
              "width": 0.5
             },
             "pattern": {
              "fillmode": "overlay",
              "size": 10,
              "solidity": 0.2
             }
            },
            "type": "barpolar"
           }
          ],
          "carpet": [
           {
            "aaxis": {
             "endlinecolor": "#2a3f5f",
             "gridcolor": "white",
             "linecolor": "white",
             "minorgridcolor": "white",
             "startlinecolor": "#2a3f5f"
            },
            "baxis": {
             "endlinecolor": "#2a3f5f",
             "gridcolor": "white",
             "linecolor": "white",
             "minorgridcolor": "white",
             "startlinecolor": "#2a3f5f"
            },
            "type": "carpet"
           }
          ],
          "choropleth": [
           {
            "colorbar": {
             "outlinewidth": 0,
             "ticks": ""
            },
            "type": "choropleth"
           }
          ],
          "contour": [
           {
            "colorbar": {
             "outlinewidth": 0,
             "ticks": ""
            },
            "colorscale": [
             [
              0,
              "#0d0887"
             ],
             [
              0.1111111111111111,
              "#46039f"
             ],
             [
              0.2222222222222222,
              "#7201a8"
             ],
             [
              0.3333333333333333,
              "#9c179e"
             ],
             [
              0.4444444444444444,
              "#bd3786"
             ],
             [
              0.5555555555555556,
              "#d8576b"
             ],
             [
              0.6666666666666666,
              "#ed7953"
             ],
             [
              0.7777777777777778,
              "#fb9f3a"
             ],
             [
              0.8888888888888888,
              "#fdca26"
             ],
             [
              1,
              "#f0f921"
             ]
            ],
            "type": "contour"
           }
          ],
          "contourcarpet": [
           {
            "colorbar": {
             "outlinewidth": 0,
             "ticks": ""
            },
            "type": "contourcarpet"
           }
          ],
          "heatmap": [
           {
            "colorbar": {
             "outlinewidth": 0,
             "ticks": ""
            },
            "colorscale": [
             [
              0,
              "#0d0887"
             ],
             [
              0.1111111111111111,
              "#46039f"
             ],
             [
              0.2222222222222222,
              "#7201a8"
             ],
             [
              0.3333333333333333,
              "#9c179e"
             ],
             [
              0.4444444444444444,
              "#bd3786"
             ],
             [
              0.5555555555555556,
              "#d8576b"
             ],
             [
              0.6666666666666666,
              "#ed7953"
             ],
             [
              0.7777777777777778,
              "#fb9f3a"
             ],
             [
              0.8888888888888888,
              "#fdca26"
             ],
             [
              1,
              "#f0f921"
             ]
            ],
            "type": "heatmap"
           }
          ],
          "heatmapgl": [
           {
            "colorbar": {
             "outlinewidth": 0,
             "ticks": ""
            },
            "colorscale": [
             [
              0,
              "#0d0887"
             ],
             [
              0.1111111111111111,
              "#46039f"
             ],
             [
              0.2222222222222222,
              "#7201a8"
             ],
             [
              0.3333333333333333,
              "#9c179e"
             ],
             [
              0.4444444444444444,
              "#bd3786"
             ],
             [
              0.5555555555555556,
              "#d8576b"
             ],
             [
              0.6666666666666666,
              "#ed7953"
             ],
             [
              0.7777777777777778,
              "#fb9f3a"
             ],
             [
              0.8888888888888888,
              "#fdca26"
             ],
             [
              1,
              "#f0f921"
             ]
            ],
            "type": "heatmapgl"
           }
          ],
          "histogram": [
           {
            "marker": {
             "pattern": {
              "fillmode": "overlay",
              "size": 10,
              "solidity": 0.2
             }
            },
            "type": "histogram"
           }
          ],
          "histogram2d": [
           {
            "colorbar": {
             "outlinewidth": 0,
             "ticks": ""
            },
            "colorscale": [
             [
              0,
              "#0d0887"
             ],
             [
              0.1111111111111111,
              "#46039f"
             ],
             [
              0.2222222222222222,
              "#7201a8"
             ],
             [
              0.3333333333333333,
              "#9c179e"
             ],
             [
              0.4444444444444444,
              "#bd3786"
             ],
             [
              0.5555555555555556,
              "#d8576b"
             ],
             [
              0.6666666666666666,
              "#ed7953"
             ],
             [
              0.7777777777777778,
              "#fb9f3a"
             ],
             [
              0.8888888888888888,
              "#fdca26"
             ],
             [
              1,
              "#f0f921"
             ]
            ],
            "type": "histogram2d"
           }
          ],
          "histogram2dcontour": [
           {
            "colorbar": {
             "outlinewidth": 0,
             "ticks": ""
            },
            "colorscale": [
             [
              0,
              "#0d0887"
             ],
             [
              0.1111111111111111,
              "#46039f"
             ],
             [
              0.2222222222222222,
              "#7201a8"
             ],
             [
              0.3333333333333333,
              "#9c179e"
             ],
             [
              0.4444444444444444,
              "#bd3786"
             ],
             [
              0.5555555555555556,
              "#d8576b"
             ],
             [
              0.6666666666666666,
              "#ed7953"
             ],
             [
              0.7777777777777778,
              "#fb9f3a"
             ],
             [
              0.8888888888888888,
              "#fdca26"
             ],
             [
              1,
              "#f0f921"
             ]
            ],
            "type": "histogram2dcontour"
           }
          ],
          "mesh3d": [
           {
            "colorbar": {
             "outlinewidth": 0,
             "ticks": ""
            },
            "type": "mesh3d"
           }
          ],
          "parcoords": [
           {
            "line": {
             "colorbar": {
              "outlinewidth": 0,
              "ticks": ""
             }
            },
            "type": "parcoords"
           }
          ],
          "pie": [
           {
            "automargin": true,
            "type": "pie"
           }
          ],
          "scatter": [
           {
            "marker": {
             "colorbar": {
              "outlinewidth": 0,
              "ticks": ""
             }
            },
            "type": "scatter"
           }
          ],
          "scatter3d": [
           {
            "line": {
             "colorbar": {
              "outlinewidth": 0,
              "ticks": ""
             }
            },
            "marker": {
             "colorbar": {
              "outlinewidth": 0,
              "ticks": ""
             }
            },
            "type": "scatter3d"
           }
          ],
          "scattercarpet": [
           {
            "marker": {
             "colorbar": {
              "outlinewidth": 0,
              "ticks": ""
             }
            },
            "type": "scattercarpet"
           }
          ],
          "scattergeo": [
           {
            "marker": {
             "colorbar": {
              "outlinewidth": 0,
              "ticks": ""
             }
            },
            "type": "scattergeo"
           }
          ],
          "scattergl": [
           {
            "marker": {
             "colorbar": {
              "outlinewidth": 0,
              "ticks": ""
             }
            },
            "type": "scattergl"
           }
          ],
          "scattermapbox": [
           {
            "marker": {
             "colorbar": {
              "outlinewidth": 0,
              "ticks": ""
             }
            },
            "type": "scattermapbox"
           }
          ],
          "scatterpolar": [
           {
            "marker": {
             "colorbar": {
              "outlinewidth": 0,
              "ticks": ""
             }
            },
            "type": "scatterpolar"
           }
          ],
          "scatterpolargl": [
           {
            "marker": {
             "colorbar": {
              "outlinewidth": 0,
              "ticks": ""
             }
            },
            "type": "scatterpolargl"
           }
          ],
          "scatterternary": [
           {
            "marker": {
             "colorbar": {
              "outlinewidth": 0,
              "ticks": ""
             }
            },
            "type": "scatterternary"
           }
          ],
          "surface": [
           {
            "colorbar": {
             "outlinewidth": 0,
             "ticks": ""
            },
            "colorscale": [
             [
              0,
              "#0d0887"
             ],
             [
              0.1111111111111111,
              "#46039f"
             ],
             [
              0.2222222222222222,
              "#7201a8"
             ],
             [
              0.3333333333333333,
              "#9c179e"
             ],
             [
              0.4444444444444444,
              "#bd3786"
             ],
             [
              0.5555555555555556,
              "#d8576b"
             ],
             [
              0.6666666666666666,
              "#ed7953"
             ],
             [
              0.7777777777777778,
              "#fb9f3a"
             ],
             [
              0.8888888888888888,
              "#fdca26"
             ],
             [
              1,
              "#f0f921"
             ]
            ],
            "type": "surface"
           }
          ],
          "table": [
           {
            "cells": {
             "fill": {
              "color": "#EBF0F8"
             },
             "line": {
              "color": "white"
             }
            },
            "header": {
             "fill": {
              "color": "#C8D4E3"
             },
             "line": {
              "color": "white"
             }
            },
            "type": "table"
           }
          ]
         },
         "layout": {
          "annotationdefaults": {
           "arrowcolor": "#2a3f5f",
           "arrowhead": 0,
           "arrowwidth": 1
          },
          "autotypenumbers": "strict",
          "coloraxis": {
           "colorbar": {
            "outlinewidth": 0,
            "ticks": ""
           }
          },
          "colorscale": {
           "diverging": [
            [
             0,
             "#8e0152"
            ],
            [
             0.1,
             "#c51b7d"
            ],
            [
             0.2,
             "#de77ae"
            ],
            [
             0.3,
             "#f1b6da"
            ],
            [
             0.4,
             "#fde0ef"
            ],
            [
             0.5,
             "#f7f7f7"
            ],
            [
             0.6,
             "#e6f5d0"
            ],
            [
             0.7,
             "#b8e186"
            ],
            [
             0.8,
             "#7fbc41"
            ],
            [
             0.9,
             "#4d9221"
            ],
            [
             1,
             "#276419"
            ]
           ],
           "sequential": [
            [
             0,
             "#0d0887"
            ],
            [
             0.1111111111111111,
             "#46039f"
            ],
            [
             0.2222222222222222,
             "#7201a8"
            ],
            [
             0.3333333333333333,
             "#9c179e"
            ],
            [
             0.4444444444444444,
             "#bd3786"
            ],
            [
             0.5555555555555556,
             "#d8576b"
            ],
            [
             0.6666666666666666,
             "#ed7953"
            ],
            [
             0.7777777777777778,
             "#fb9f3a"
            ],
            [
             0.8888888888888888,
             "#fdca26"
            ],
            [
             1,
             "#f0f921"
            ]
           ],
           "sequentialminus": [
            [
             0,
             "#0d0887"
            ],
            [
             0.1111111111111111,
             "#46039f"
            ],
            [
             0.2222222222222222,
             "#7201a8"
            ],
            [
             0.3333333333333333,
             "#9c179e"
            ],
            [
             0.4444444444444444,
             "#bd3786"
            ],
            [
             0.5555555555555556,
             "#d8576b"
            ],
            [
             0.6666666666666666,
             "#ed7953"
            ],
            [
             0.7777777777777778,
             "#fb9f3a"
            ],
            [
             0.8888888888888888,
             "#fdca26"
            ],
            [
             1,
             "#f0f921"
            ]
           ]
          },
          "colorway": [
           "#636efa",
           "#EF553B",
           "#00cc96",
           "#ab63fa",
           "#FFA15A",
           "#19d3f3",
           "#FF6692",
           "#B6E880",
           "#FF97FF",
           "#FECB52"
          ],
          "font": {
           "color": "#2a3f5f"
          },
          "geo": {
           "bgcolor": "white",
           "lakecolor": "white",
           "landcolor": "#E5ECF6",
           "showlakes": true,
           "showland": true,
           "subunitcolor": "white"
          },
          "hoverlabel": {
           "align": "left"
          },
          "hovermode": "closest",
          "mapbox": {
           "style": "light"
          },
          "paper_bgcolor": "white",
          "plot_bgcolor": "#E5ECF6",
          "polar": {
           "angularaxis": {
            "gridcolor": "white",
            "linecolor": "white",
            "ticks": ""
           },
           "bgcolor": "#E5ECF6",
           "radialaxis": {
            "gridcolor": "white",
            "linecolor": "white",
            "ticks": ""
           }
          },
          "scene": {
           "xaxis": {
            "backgroundcolor": "#E5ECF6",
            "gridcolor": "white",
            "gridwidth": 2,
            "linecolor": "white",
            "showbackground": true,
            "ticks": "",
            "zerolinecolor": "white"
           },
           "yaxis": {
            "backgroundcolor": "#E5ECF6",
            "gridcolor": "white",
            "gridwidth": 2,
            "linecolor": "white",
            "showbackground": true,
            "ticks": "",
            "zerolinecolor": "white"
           },
           "zaxis": {
            "backgroundcolor": "#E5ECF6",
            "gridcolor": "white",
            "gridwidth": 2,
            "linecolor": "white",
            "showbackground": true,
            "ticks": "",
            "zerolinecolor": "white"
           }
          },
          "shapedefaults": {
           "line": {
            "color": "#2a3f5f"
           }
          },
          "ternary": {
           "aaxis": {
            "gridcolor": "white",
            "linecolor": "white",
            "ticks": ""
           },
           "baxis": {
            "gridcolor": "white",
            "linecolor": "white",
            "ticks": ""
           },
           "bgcolor": "#E5ECF6",
           "caxis": {
            "gridcolor": "white",
            "linecolor": "white",
            "ticks": ""
           }
          },
          "title": {
           "x": 0.05
          },
          "xaxis": {
           "automargin": true,
           "gridcolor": "white",
           "linecolor": "white",
           "ticks": "",
           "title": {
            "standoff": 15
           },
           "zerolinecolor": "white",
           "zerolinewidth": 2
          },
          "yaxis": {
           "automargin": true,
           "gridcolor": "white",
           "linecolor": "white",
           "ticks": "",
           "title": {
            "standoff": 15
           },
           "zerolinecolor": "white",
           "zerolinewidth": 2
          }
         }
        },
        "title": {
         "font": {
          "color": "red",
          "size": 20
         },
         "text": "Literacy Rate by State and Year"
        },
        "xaxis": {
         "anchor": "y",
         "domain": [
          0,
          0.49
         ],
         "title": {
          "text": "Literacy_Rate"
         }
        },
        "xaxis2": {
         "anchor": "y2",
         "domain": [
          0.51,
          1
         ],
         "matches": "x",
         "title": {
          "text": "Literacy_Rate"
         }
        },
        "yaxis": {
         "anchor": "x",
         "domain": [
          0,
          1
         ],
         "title": {
          "text": "STATE_UT"
         }
        },
        "yaxis2": {
         "anchor": "x2",
         "domain": [
          0,
          1
         ],
         "matches": "y",
         "showticklabels": false
        }
       }
      },
      "text/html": [
       "<div>                            <div id=\"cec15ee3-24a8-4fd5-b664-14d3159960f9\" class=\"plotly-graph-div\" style=\"height:2000px; width:100%;\"></div>            <script type=\"text/javascript\">                require([\"plotly\"], function(Plotly) {                    window.PLOTLYENV=window.PLOTLYENV || {};                                    if (document.getElementById(\"cec15ee3-24a8-4fd5-b664-14d3159960f9\")) {                    Plotly.newPlot(                        \"cec15ee3-24a8-4fd5-b664-14d3159960f9\",                        [{\"alignmentgroup\":\"True\",\"customdata\":[[\"2011\",\"Rural\",\"59.8%\"],[\"2011\",\"Rural\",\"59.9%\"],[\"2011\",\"Rural\",\"60.4%\"],[\"2011\",\"Rural\",\"61.1%\"],[\"2011\",\"Rural\",\"61.4%\"],[\"2011\",\"Rural\",\"63.2%\"],[\"2011\",\"Rural\",\"63.9%\"],[\"2011\",\"Rural\",\"64.1%\"],[\"2011\",\"Rural\",\"65.5%\"],[\"2011\",\"Rural\",\"66.0%\"],[\"2011\",\"Rural\",\"68.7%\"],[\"2011\",\"Rural\",\"69.3%\"],[\"2011\",\"Rural\",\"69.9%\"],[\"2011\",\"Rural\",\"70.2%\"],[\"2011\",\"Rural\",\"71.4%\"],[\"2011\",\"Rural\",\"71.4%\"],[\"2011\",\"Rural\",\"71.7%\"],[\"2011\",\"Rural\",\"72.1%\"],[\"2011\",\"Rural\",\"73.4%\"],[\"2011\",\"Rural\",\"73.5%\"],[\"2011\",\"Rural\",\"75.3%\"],[\"2011\",\"Rural\",\"76.3%\"],[\"2011\",\"Rural\",\"77.0%\"],[\"2011\",\"Rural\",\"78.9%\"],[\"2011\",\"Rural\",\"80.1%\"],[\"2011\",\"Rural\",\"80.7%\"],[\"2011\",\"Rural\",\"81.4%\"],[\"2011\",\"Rural\",\"81.9%\"],[\"2011\",\"Rural\",\"81.9%\"],[\"2011\",\"Rural\",\"84.1%\"],[\"2011\",\"Rural\",\"84.5%\"],[\"2011\",\"Rural\",\"84.9%\"],[\"2011\",\"Rural\",\"86.6%\"],[\"2011\",\"Rural\",\"91.6%\"],[\"2011\",\"Rural\",\"93.0%\"]],\"hovertemplate\":\"Typ=%{customdata[1]}<br>Year=%{customdata[0]}<br>Literacy_Rate=%{x}<br>STATE_UT=%{y}<br>Literacy_Rate_lab=%{customdata[2]}<extra></extra>\",\"legendgroup\":\"Rural\",\"marker\":{\"color\":\"#636efa\",\"pattern\":{\"shape\":\"\"}},\"name\":\"Rural\",\"offsetgroup\":\"Rural\",\"orientation\":\"h\",\"showlegend\":true,\"text\":[\"59.8%\",\"59.9%\",\"60.4%\",\"61.1%\",\"61.4%\",\"63.2%\",\"63.9%\",\"64.1%\",\"65.5%\",\"66.0%\",\"68.7%\",\"69.3%\",\"69.9%\",\"70.2%\",\"71.4%\",\"71.4%\",\"71.7%\",\"72.1%\",\"73.4%\",\"73.5%\",\"75.3%\",\"76.3%\",\"77.0%\",\"78.9%\",\"80.1%\",\"80.7%\",\"81.4%\",\"81.9%\",\"81.9%\",\"84.1%\",\"84.5%\",\"84.9%\",\"86.6%\",\"91.6%\",\"93.0%\"],\"textposition\":\"auto\",\"type\":\"bar\",\"x\":[59.8,59.9,60.4,61.1,61.4,63.2,63.9,64.1,65.5,66.0,68.7,69.3,69.9,70.2,71.4,71.4,71.7,72.1,73.4,73.5,75.3,76.3,77.0,78.9,80.1,80.7,81.4,81.9,81.9,84.1,84.5,84.9,86.6,91.6,93.0],\"xaxis\":\"x\",\"y\":[\"Bihar\",\"Arunachal Pradesh\",\"Andhra Pradesh\",\"Jharkhand\",\"Rajasthan\",\"Jammu & Kashmir\",\"Madhya Pradesh\",\"D & N Haveli\",\"Uttar Pradesh\",\"Chhattisgarh\",\"Karnataka\",\"Assam\",\"Meghalaya\",\"Odisha\",\"Haryana\",\"Punjab\",\"Gujarat\",\"West Bengal\",\"Manipur\",\"Tamil Nadu\",\"Nagaland\",\"Uttarakhand\",\"Maharashtra\",\"Sikkim\",\"Puducherry\",\"Chandigarh\",\"Daman & Diu\",\"Himachal Pradesh\",\"NCT of Delhi\",\"Mizoram\",\"A & N Islands\",\"Tripura\",\"Goa\",\"Lakshadweep\",\"Kerala\"],\"yaxis\":\"y\"},{\"alignmentgroup\":\"True\",\"customdata\":[[\"2001\",\"Rural\",\"43.9%\"],[\"2001\",\"Rural\",\"45.7%\"],[\"2001\",\"Rural\",\"47.8%\"],[\"2001\",\"Rural\",\"49.3%\"],[\"2001\",\"Rural\",\"49.8%\"],[\"2001\",\"Rural\",\"52.5%\"],[\"2001\",\"Rural\",\"54.5%\"],[\"2001\",\"Rural\",\"55.3%\"],[\"2001\",\"Rural\",\"56.3%\"],[\"2001\",\"Rural\",\"57.8%\"],[\"2001\",\"Rural\",\"59.3%\"],[\"2001\",\"Rural\",\"59.7%\"],[\"2001\",\"Rural\",\"59.8%\"],[\"2001\",\"Rural\",\"60.5%\"],[\"2001\",\"Rural\",\"61.3%\"],[\"2001\",\"Rural\",\"62.8%\"],[\"2001\",\"Rural\",\"63.2%\"],[\"2001\",\"Rural\",\"63.4%\"],[\"2001\",\"Rural\",\"64.7%\"],[\"2001\",\"Rural\",\"66.2%\"],[\"2001\",\"Rural\",\"66.8%\"],[\"2001\",\"Rural\",\"67.3%\"],[\"2001\",\"Rural\",\"68.1%\"],[\"2001\",\"Rural\",\"69.7%\"],[\"2001\",\"Rural\",\"70.4%\"],[\"2001\",\"Rural\",\"74.0%\"],[\"2001\",\"Rural\",\"75.1%\"],[\"2001\",\"Rural\",\"75.6%\"],[\"2001\",\"Rural\",\"75.8%\"],[\"2001\",\"Rural\",\"78.1%\"],[\"2001\",\"Rural\",\"78.7%\"],[\"2001\",\"Rural\",\"79.7%\"],[\"2001\",\"Rural\",\"81.3%\"],[\"2001\",\"Rural\",\"85.0%\"],[\"2001\",\"Rural\",\"90.0%\"]],\"hovertemplate\":\"Typ=%{customdata[1]}<br>Year=%{customdata[0]}<br>Literacy_Rate=%{x}<br>STATE_UT=%{y}<br>Literacy_Rate_lab=%{customdata[2]}<extra></extra>\",\"legendgroup\":\"Rural\",\"marker\":{\"color\":\"#636efa\",\"pattern\":{\"shape\":\"\"}},\"name\":\"Rural\",\"offsetgroup\":\"Rural\",\"orientation\":\"h\",\"showlegend\":false,\"text\":[\"43.9%\",\"45.7%\",\"47.8%\",\"49.3%\",\"49.8%\",\"52.5%\",\"54.5%\",\"55.3%\",\"56.3%\",\"57.8%\",\"59.3%\",\"59.7%\",\"59.8%\",\"60.5%\",\"61.3%\",\"62.8%\",\"63.2%\",\"63.4%\",\"64.7%\",\"66.2%\",\"66.8%\",\"67.3%\",\"68.1%\",\"69.7%\",\"70.4%\",\"74.0%\",\"75.1%\",\"75.6%\",\"75.8%\",\"78.1%\",\"78.7%\",\"79.7%\",\"81.3%\",\"85.0%\",\"90.0%\"],\"textposition\":\"auto\",\"type\":\"bar\",\"x\":[43.9,45.7,47.8,49.3,49.8,52.5,54.5,55.3,56.3,57.8,59.3,59.7,59.8,60.5,61.3,62.8,63.2,63.4,64.7,66.2,66.8,67.3,68.1,69.7,70.4,74.0,75.1,75.6,75.8,78.1,78.7,79.7,81.3,85.0,90.0],\"xaxis\":\"x2\",\"y\":[\"Bihar\",\"Jharkhand\",\"Arunachal Pradesh\",\"D & N Haveli\",\"Jammu & Kashmir\",\"Uttar Pradesh\",\"Andhra Pradesh\",\"Rajasthan\",\"Meghalaya\",\"Madhya Pradesh\",\"Karnataka\",\"Assam\",\"Odisha\",\"Chhattisgarh\",\"Gujarat\",\"Nagaland\",\"Haryana\",\"West Bengal\",\"Punjab\",\"Tamil Nadu\",\"Sikkim\",\"Manipur\",\"Uttarakhand\",\"Tripura\",\"Maharashtra\",\"Puducherry\",\"Himachal Pradesh\",\"Chandigarh\",\"Daman & Diu\",\"NCT of Delhi\",\"A & N Islands\",\"Goa\",\"Mizoram\",\"Lakshadweep\",\"Kerala\"],\"yaxis\":\"y2\"},{\"alignmentgroup\":\"True\",\"customdata\":[[\"2011\",\"Urban\",\"75.1%\"],[\"2011\",\"Urban\",\"76.9%\"],[\"2011\",\"Urban\",\"77.1%\"],[\"2011\",\"Urban\",\"79.7%\"],[\"2011\",\"Urban\",\"80.1%\"],[\"2011\",\"Urban\",\"82.3%\"],[\"2011\",\"Urban\",\"82.8%\"],[\"2011\",\"Urban\",\"82.9%\"],[\"2011\",\"Urban\",\"83.1%\"],[\"2011\",\"Urban\",\"83.2%\"],[\"2011\",\"Urban\",\"84.0%\"],[\"2011\",\"Urban\",\"84.5%\"],[\"2011\",\"Urban\",\"84.8%\"],[\"2011\",\"Urban\",\"85.4%\"],[\"2011\",\"Urban\",\"85.7%\"],[\"2011\",\"Urban\",\"85.8%\"],[\"2011\",\"Urban\",\"86.2%\"],[\"2011\",\"Urban\",\"86.3%\"],[\"2011\",\"Urban\",\"86.3%\"],[\"2011\",\"Urban\",\"87.0%\"],[\"2011\",\"Urban\",\"88.5%\"],[\"2011\",\"Urban\",\"88.5%\"],[\"2011\",\"Urban\",\"88.7%\"],[\"2011\",\"Urban\",\"88.7%\"],[\"2011\",\"Urban\",\"89.0%\"],[\"2011\",\"Urban\",\"89.6%\"],[\"2011\",\"Urban\",\"89.8%\"],[\"2011\",\"Urban\",\"90.0%\"],[\"2011\",\"Urban\",\"90.1%\"],[\"2011\",\"Urban\",\"90.8%\"],[\"2011\",\"Urban\",\"91.1%\"],[\"2011\",\"Urban\",\"91.9%\"],[\"2011\",\"Urban\",\"93.5%\"],[\"2011\",\"Urban\",\"95.1%\"],[\"2011\",\"Urban\",\"97.6%\"]],\"hovertemplate\":\"Typ=%{customdata[1]}<br>Year=%{customdata[0]}<br>Literacy_Rate=%{x}<br>STATE_UT=%{y}<br>Literacy_Rate_lab=%{customdata[2]}<extra></extra>\",\"legendgroup\":\"Urban\",\"marker\":{\"color\":\"#EF553B\",\"pattern\":{\"shape\":\"\"}},\"name\":\"Urban\",\"offsetgroup\":\"Urban\",\"orientation\":\"h\",\"showlegend\":true,\"text\":[\"75.1%\",\"76.9%\",\"77.1%\",\"79.7%\",\"80.1%\",\"82.3%\",\"82.8%\",\"82.9%\",\"83.1%\",\"83.2%\",\"84.0%\",\"84.5%\",\"84.8%\",\"85.4%\",\"85.7%\",\"85.8%\",\"86.2%\",\"86.3%\",\"86.3%\",\"87.0%\",\"88.5%\",\"88.5%\",\"88.7%\",\"88.7%\",\"89.0%\",\"89.6%\",\"89.8%\",\"90.0%\",\"90.1%\",\"90.8%\",\"91.1%\",\"91.9%\",\"93.5%\",\"95.1%\",\"97.6%\"],\"textposition\":\"auto\",\"type\":\"bar\",\"x\":[75.1,76.9,77.1,79.7,80.1,82.3,82.8,82.9,83.1,83.2,84.0,84.5,84.8,85.4,85.7,85.8,86.2,86.3,86.3,87.0,88.5,88.5,88.7,88.7,89.0,89.6,89.8,90.0,90.1,90.8,91.1,91.9,93.5,95.1,97.6],\"xaxis\":\"x\",\"y\":[\"Uttar Pradesh\",\"Bihar\",\"Jammu & Kashmir\",\"Rajasthan\",\"Andhra Pradesh\",\"Jharkhand\",\"Madhya Pradesh\",\"Arunachal Pradesh\",\"Haryana\",\"Punjab\",\"Chhattisgarh\",\"Uttarakhand\",\"West Bengal\",\"Manipur\",\"Odisha\",\"Karnataka\",\"Chandigarh\",\"Gujarat\",\"NCT of Delhi\",\"Tamil Nadu\",\"Assam\",\"Puducherry\",\"Maharashtra\",\"Sikkim\",\"Daman & Diu\",\"Nagaland\",\"D & N Haveli\",\"Goa\",\"A & N Islands\",\"Meghalaya\",\"Himachal Pradesh\",\"Lakshadweep\",\"Tripura\",\"Kerala\",\"Mizoram\"],\"yaxis\":\"y\"},{\"alignmentgroup\":\"True\",\"customdata\":[[\"2001\",\"Urban\",\"69.8%\"],[\"2001\",\"Urban\",\"71.9%\"],[\"2001\",\"Urban\",\"71.9%\"],[\"2001\",\"Urban\",\"76.1%\"],[\"2001\",\"Urban\",\"76.2%\"],[\"2001\",\"Urban\",\"78.3%\"],[\"2001\",\"Urban\",\"79.1%\"],[\"2001\",\"Urban\",\"79.1%\"],[\"2001\",\"Urban\",\"79.2%\"],[\"2001\",\"Urban\",\"79.3%\"],[\"2001\",\"Urban\",\"79.4%\"],[\"2001\",\"Urban\",\"80.6%\"],[\"2001\",\"Urban\",\"80.6%\"],[\"2001\",\"Urban\",\"80.8%\"],[\"2001\",\"Urban\",\"81.2%\"],[\"2001\",\"Urban\",\"81.4%\"],[\"2001\",\"Urban\",\"81.8%\"],[\"2001\",\"Urban\",\"81.9%\"],[\"2001\",\"Urban\",\"82.3%\"],[\"2001\",\"Urban\",\"82.5%\"],[\"2001\",\"Urban\",\"82.6%\"],[\"2001\",\"Urban\",\"83.9%\"],[\"2001\",\"Urban\",\"84.4%\"],[\"2001\",\"Urban\",\"84.4%\"],[\"2001\",\"Urban\",\"84.7%\"],[\"2001\",\"Urban\",\"84.8%\"],[\"2001\",\"Urban\",\"85.3%\"],[\"2001\",\"Urban\",\"85.5%\"],[\"2001\",\"Urban\",\"86.3%\"],[\"2001\",\"Urban\",\"86.6%\"],[\"2001\",\"Urban\",\"88.6%\"],[\"2001\",\"Urban\",\"88.9%\"],[\"2001\",\"Urban\",\"89.2%\"],[\"2001\",\"Urban\",\"93.2%\"],[\"2001\",\"Urban\",\"96.1%\"]],\"hovertemplate\":\"Typ=%{customdata[1]}<br>Year=%{customdata[0]}<br>Literacy_Rate=%{x}<br>STATE_UT=%{y}<br>Literacy_Rate_lab=%{customdata[2]}<extra></extra>\",\"legendgroup\":\"Urban\",\"marker\":{\"color\":\"#EF553B\",\"pattern\":{\"shape\":\"\"}},\"name\":\"Urban\",\"offsetgroup\":\"Urban\",\"orientation\":\"h\",\"showlegend\":false,\"text\":[\"69.8%\",\"71.9%\",\"71.9%\",\"76.1%\",\"76.2%\",\"78.3%\",\"79.1%\",\"79.1%\",\"79.2%\",\"79.3%\",\"79.4%\",\"80.6%\",\"80.6%\",\"80.8%\",\"81.2%\",\"81.4%\",\"81.8%\",\"81.9%\",\"82.3%\",\"82.5%\",\"82.6%\",\"83.9%\",\"84.4%\",\"84.4%\",\"84.7%\",\"84.8%\",\"85.3%\",\"85.5%\",\"86.3%\",\"86.6%\",\"88.6%\",\"88.9%\",\"89.2%\",\"93.2%\",\"96.1%\"],\"textposition\":\"auto\",\"type\":\"bar\",\"x\":[69.8,71.9,71.9,76.1,76.2,78.3,79.1,79.1,79.2,79.3,79.4,80.6,80.6,80.8,81.2,81.4,81.8,81.9,82.3,82.5,82.6,83.9,84.4,84.4,84.7,84.8,85.3,85.5,86.3,86.6,88.6,88.9,89.2,93.2,96.1],\"xaxis\":\"x2\",\"y\":[\"Uttar Pradesh\",\"Bihar\",\"Jammu & Kashmir\",\"Andhra Pradesh\",\"Rajasthan\",\"Arunachal Pradesh\",\"Jharkhand\",\"Punjab\",\"Haryana\",\"Manipur\",\"Madhya Pradesh\",\"Chhattisgarh\",\"Karnataka\",\"Odisha\",\"West Bengal\",\"Uttarakhand\",\"Gujarat\",\"NCT of Delhi\",\"Daman & Diu\",\"Tamil Nadu\",\"Chandigarh\",\"Sikkim\",\"D & N Haveli\",\"Goa\",\"Nagaland\",\"Puducherry\",\"Assam\",\"Maharashtra\",\"Meghalaya\",\"A & N Islands\",\"Lakshadweep\",\"Himachal Pradesh\",\"Tripura\",\"Kerala\",\"Mizoram\"],\"yaxis\":\"y2\"}],                        {\"annotations\":[{\"font\":{},\"showarrow\":false,\"text\":\"Year=2011\",\"x\":0.245,\"xanchor\":\"center\",\"xref\":\"paper\",\"y\":1.0,\"yanchor\":\"bottom\",\"yref\":\"paper\"},{\"font\":{},\"showarrow\":false,\"text\":\"Year=2001\",\"x\":0.755,\"xanchor\":\"center\",\"xref\":\"paper\",\"y\":1.0,\"yanchor\":\"bottom\",\"yref\":\"paper\"}],\"barmode\":\"group\",\"font\":{\"family\":\"Courier New\"},\"height\":2000,\"legend\":{\"title\":{\"font\":{\"color\":\"green\"},\"text\":\"Typ\"},\"tracegroupgap\":0},\"margin\":{\"t\":60},\"showlegend\":true,\"template\":{\"data\":{\"bar\":[{\"error_x\":{\"color\":\"#2a3f5f\"},\"error_y\":{\"color\":\"#2a3f5f\"},\"marker\":{\"line\":{\"color\":\"#E5ECF6\",\"width\":0.5},\"pattern\":{\"fillmode\":\"overlay\",\"size\":10,\"solidity\":0.2}},\"type\":\"bar\"}],\"barpolar\":[{\"marker\":{\"line\":{\"color\":\"#E5ECF6\",\"width\":0.5},\"pattern\":{\"fillmode\":\"overlay\",\"size\":10,\"solidity\":0.2}},\"type\":\"barpolar\"}],\"carpet\":[{\"aaxis\":{\"endlinecolor\":\"#2a3f5f\",\"gridcolor\":\"white\",\"linecolor\":\"white\",\"minorgridcolor\":\"white\",\"startlinecolor\":\"#2a3f5f\"},\"baxis\":{\"endlinecolor\":\"#2a3f5f\",\"gridcolor\":\"white\",\"linecolor\":\"white\",\"minorgridcolor\":\"white\",\"startlinecolor\":\"#2a3f5f\"},\"type\":\"carpet\"}],\"choropleth\":[{\"colorbar\":{\"outlinewidth\":0,\"ticks\":\"\"},\"type\":\"choropleth\"}],\"contour\":[{\"colorbar\":{\"outlinewidth\":0,\"ticks\":\"\"},\"colorscale\":[[0.0,\"#0d0887\"],[0.1111111111111111,\"#46039f\"],[0.2222222222222222,\"#7201a8\"],[0.3333333333333333,\"#9c179e\"],[0.4444444444444444,\"#bd3786\"],[0.5555555555555556,\"#d8576b\"],[0.6666666666666666,\"#ed7953\"],[0.7777777777777778,\"#fb9f3a\"],[0.8888888888888888,\"#fdca26\"],[1.0,\"#f0f921\"]],\"type\":\"contour\"}],\"contourcarpet\":[{\"colorbar\":{\"outlinewidth\":0,\"ticks\":\"\"},\"type\":\"contourcarpet\"}],\"heatmap\":[{\"colorbar\":{\"outlinewidth\":0,\"ticks\":\"\"},\"colorscale\":[[0.0,\"#0d0887\"],[0.1111111111111111,\"#46039f\"],[0.2222222222222222,\"#7201a8\"],[0.3333333333333333,\"#9c179e\"],[0.4444444444444444,\"#bd3786\"],[0.5555555555555556,\"#d8576b\"],[0.6666666666666666,\"#ed7953\"],[0.7777777777777778,\"#fb9f3a\"],[0.8888888888888888,\"#fdca26\"],[1.0,\"#f0f921\"]],\"type\":\"heatmap\"}],\"heatmapgl\":[{\"colorbar\":{\"outlinewidth\":0,\"ticks\":\"\"},\"colorscale\":[[0.0,\"#0d0887\"],[0.1111111111111111,\"#46039f\"],[0.2222222222222222,\"#7201a8\"],[0.3333333333333333,\"#9c179e\"],[0.4444444444444444,\"#bd3786\"],[0.5555555555555556,\"#d8576b\"],[0.6666666666666666,\"#ed7953\"],[0.7777777777777778,\"#fb9f3a\"],[0.8888888888888888,\"#fdca26\"],[1.0,\"#f0f921\"]],\"type\":\"heatmapgl\"}],\"histogram\":[{\"marker\":{\"pattern\":{\"fillmode\":\"overlay\",\"size\":10,\"solidity\":0.2}},\"type\":\"histogram\"}],\"histogram2d\":[{\"colorbar\":{\"outlinewidth\":0,\"ticks\":\"\"},\"colorscale\":[[0.0,\"#0d0887\"],[0.1111111111111111,\"#46039f\"],[0.2222222222222222,\"#7201a8\"],[0.3333333333333333,\"#9c179e\"],[0.4444444444444444,\"#bd3786\"],[0.5555555555555556,\"#d8576b\"],[0.6666666666666666,\"#ed7953\"],[0.7777777777777778,\"#fb9f3a\"],[0.8888888888888888,\"#fdca26\"],[1.0,\"#f0f921\"]],\"type\":\"histogram2d\"}],\"histogram2dcontour\":[{\"colorbar\":{\"outlinewidth\":0,\"ticks\":\"\"},\"colorscale\":[[0.0,\"#0d0887\"],[0.1111111111111111,\"#46039f\"],[0.2222222222222222,\"#7201a8\"],[0.3333333333333333,\"#9c179e\"],[0.4444444444444444,\"#bd3786\"],[0.5555555555555556,\"#d8576b\"],[0.6666666666666666,\"#ed7953\"],[0.7777777777777778,\"#fb9f3a\"],[0.8888888888888888,\"#fdca26\"],[1.0,\"#f0f921\"]],\"type\":\"histogram2dcontour\"}],\"mesh3d\":[{\"colorbar\":{\"outlinewidth\":0,\"ticks\":\"\"},\"type\":\"mesh3d\"}],\"parcoords\":[{\"line\":{\"colorbar\":{\"outlinewidth\":0,\"ticks\":\"\"}},\"type\":\"parcoords\"}],\"pie\":[{\"automargin\":true,\"type\":\"pie\"}],\"scatter\":[{\"marker\":{\"colorbar\":{\"outlinewidth\":0,\"ticks\":\"\"}},\"type\":\"scatter\"}],\"scatter3d\":[{\"line\":{\"colorbar\":{\"outlinewidth\":0,\"ticks\":\"\"}},\"marker\":{\"colorbar\":{\"outlinewidth\":0,\"ticks\":\"\"}},\"type\":\"scatter3d\"}],\"scattercarpet\":[{\"marker\":{\"colorbar\":{\"outlinewidth\":0,\"ticks\":\"\"}},\"type\":\"scattercarpet\"}],\"scattergeo\":[{\"marker\":{\"colorbar\":{\"outlinewidth\":0,\"ticks\":\"\"}},\"type\":\"scattergeo\"}],\"scattergl\":[{\"marker\":{\"colorbar\":{\"outlinewidth\":0,\"ticks\":\"\"}},\"type\":\"scattergl\"}],\"scattermapbox\":[{\"marker\":{\"colorbar\":{\"outlinewidth\":0,\"ticks\":\"\"}},\"type\":\"scattermapbox\"}],\"scatterpolar\":[{\"marker\":{\"colorbar\":{\"outlinewidth\":0,\"ticks\":\"\"}},\"type\":\"scatterpolar\"}],\"scatterpolargl\":[{\"marker\":{\"colorbar\":{\"outlinewidth\":0,\"ticks\":\"\"}},\"type\":\"scatterpolargl\"}],\"scatterternary\":[{\"marker\":{\"colorbar\":{\"outlinewidth\":0,\"ticks\":\"\"}},\"type\":\"scatterternary\"}],\"surface\":[{\"colorbar\":{\"outlinewidth\":0,\"ticks\":\"\"},\"colorscale\":[[0.0,\"#0d0887\"],[0.1111111111111111,\"#46039f\"],[0.2222222222222222,\"#7201a8\"],[0.3333333333333333,\"#9c179e\"],[0.4444444444444444,\"#bd3786\"],[0.5555555555555556,\"#d8576b\"],[0.6666666666666666,\"#ed7953\"],[0.7777777777777778,\"#fb9f3a\"],[0.8888888888888888,\"#fdca26\"],[1.0,\"#f0f921\"]],\"type\":\"surface\"}],\"table\":[{\"cells\":{\"fill\":{\"color\":\"#EBF0F8\"},\"line\":{\"color\":\"white\"}},\"header\":{\"fill\":{\"color\":\"#C8D4E3\"},\"line\":{\"color\":\"white\"}},\"type\":\"table\"}]},\"layout\":{\"annotationdefaults\":{\"arrowcolor\":\"#2a3f5f\",\"arrowhead\":0,\"arrowwidth\":1},\"autotypenumbers\":\"strict\",\"coloraxis\":{\"colorbar\":{\"outlinewidth\":0,\"ticks\":\"\"}},\"colorscale\":{\"diverging\":[[0,\"#8e0152\"],[0.1,\"#c51b7d\"],[0.2,\"#de77ae\"],[0.3,\"#f1b6da\"],[0.4,\"#fde0ef\"],[0.5,\"#f7f7f7\"],[0.6,\"#e6f5d0\"],[0.7,\"#b8e186\"],[0.8,\"#7fbc41\"],[0.9,\"#4d9221\"],[1,\"#276419\"]],\"sequential\":[[0.0,\"#0d0887\"],[0.1111111111111111,\"#46039f\"],[0.2222222222222222,\"#7201a8\"],[0.3333333333333333,\"#9c179e\"],[0.4444444444444444,\"#bd3786\"],[0.5555555555555556,\"#d8576b\"],[0.6666666666666666,\"#ed7953\"],[0.7777777777777778,\"#fb9f3a\"],[0.8888888888888888,\"#fdca26\"],[1.0,\"#f0f921\"]],\"sequentialminus\":[[0.0,\"#0d0887\"],[0.1111111111111111,\"#46039f\"],[0.2222222222222222,\"#7201a8\"],[0.3333333333333333,\"#9c179e\"],[0.4444444444444444,\"#bd3786\"],[0.5555555555555556,\"#d8576b\"],[0.6666666666666666,\"#ed7953\"],[0.7777777777777778,\"#fb9f3a\"],[0.8888888888888888,\"#fdca26\"],[1.0,\"#f0f921\"]]},\"colorway\":[\"#636efa\",\"#EF553B\",\"#00cc96\",\"#ab63fa\",\"#FFA15A\",\"#19d3f3\",\"#FF6692\",\"#B6E880\",\"#FF97FF\",\"#FECB52\"],\"font\":{\"color\":\"#2a3f5f\"},\"geo\":{\"bgcolor\":\"white\",\"lakecolor\":\"white\",\"landcolor\":\"#E5ECF6\",\"showlakes\":true,\"showland\":true,\"subunitcolor\":\"white\"},\"hoverlabel\":{\"align\":\"left\"},\"hovermode\":\"closest\",\"mapbox\":{\"style\":\"light\"},\"paper_bgcolor\":\"white\",\"plot_bgcolor\":\"#E5ECF6\",\"polar\":{\"angularaxis\":{\"gridcolor\":\"white\",\"linecolor\":\"white\",\"ticks\":\"\"},\"bgcolor\":\"#E5ECF6\",\"radialaxis\":{\"gridcolor\":\"white\",\"linecolor\":\"white\",\"ticks\":\"\"}},\"scene\":{\"xaxis\":{\"backgroundcolor\":\"#E5ECF6\",\"gridcolor\":\"white\",\"gridwidth\":2,\"linecolor\":\"white\",\"showbackground\":true,\"ticks\":\"\",\"zerolinecolor\":\"white\"},\"yaxis\":{\"backgroundcolor\":\"#E5ECF6\",\"gridcolor\":\"white\",\"gridwidth\":2,\"linecolor\":\"white\",\"showbackground\":true,\"ticks\":\"\",\"zerolinecolor\":\"white\"},\"zaxis\":{\"backgroundcolor\":\"#E5ECF6\",\"gridcolor\":\"white\",\"gridwidth\":2,\"linecolor\":\"white\",\"showbackground\":true,\"ticks\":\"\",\"zerolinecolor\":\"white\"}},\"shapedefaults\":{\"line\":{\"color\":\"#2a3f5f\"}},\"ternary\":{\"aaxis\":{\"gridcolor\":\"white\",\"linecolor\":\"white\",\"ticks\":\"\"},\"baxis\":{\"gridcolor\":\"white\",\"linecolor\":\"white\",\"ticks\":\"\"},\"bgcolor\":\"#E5ECF6\",\"caxis\":{\"gridcolor\":\"white\",\"linecolor\":\"white\",\"ticks\":\"\"}},\"title\":{\"x\":0.05},\"xaxis\":{\"automargin\":true,\"gridcolor\":\"white\",\"linecolor\":\"white\",\"ticks\":\"\",\"title\":{\"standoff\":15},\"zerolinecolor\":\"white\",\"zerolinewidth\":2},\"yaxis\":{\"automargin\":true,\"gridcolor\":\"white\",\"linecolor\":\"white\",\"ticks\":\"\",\"title\":{\"standoff\":15},\"zerolinecolor\":\"white\",\"zerolinewidth\":2}}},\"title\":{\"font\":{\"color\":\"red\",\"size\":20},\"text\":\"Literacy Rate by State and Year\"},\"xaxis\":{\"anchor\":\"y\",\"domain\":[0.0,0.49],\"title\":{\"text\":\"Literacy_Rate\"}},\"xaxis2\":{\"anchor\":\"y2\",\"domain\":[0.51,1.0],\"matches\":\"x\",\"title\":{\"text\":\"Literacy_Rate\"}},\"yaxis\":{\"anchor\":\"x\",\"domain\":[0.0,1.0],\"title\":{\"text\":\"STATE_UT\"}},\"yaxis2\":{\"anchor\":\"x2\",\"domain\":[0.0,1.0],\"matches\":\"y\",\"showticklabels\":false}},                        {\"responsive\": true}                    ).then(function(){\n",
       "                            \n",
       "var gd = document.getElementById('cec15ee3-24a8-4fd5-b664-14d3159960f9');\n",
       "var x = new MutationObserver(function (mutations, observer) {{\n",
       "        var display = window.getComputedStyle(gd).display;\n",
       "        if (!display || display === 'none') {{\n",
       "            console.log([gd, 'removed!']);\n",
       "            Plotly.purge(gd);\n",
       "            observer.disconnect();\n",
       "        }}\n",
       "}});\n",
       "\n",
       "// Listen for the removal of the full notebook cells\n",
       "var notebookContainer = gd.closest('#notebook-container');\n",
       "if (notebookContainer) {{\n",
       "    x.observe(notebookContainer, {childList: true});\n",
       "}}\n",
       "\n",
       "// Listen for the clearing of the current output cell\n",
       "var outputEl = gd.closest('.output');\n",
       "if (outputEl) {{\n",
       "    x.observe(outputEl, {childList: true});\n",
       "}}\n",
       "\n",
       "                        })                };                });            </script>        </div>"
      ]
     },
     "metadata": {},
     "output_type": "display_data"
    }
   ],
   "source": [
    "q1=df2[(df2['Typ']!='Total')&(df2['STATE_UT']!='INDIA')].groupby(['STATE_UT','Year','Typ']).agg({\"Literacy_Rate\":\"mean\"}).reset_index().sort_values(by=['Year','Literacy_Rate'],ascending=[False,True])\n",
    "q1['Literacy_Rate_lab']=q1['Literacy_Rate'].apply(lambda x: \"{:.1%}\".format(x/100))\n",
    "fig=px.bar(q1,x='Literacy_Rate',y='STATE_UT',orientation='h',facet_col='Year',barmode='group',color='Typ',hover_data=q1.columns,text='Literacy_Rate_lab',height=2000)\n",
    "fig.update_layout({\"showlegend\":True,\"title\":\"Literacy Rate by State and Year\",\"title_font_size\":20,\"font_family\":\"Courier New\",\"title_font_color\":\"red\",\"legend_title_font_color\":\"green\"})\n",
    "fig.write_image(format='png',file='Literacy Rate by State.png',validate=True)\n",
    "fig.show()"
   ]
  },
  {
   "cell_type": "code",
   "execution_count": 31,
   "id": "0bb112b1",
   "metadata": {},
   "outputs": [
    {
     "data": {
      "application/vnd.plotly.v1+json": {
       "config": {
        "plotlyServerURL": "https://plot.ly"
       },
       "data": [
        {
         "alignmentgroup": "True",
         "customdata": [
          [
           "Urban",
           96.1,
           97.6,
           "1.5%"
          ],
          [
           "Urban",
           93.2,
           95.1,
           "1.9%"
          ],
          [
           "Urban",
           88.9,
           91.1,
           "2.2%"
          ],
          [
           "Urban",
           81.4,
           84.5,
           "3.1%"
          ],
          [
           "Urban",
           85.5,
           88.7,
           "3.2%"
          ],
          [
           "Urban",
           85.3,
           88.5,
           "3.2%"
          ],
          [
           "Urban",
           79.1,
           82.3,
           "3.2%"
          ],
          [
           "Urban",
           88.6,
           91.9,
           "3.3%"
          ],
          [
           "Urban",
           79.4,
           82.8,
           "3.4%"
          ],
          [
           "Urban",
           80.6,
           84,
           "3.4%"
          ],
          [
           "Urban",
           86.6,
           90.1,
           "3.5%"
          ],
          [
           "Urban",
           76.2,
           79.7,
           "3.5%"
          ],
          [
           "Urban",
           81.2,
           84.8,
           "3.6%"
          ],
          [
           "Urban",
           82.6,
           86.2,
           "3.6%"
          ],
          [
           "Urban",
           84.8,
           88.5,
           "3.7%"
          ],
          [
           "Urban",
           79.2,
           83.1,
           "3.9%"
          ],
          [
           "Urban",
           76.1,
           80.1,
           "4.0%"
          ],
          [
           "Urban",
           79.1,
           83.2,
           "4.1%"
          ],
          [
           "Urban",
           89.2,
           93.5,
           "4.3%"
          ],
          [
           "Urban",
           81.9,
           86.3,
           "4.4%"
          ],
          [
           "Urban",
           86.3,
           90.8,
           "4.5%"
          ],
          [
           "Urban",
           81.8,
           86.3,
           "4.5%"
          ],
          [
           "Urban",
           82.5,
           87,
           "4.5%"
          ],
          [
           "Urban",
           78.3,
           82.9,
           "4.6%"
          ],
          [
           "Urban",
           83.9,
           88.7,
           "4.8%"
          ],
          [
           "Urban",
           84.7,
           89.6,
           "4.9%"
          ],
          [
           "Urban",
           80.8,
           85.7,
           "4.9%"
          ],
          [
           "Urban",
           71.9,
           76.9,
           "5.0%"
          ],
          [
           "Urban",
           71.9,
           77.1,
           "5.2%"
          ],
          [
           "Urban",
           80.6,
           85.8,
           "5.2%"
          ],
          [
           "Urban",
           69.8,
           75.1,
           "5.3%"
          ],
          [
           "Urban",
           84.4,
           89.8,
           "5.4%"
          ],
          [
           "Urban",
           84.4,
           90,
           "5.6%"
          ],
          [
           "Urban",
           79.3,
           85.4,
           "6.1%"
          ],
          [
           "Urban",
           82.3,
           89,
           "6.7%"
          ]
         ],
         "hovertemplate": "Typ=%{customdata[0]}<br>chng=%{x}<br>STATE_UT=%{y}<br>chng_lab=%{customdata[3]}<br>last_census=%{customdata[1]}<br>latest_census=%{customdata[2]}<extra></extra>",
         "legendgroup": "Urban",
         "marker": {
          "color": "#636efa",
          "pattern": {
           "shape": ""
          }
         },
         "name": "Urban",
         "offsetgroup": "Urban",
         "orientation": "h",
         "showlegend": true,
         "text": [
          "1.5%",
          "1.9%",
          "2.2%",
          "3.1%",
          "3.2%",
          "3.2%",
          "3.2%",
          "3.3%",
          "3.4%",
          "3.4%",
          "3.5%",
          "3.5%",
          "3.6%",
          "3.6%",
          "3.7%",
          "3.9%",
          "4.0%",
          "4.1%",
          "4.3%",
          "4.4%",
          "4.5%",
          "4.5%",
          "4.5%",
          "4.6%",
          "4.8%",
          "4.9%",
          "4.9%",
          "5.0%",
          "5.2%",
          "5.2%",
          "5.3%",
          "5.4%",
          "5.6%",
          "6.1%",
          "6.7%"
         ],
         "textposition": "auto",
         "type": "bar",
         "x": [
          1.5,
          1.8999999999999915,
          2.1999999999999886,
          3.0999999999999943,
          3.200000000000003,
          3.200000000000003,
          3.200000000000003,
          3.3000000000000114,
          3.3999999999999915,
          3.4000000000000057,
          3.5,
          3.5,
          3.5999999999999943,
          3.6000000000000085,
          3.700000000000003,
          3.8999999999999915,
          4,
          4.1000000000000085,
          4.299999999999997,
          4.3999999999999915,
          4.5,
          4.5,
          4.5,
          4.6000000000000085,
          4.799999999999997,
          4.8999999999999915,
          4.900000000000006,
          5,
          5.199999999999989,
          5.200000000000003,
          5.299999999999997,
          5.3999999999999915,
          5.599999999999994,
          6.1000000000000085,
          6.700000000000003
         ],
         "xaxis": "x",
         "y": [
          "Mizoram",
          "Kerala",
          "Himachal Pradesh",
          "Uttarakhand",
          "Maharashtra",
          "Assam",
          "Jharkhand",
          "Lakshadweep",
          "Madhya Pradesh",
          "Chhattisgarh",
          "A & N Islands",
          "Rajasthan",
          "West Bengal",
          "Chandigarh",
          "Puducherry",
          "Haryana",
          "Andhra Pradesh",
          "Punjab",
          "Tripura",
          "NCT of Delhi",
          "Meghalaya",
          "Gujarat",
          "Tamil Nadu",
          "Arunachal Pradesh",
          "Sikkim",
          "Nagaland",
          "Odisha",
          "Bihar",
          "Jammu & Kashmir",
          "Karnataka",
          "Uttar Pradesh",
          "D & N Haveli",
          "Goa",
          "Manipur",
          "Daman & Diu"
         ],
         "yaxis": "y"
        },
        {
         "alignmentgroup": "True",
         "customdata": [
          [
           "Rural",
           81.3,
           84.1,
           "2.8%"
          ],
          [
           "Rural",
           90,
           93,
           "3.0%"
          ],
          [
           "Rural",
           78.1,
           81.9,
           "3.8%"
          ],
          [
           "Rural",
           75.6,
           80.7,
           "5.1%"
          ],
          [
           "Rural",
           60.5,
           66,
           "5.5%"
          ],
          [
           "Rural",
           75.8,
           81.4,
           "5.6%"
          ],
          [
           "Rural",
           78.7,
           84.5,
           "5.8%"
          ],
          [
           "Rural",
           54.5,
           60.4,
           "5.9%"
          ],
          [
           "Rural",
           74,
           80.1,
           "6.1%"
          ],
          [
           "Rural",
           57.8,
           63.9,
           "6.1%"
          ],
          [
           "Rural",
           55.3,
           61.4,
           "6.1%"
          ],
          [
           "Rural",
           67.3,
           73.4,
           "6.1%"
          ],
          [
           "Rural",
           70.4,
           77,
           "6.6%"
          ],
          [
           "Rural",
           85,
           91.6,
           "6.6%"
          ],
          [
           "Rural",
           64.7,
           71.4,
           "6.7%"
          ],
          [
           "Rural",
           75.1,
           81.9,
           "6.8%"
          ],
          [
           "Rural",
           79.7,
           86.6,
           "6.9%"
          ],
          [
           "Rural",
           66.2,
           73.5,
           "7.3%"
          ],
          [
           "Rural",
           63.2,
           71.4,
           "8.2%"
          ],
          [
           "Rural",
           68.1,
           76.3,
           "8.2%"
          ],
          [
           "Rural",
           63.4,
           72.1,
           "8.7%"
          ],
          [
           "Rural",
           59.3,
           68.7,
           "9.4%"
          ],
          [
           "Rural",
           59.7,
           69.3,
           "9.6%"
          ],
          [
           "Rural",
           59.8,
           70.2,
           "10.4%"
          ],
          [
           "Rural",
           61.3,
           71.7,
           "10.4%"
          ],
          [
           "Rural",
           47.8,
           59.9,
           "12.1%"
          ],
          [
           "Rural",
           66.8,
           78.9,
           "12.1%"
          ],
          [
           "Rural",
           62.8,
           75.3,
           "12.5%"
          ],
          [
           "Rural",
           52.5,
           65.5,
           "13.0%"
          ],
          [
           "Rural",
           49.8,
           63.2,
           "13.4%"
          ],
          [
           "Rural",
           56.3,
           69.9,
           "13.6%"
          ],
          [
           "Rural",
           49.3,
           64.1,
           "14.8%"
          ],
          [
           "Rural",
           69.7,
           84.9,
           "15.2%"
          ],
          [
           "Rural",
           45.7,
           61.1,
           "15.4%"
          ],
          [
           "Rural",
           43.9,
           59.8,
           "15.9%"
          ]
         ],
         "hovertemplate": "Typ=%{customdata[0]}<br>chng=%{x}<br>STATE_UT=%{y}<br>chng_lab=%{customdata[3]}<br>last_census=%{customdata[1]}<br>latest_census=%{customdata[2]}<extra></extra>",
         "legendgroup": "Rural",
         "marker": {
          "color": "#EF553B",
          "pattern": {
           "shape": ""
          }
         },
         "name": "Rural",
         "offsetgroup": "Rural",
         "orientation": "h",
         "showlegend": true,
         "text": [
          "2.8%",
          "3.0%",
          "3.8%",
          "5.1%",
          "5.5%",
          "5.6%",
          "5.8%",
          "5.9%",
          "6.1%",
          "6.1%",
          "6.1%",
          "6.1%",
          "6.6%",
          "6.6%",
          "6.7%",
          "6.8%",
          "6.9%",
          "7.3%",
          "8.2%",
          "8.2%",
          "8.7%",
          "9.4%",
          "9.6%",
          "10.4%",
          "10.4%",
          "12.1%",
          "12.1%",
          "12.5%",
          "13.0%",
          "13.4%",
          "13.6%",
          "14.8%",
          "15.2%",
          "15.4%",
          "15.9%"
         ],
         "textposition": "auto",
         "type": "bar",
         "x": [
          2.799999999999997,
          3,
          3.8000000000000114,
          5.1000000000000085,
          5.5,
          5.6000000000000085,
          5.799999999999997,
          5.899999999999999,
          6.099999999999994,
          6.100000000000001,
          6.100000000000001,
          6.1000000000000085,
          6.599999999999994,
          6.599999999999994,
          6.700000000000003,
          6.800000000000011,
          6.8999999999999915,
          7.299999999999997,
          8.200000000000003,
          8.200000000000003,
          8.699999999999996,
          9.400000000000006,
          9.599999999999994,
          10.400000000000006,
          10.400000000000006,
          12.100000000000001,
          12.100000000000009,
          12.5,
          13,
          13.400000000000006,
          13.600000000000009,
          14.799999999999997,
          15.200000000000003,
          15.399999999999999,
          15.899999999999999
         ],
         "xaxis": "x2",
         "y": [
          "Mizoram",
          "Kerala",
          "NCT of Delhi",
          "Chandigarh",
          "Chhattisgarh",
          "Daman & Diu",
          "A & N Islands",
          "Andhra Pradesh",
          "Puducherry",
          "Madhya Pradesh",
          "Rajasthan",
          "Manipur",
          "Maharashtra",
          "Lakshadweep",
          "Punjab",
          "Himachal Pradesh",
          "Goa",
          "Tamil Nadu",
          "Haryana",
          "Uttarakhand",
          "West Bengal",
          "Karnataka",
          "Assam",
          "Odisha",
          "Gujarat",
          "Arunachal Pradesh",
          "Sikkim",
          "Nagaland",
          "Uttar Pradesh",
          "Jammu & Kashmir",
          "Meghalaya",
          "D & N Haveli",
          "Tripura",
          "Jharkhand",
          "Bihar"
         ],
         "yaxis": "y2"
        }
       ],
       "layout": {
        "annotations": [
         {
          "font": {},
          "showarrow": false,
          "text": "Typ=Urban",
          "x": 0.245,
          "xanchor": "center",
          "xref": "paper",
          "y": 1,
          "yanchor": "bottom",
          "yref": "paper"
         },
         {
          "font": {},
          "showarrow": false,
          "text": "Typ=Rural",
          "x": 0.755,
          "xanchor": "center",
          "xref": "paper",
          "y": 1,
          "yanchor": "bottom",
          "yref": "paper"
         }
        ],
        "barmode": "relative",
        "font": {
         "family": "Courier New"
        },
        "height": 2000,
        "legend": {
         "title": {
          "font": {
           "color": "green"
          },
          "text": "Typ"
         },
         "tracegroupgap": 0
        },
        "margin": {
         "t": 60
        },
        "template": {
         "data": {
          "bar": [
           {
            "error_x": {
             "color": "#2a3f5f"
            },
            "error_y": {
             "color": "#2a3f5f"
            },
            "marker": {
             "line": {
              "color": "#E5ECF6",
              "width": 0.5
             },
             "pattern": {
              "fillmode": "overlay",
              "size": 10,
              "solidity": 0.2
             }
            },
            "type": "bar"
           }
          ],
          "barpolar": [
           {
            "marker": {
             "line": {
              "color": "#E5ECF6",
              "width": 0.5
             },
             "pattern": {
              "fillmode": "overlay",
              "size": 10,
              "solidity": 0.2
             }
            },
            "type": "barpolar"
           }
          ],
          "carpet": [
           {
            "aaxis": {
             "endlinecolor": "#2a3f5f",
             "gridcolor": "white",
             "linecolor": "white",
             "minorgridcolor": "white",
             "startlinecolor": "#2a3f5f"
            },
            "baxis": {
             "endlinecolor": "#2a3f5f",
             "gridcolor": "white",
             "linecolor": "white",
             "minorgridcolor": "white",
             "startlinecolor": "#2a3f5f"
            },
            "type": "carpet"
           }
          ],
          "choropleth": [
           {
            "colorbar": {
             "outlinewidth": 0,
             "ticks": ""
            },
            "type": "choropleth"
           }
          ],
          "contour": [
           {
            "colorbar": {
             "outlinewidth": 0,
             "ticks": ""
            },
            "colorscale": [
             [
              0,
              "#0d0887"
             ],
             [
              0.1111111111111111,
              "#46039f"
             ],
             [
              0.2222222222222222,
              "#7201a8"
             ],
             [
              0.3333333333333333,
              "#9c179e"
             ],
             [
              0.4444444444444444,
              "#bd3786"
             ],
             [
              0.5555555555555556,
              "#d8576b"
             ],
             [
              0.6666666666666666,
              "#ed7953"
             ],
             [
              0.7777777777777778,
              "#fb9f3a"
             ],
             [
              0.8888888888888888,
              "#fdca26"
             ],
             [
              1,
              "#f0f921"
             ]
            ],
            "type": "contour"
           }
          ],
          "contourcarpet": [
           {
            "colorbar": {
             "outlinewidth": 0,
             "ticks": ""
            },
            "type": "contourcarpet"
           }
          ],
          "heatmap": [
           {
            "colorbar": {
             "outlinewidth": 0,
             "ticks": ""
            },
            "colorscale": [
             [
              0,
              "#0d0887"
             ],
             [
              0.1111111111111111,
              "#46039f"
             ],
             [
              0.2222222222222222,
              "#7201a8"
             ],
             [
              0.3333333333333333,
              "#9c179e"
             ],
             [
              0.4444444444444444,
              "#bd3786"
             ],
             [
              0.5555555555555556,
              "#d8576b"
             ],
             [
              0.6666666666666666,
              "#ed7953"
             ],
             [
              0.7777777777777778,
              "#fb9f3a"
             ],
             [
              0.8888888888888888,
              "#fdca26"
             ],
             [
              1,
              "#f0f921"
             ]
            ],
            "type": "heatmap"
           }
          ],
          "heatmapgl": [
           {
            "colorbar": {
             "outlinewidth": 0,
             "ticks": ""
            },
            "colorscale": [
             [
              0,
              "#0d0887"
             ],
             [
              0.1111111111111111,
              "#46039f"
             ],
             [
              0.2222222222222222,
              "#7201a8"
             ],
             [
              0.3333333333333333,
              "#9c179e"
             ],
             [
              0.4444444444444444,
              "#bd3786"
             ],
             [
              0.5555555555555556,
              "#d8576b"
             ],
             [
              0.6666666666666666,
              "#ed7953"
             ],
             [
              0.7777777777777778,
              "#fb9f3a"
             ],
             [
              0.8888888888888888,
              "#fdca26"
             ],
             [
              1,
              "#f0f921"
             ]
            ],
            "type": "heatmapgl"
           }
          ],
          "histogram": [
           {
            "marker": {
             "pattern": {
              "fillmode": "overlay",
              "size": 10,
              "solidity": 0.2
             }
            },
            "type": "histogram"
           }
          ],
          "histogram2d": [
           {
            "colorbar": {
             "outlinewidth": 0,
             "ticks": ""
            },
            "colorscale": [
             [
              0,
              "#0d0887"
             ],
             [
              0.1111111111111111,
              "#46039f"
             ],
             [
              0.2222222222222222,
              "#7201a8"
             ],
             [
              0.3333333333333333,
              "#9c179e"
             ],
             [
              0.4444444444444444,
              "#bd3786"
             ],
             [
              0.5555555555555556,
              "#d8576b"
             ],
             [
              0.6666666666666666,
              "#ed7953"
             ],
             [
              0.7777777777777778,
              "#fb9f3a"
             ],
             [
              0.8888888888888888,
              "#fdca26"
             ],
             [
              1,
              "#f0f921"
             ]
            ],
            "type": "histogram2d"
           }
          ],
          "histogram2dcontour": [
           {
            "colorbar": {
             "outlinewidth": 0,
             "ticks": ""
            },
            "colorscale": [
             [
              0,
              "#0d0887"
             ],
             [
              0.1111111111111111,
              "#46039f"
             ],
             [
              0.2222222222222222,
              "#7201a8"
             ],
             [
              0.3333333333333333,
              "#9c179e"
             ],
             [
              0.4444444444444444,
              "#bd3786"
             ],
             [
              0.5555555555555556,
              "#d8576b"
             ],
             [
              0.6666666666666666,
              "#ed7953"
             ],
             [
              0.7777777777777778,
              "#fb9f3a"
             ],
             [
              0.8888888888888888,
              "#fdca26"
             ],
             [
              1,
              "#f0f921"
             ]
            ],
            "type": "histogram2dcontour"
           }
          ],
          "mesh3d": [
           {
            "colorbar": {
             "outlinewidth": 0,
             "ticks": ""
            },
            "type": "mesh3d"
           }
          ],
          "parcoords": [
           {
            "line": {
             "colorbar": {
              "outlinewidth": 0,
              "ticks": ""
             }
            },
            "type": "parcoords"
           }
          ],
          "pie": [
           {
            "automargin": true,
            "type": "pie"
           }
          ],
          "scatter": [
           {
            "marker": {
             "colorbar": {
              "outlinewidth": 0,
              "ticks": ""
             }
            },
            "type": "scatter"
           }
          ],
          "scatter3d": [
           {
            "line": {
             "colorbar": {
              "outlinewidth": 0,
              "ticks": ""
             }
            },
            "marker": {
             "colorbar": {
              "outlinewidth": 0,
              "ticks": ""
             }
            },
            "type": "scatter3d"
           }
          ],
          "scattercarpet": [
           {
            "marker": {
             "colorbar": {
              "outlinewidth": 0,
              "ticks": ""
             }
            },
            "type": "scattercarpet"
           }
          ],
          "scattergeo": [
           {
            "marker": {
             "colorbar": {
              "outlinewidth": 0,
              "ticks": ""
             }
            },
            "type": "scattergeo"
           }
          ],
          "scattergl": [
           {
            "marker": {
             "colorbar": {
              "outlinewidth": 0,
              "ticks": ""
             }
            },
            "type": "scattergl"
           }
          ],
          "scattermapbox": [
           {
            "marker": {
             "colorbar": {
              "outlinewidth": 0,
              "ticks": ""
             }
            },
            "type": "scattermapbox"
           }
          ],
          "scatterpolar": [
           {
            "marker": {
             "colorbar": {
              "outlinewidth": 0,
              "ticks": ""
             }
            },
            "type": "scatterpolar"
           }
          ],
          "scatterpolargl": [
           {
            "marker": {
             "colorbar": {
              "outlinewidth": 0,
              "ticks": ""
             }
            },
            "type": "scatterpolargl"
           }
          ],
          "scatterternary": [
           {
            "marker": {
             "colorbar": {
              "outlinewidth": 0,
              "ticks": ""
             }
            },
            "type": "scatterternary"
           }
          ],
          "surface": [
           {
            "colorbar": {
             "outlinewidth": 0,
             "ticks": ""
            },
            "colorscale": [
             [
              0,
              "#0d0887"
             ],
             [
              0.1111111111111111,
              "#46039f"
             ],
             [
              0.2222222222222222,
              "#7201a8"
             ],
             [
              0.3333333333333333,
              "#9c179e"
             ],
             [
              0.4444444444444444,
              "#bd3786"
             ],
             [
              0.5555555555555556,
              "#d8576b"
             ],
             [
              0.6666666666666666,
              "#ed7953"
             ],
             [
              0.7777777777777778,
              "#fb9f3a"
             ],
             [
              0.8888888888888888,
              "#fdca26"
             ],
             [
              1,
              "#f0f921"
             ]
            ],
            "type": "surface"
           }
          ],
          "table": [
           {
            "cells": {
             "fill": {
              "color": "#EBF0F8"
             },
             "line": {
              "color": "white"
             }
            },
            "header": {
             "fill": {
              "color": "#C8D4E3"
             },
             "line": {
              "color": "white"
             }
            },
            "type": "table"
           }
          ]
         },
         "layout": {
          "annotationdefaults": {
           "arrowcolor": "#2a3f5f",
           "arrowhead": 0,
           "arrowwidth": 1
          },
          "autotypenumbers": "strict",
          "coloraxis": {
           "colorbar": {
            "outlinewidth": 0,
            "ticks": ""
           }
          },
          "colorscale": {
           "diverging": [
            [
             0,
             "#8e0152"
            ],
            [
             0.1,
             "#c51b7d"
            ],
            [
             0.2,
             "#de77ae"
            ],
            [
             0.3,
             "#f1b6da"
            ],
            [
             0.4,
             "#fde0ef"
            ],
            [
             0.5,
             "#f7f7f7"
            ],
            [
             0.6,
             "#e6f5d0"
            ],
            [
             0.7,
             "#b8e186"
            ],
            [
             0.8,
             "#7fbc41"
            ],
            [
             0.9,
             "#4d9221"
            ],
            [
             1,
             "#276419"
            ]
           ],
           "sequential": [
            [
             0,
             "#0d0887"
            ],
            [
             0.1111111111111111,
             "#46039f"
            ],
            [
             0.2222222222222222,
             "#7201a8"
            ],
            [
             0.3333333333333333,
             "#9c179e"
            ],
            [
             0.4444444444444444,
             "#bd3786"
            ],
            [
             0.5555555555555556,
             "#d8576b"
            ],
            [
             0.6666666666666666,
             "#ed7953"
            ],
            [
             0.7777777777777778,
             "#fb9f3a"
            ],
            [
             0.8888888888888888,
             "#fdca26"
            ],
            [
             1,
             "#f0f921"
            ]
           ],
           "sequentialminus": [
            [
             0,
             "#0d0887"
            ],
            [
             0.1111111111111111,
             "#46039f"
            ],
            [
             0.2222222222222222,
             "#7201a8"
            ],
            [
             0.3333333333333333,
             "#9c179e"
            ],
            [
             0.4444444444444444,
             "#bd3786"
            ],
            [
             0.5555555555555556,
             "#d8576b"
            ],
            [
             0.6666666666666666,
             "#ed7953"
            ],
            [
             0.7777777777777778,
             "#fb9f3a"
            ],
            [
             0.8888888888888888,
             "#fdca26"
            ],
            [
             1,
             "#f0f921"
            ]
           ]
          },
          "colorway": [
           "#636efa",
           "#EF553B",
           "#00cc96",
           "#ab63fa",
           "#FFA15A",
           "#19d3f3",
           "#FF6692",
           "#B6E880",
           "#FF97FF",
           "#FECB52"
          ],
          "font": {
           "color": "#2a3f5f"
          },
          "geo": {
           "bgcolor": "white",
           "lakecolor": "white",
           "landcolor": "#E5ECF6",
           "showlakes": true,
           "showland": true,
           "subunitcolor": "white"
          },
          "hoverlabel": {
           "align": "left"
          },
          "hovermode": "closest",
          "mapbox": {
           "style": "light"
          },
          "paper_bgcolor": "white",
          "plot_bgcolor": "#E5ECF6",
          "polar": {
           "angularaxis": {
            "gridcolor": "white",
            "linecolor": "white",
            "ticks": ""
           },
           "bgcolor": "#E5ECF6",
           "radialaxis": {
            "gridcolor": "white",
            "linecolor": "white",
            "ticks": ""
           }
          },
          "scene": {
           "xaxis": {
            "backgroundcolor": "#E5ECF6",
            "gridcolor": "white",
            "gridwidth": 2,
            "linecolor": "white",
            "showbackground": true,
            "ticks": "",
            "zerolinecolor": "white"
           },
           "yaxis": {
            "backgroundcolor": "#E5ECF6",
            "gridcolor": "white",
            "gridwidth": 2,
            "linecolor": "white",
            "showbackground": true,
            "ticks": "",
            "zerolinecolor": "white"
           },
           "zaxis": {
            "backgroundcolor": "#E5ECF6",
            "gridcolor": "white",
            "gridwidth": 2,
            "linecolor": "white",
            "showbackground": true,
            "ticks": "",
            "zerolinecolor": "white"
           }
          },
          "shapedefaults": {
           "line": {
            "color": "#2a3f5f"
           }
          },
          "ternary": {
           "aaxis": {
            "gridcolor": "white",
            "linecolor": "white",
            "ticks": ""
           },
           "baxis": {
            "gridcolor": "white",
            "linecolor": "white",
            "ticks": ""
           },
           "bgcolor": "#E5ECF6",
           "caxis": {
            "gridcolor": "white",
            "linecolor": "white",
            "ticks": ""
           }
          },
          "title": {
           "x": 0.05
          },
          "xaxis": {
           "automargin": true,
           "gridcolor": "white",
           "linecolor": "white",
           "ticks": "",
           "title": {
            "standoff": 15
           },
           "zerolinecolor": "white",
           "zerolinewidth": 2
          },
          "yaxis": {
           "automargin": true,
           "gridcolor": "white",
           "linecolor": "white",
           "ticks": "",
           "title": {
            "standoff": 15
           },
           "zerolinecolor": "white",
           "zerolinewidth": 2
          }
         }
        },
        "title": {
         "font": {
          "color": "red",
          "size": 20
         },
         "text": "States with change in Literacy Rate from Census is 2001"
        },
        "xaxis": {
         "anchor": "y",
         "domain": [
          0,
          0.49
         ],
         "title": {
          "text": "chng"
         }
        },
        "xaxis2": {
         "anchor": "y2",
         "domain": [
          0.51,
          1
         ],
         "matches": "x",
         "title": {
          "text": "chng"
         }
        },
        "yaxis": {
         "anchor": "x",
         "domain": [
          0,
          1
         ],
         "title": {
          "text": "STATE_UT"
         }
        },
        "yaxis2": {
         "anchor": "x2",
         "domain": [
          0,
          1
         ],
         "matches": "y",
         "showticklabels": false
        }
       }
      },
      "text/html": [
       "<div>                            <div id=\"0c11b10b-3321-413f-ace7-49a93616cdd4\" class=\"plotly-graph-div\" style=\"height:2000px; width:100%;\"></div>            <script type=\"text/javascript\">                require([\"plotly\"], function(Plotly) {                    window.PLOTLYENV=window.PLOTLYENV || {};                                    if (document.getElementById(\"0c11b10b-3321-413f-ace7-49a93616cdd4\")) {                    Plotly.newPlot(                        \"0c11b10b-3321-413f-ace7-49a93616cdd4\",                        [{\"alignmentgroup\":\"True\",\"customdata\":[[\"Urban\",96.1,97.6,\"1.5%\"],[\"Urban\",93.2,95.1,\"1.9%\"],[\"Urban\",88.9,91.1,\"2.2%\"],[\"Urban\",81.4,84.5,\"3.1%\"],[\"Urban\",85.5,88.7,\"3.2%\"],[\"Urban\",85.3,88.5,\"3.2%\"],[\"Urban\",79.1,82.3,\"3.2%\"],[\"Urban\",88.6,91.9,\"3.3%\"],[\"Urban\",79.4,82.8,\"3.4%\"],[\"Urban\",80.6,84.0,\"3.4%\"],[\"Urban\",86.6,90.1,\"3.5%\"],[\"Urban\",76.2,79.7,\"3.5%\"],[\"Urban\",81.2,84.8,\"3.6%\"],[\"Urban\",82.6,86.2,\"3.6%\"],[\"Urban\",84.8,88.5,\"3.7%\"],[\"Urban\",79.2,83.1,\"3.9%\"],[\"Urban\",76.1,80.1,\"4.0%\"],[\"Urban\",79.1,83.2,\"4.1%\"],[\"Urban\",89.2,93.5,\"4.3%\"],[\"Urban\",81.9,86.3,\"4.4%\"],[\"Urban\",86.3,90.8,\"4.5%\"],[\"Urban\",81.8,86.3,\"4.5%\"],[\"Urban\",82.5,87.0,\"4.5%\"],[\"Urban\",78.3,82.9,\"4.6%\"],[\"Urban\",83.9,88.7,\"4.8%\"],[\"Urban\",84.7,89.6,\"4.9%\"],[\"Urban\",80.8,85.7,\"4.9%\"],[\"Urban\",71.9,76.9,\"5.0%\"],[\"Urban\",71.9,77.1,\"5.2%\"],[\"Urban\",80.6,85.8,\"5.2%\"],[\"Urban\",69.8,75.1,\"5.3%\"],[\"Urban\",84.4,89.8,\"5.4%\"],[\"Urban\",84.4,90.0,\"5.6%\"],[\"Urban\",79.3,85.4,\"6.1%\"],[\"Urban\",82.3,89.0,\"6.7%\"]],\"hovertemplate\":\"Typ=%{customdata[0]}<br>chng=%{x}<br>STATE_UT=%{y}<br>chng_lab=%{customdata[3]}<br>last_census=%{customdata[1]}<br>latest_census=%{customdata[2]}<extra></extra>\",\"legendgroup\":\"Urban\",\"marker\":{\"color\":\"#636efa\",\"pattern\":{\"shape\":\"\"}},\"name\":\"Urban\",\"offsetgroup\":\"Urban\",\"orientation\":\"h\",\"showlegend\":true,\"text\":[\"1.5%\",\"1.9%\",\"2.2%\",\"3.1%\",\"3.2%\",\"3.2%\",\"3.2%\",\"3.3%\",\"3.4%\",\"3.4%\",\"3.5%\",\"3.5%\",\"3.6%\",\"3.6%\",\"3.7%\",\"3.9%\",\"4.0%\",\"4.1%\",\"4.3%\",\"4.4%\",\"4.5%\",\"4.5%\",\"4.5%\",\"4.6%\",\"4.8%\",\"4.9%\",\"4.9%\",\"5.0%\",\"5.2%\",\"5.2%\",\"5.3%\",\"5.4%\",\"5.6%\",\"6.1%\",\"6.7%\"],\"textposition\":\"auto\",\"type\":\"bar\",\"x\":[1.5,1.8999999999999915,2.1999999999999886,3.0999999999999943,3.200000000000003,3.200000000000003,3.200000000000003,3.3000000000000114,3.3999999999999915,3.4000000000000057,3.5,3.5,3.5999999999999943,3.6000000000000085,3.700000000000003,3.8999999999999915,4.0,4.1000000000000085,4.299999999999997,4.3999999999999915,4.5,4.5,4.5,4.6000000000000085,4.799999999999997,4.8999999999999915,4.900000000000006,5.0,5.199999999999989,5.200000000000003,5.299999999999997,5.3999999999999915,5.599999999999994,6.1000000000000085,6.700000000000003],\"xaxis\":\"x\",\"y\":[\"Mizoram\",\"Kerala\",\"Himachal Pradesh\",\"Uttarakhand\",\"Maharashtra\",\"Assam\",\"Jharkhand\",\"Lakshadweep\",\"Madhya Pradesh\",\"Chhattisgarh\",\"A & N Islands\",\"Rajasthan\",\"West Bengal\",\"Chandigarh\",\"Puducherry\",\"Haryana\",\"Andhra Pradesh\",\"Punjab\",\"Tripura\",\"NCT of Delhi\",\"Meghalaya\",\"Gujarat\",\"Tamil Nadu\",\"Arunachal Pradesh\",\"Sikkim\",\"Nagaland\",\"Odisha\",\"Bihar\",\"Jammu & Kashmir\",\"Karnataka\",\"Uttar Pradesh\",\"D & N Haveli\",\"Goa\",\"Manipur\",\"Daman & Diu\"],\"yaxis\":\"y\"},{\"alignmentgroup\":\"True\",\"customdata\":[[\"Rural\",81.3,84.1,\"2.8%\"],[\"Rural\",90.0,93.0,\"3.0%\"],[\"Rural\",78.1,81.9,\"3.8%\"],[\"Rural\",75.6,80.7,\"5.1%\"],[\"Rural\",60.5,66.0,\"5.5%\"],[\"Rural\",75.8,81.4,\"5.6%\"],[\"Rural\",78.7,84.5,\"5.8%\"],[\"Rural\",54.5,60.4,\"5.9%\"],[\"Rural\",74.0,80.1,\"6.1%\"],[\"Rural\",57.8,63.9,\"6.1%\"],[\"Rural\",55.3,61.4,\"6.1%\"],[\"Rural\",67.3,73.4,\"6.1%\"],[\"Rural\",70.4,77.0,\"6.6%\"],[\"Rural\",85.0,91.6,\"6.6%\"],[\"Rural\",64.7,71.4,\"6.7%\"],[\"Rural\",75.1,81.9,\"6.8%\"],[\"Rural\",79.7,86.6,\"6.9%\"],[\"Rural\",66.2,73.5,\"7.3%\"],[\"Rural\",63.2,71.4,\"8.2%\"],[\"Rural\",68.1,76.3,\"8.2%\"],[\"Rural\",63.4,72.1,\"8.7%\"],[\"Rural\",59.3,68.7,\"9.4%\"],[\"Rural\",59.7,69.3,\"9.6%\"],[\"Rural\",59.8,70.2,\"10.4%\"],[\"Rural\",61.3,71.7,\"10.4%\"],[\"Rural\",47.8,59.9,\"12.1%\"],[\"Rural\",66.8,78.9,\"12.1%\"],[\"Rural\",62.8,75.3,\"12.5%\"],[\"Rural\",52.5,65.5,\"13.0%\"],[\"Rural\",49.8,63.2,\"13.4%\"],[\"Rural\",56.3,69.9,\"13.6%\"],[\"Rural\",49.3,64.1,\"14.8%\"],[\"Rural\",69.7,84.9,\"15.2%\"],[\"Rural\",45.7,61.1,\"15.4%\"],[\"Rural\",43.9,59.8,\"15.9%\"]],\"hovertemplate\":\"Typ=%{customdata[0]}<br>chng=%{x}<br>STATE_UT=%{y}<br>chng_lab=%{customdata[3]}<br>last_census=%{customdata[1]}<br>latest_census=%{customdata[2]}<extra></extra>\",\"legendgroup\":\"Rural\",\"marker\":{\"color\":\"#EF553B\",\"pattern\":{\"shape\":\"\"}},\"name\":\"Rural\",\"offsetgroup\":\"Rural\",\"orientation\":\"h\",\"showlegend\":true,\"text\":[\"2.8%\",\"3.0%\",\"3.8%\",\"5.1%\",\"5.5%\",\"5.6%\",\"5.8%\",\"5.9%\",\"6.1%\",\"6.1%\",\"6.1%\",\"6.1%\",\"6.6%\",\"6.6%\",\"6.7%\",\"6.8%\",\"6.9%\",\"7.3%\",\"8.2%\",\"8.2%\",\"8.7%\",\"9.4%\",\"9.6%\",\"10.4%\",\"10.4%\",\"12.1%\",\"12.1%\",\"12.5%\",\"13.0%\",\"13.4%\",\"13.6%\",\"14.8%\",\"15.2%\",\"15.4%\",\"15.9%\"],\"textposition\":\"auto\",\"type\":\"bar\",\"x\":[2.799999999999997,3.0,3.8000000000000114,5.1000000000000085,5.5,5.6000000000000085,5.799999999999997,5.899999999999999,6.099999999999994,6.100000000000001,6.100000000000001,6.1000000000000085,6.599999999999994,6.599999999999994,6.700000000000003,6.800000000000011,6.8999999999999915,7.299999999999997,8.200000000000003,8.200000000000003,8.699999999999996,9.400000000000006,9.599999999999994,10.400000000000006,10.400000000000006,12.100000000000001,12.100000000000009,12.5,13.0,13.400000000000006,13.600000000000009,14.799999999999997,15.200000000000003,15.399999999999999,15.899999999999999],\"xaxis\":\"x2\",\"y\":[\"Mizoram\",\"Kerala\",\"NCT of Delhi\",\"Chandigarh\",\"Chhattisgarh\",\"Daman & Diu\",\"A & N Islands\",\"Andhra Pradesh\",\"Puducherry\",\"Madhya Pradesh\",\"Rajasthan\",\"Manipur\",\"Maharashtra\",\"Lakshadweep\",\"Punjab\",\"Himachal Pradesh\",\"Goa\",\"Tamil Nadu\",\"Haryana\",\"Uttarakhand\",\"West Bengal\",\"Karnataka\",\"Assam\",\"Odisha\",\"Gujarat\",\"Arunachal Pradesh\",\"Sikkim\",\"Nagaland\",\"Uttar Pradesh\",\"Jammu & Kashmir\",\"Meghalaya\",\"D & N Haveli\",\"Tripura\",\"Jharkhand\",\"Bihar\"],\"yaxis\":\"y2\"}],                        {\"annotations\":[{\"font\":{},\"showarrow\":false,\"text\":\"Typ=Urban\",\"x\":0.245,\"xanchor\":\"center\",\"xref\":\"paper\",\"y\":1.0,\"yanchor\":\"bottom\",\"yref\":\"paper\"},{\"font\":{},\"showarrow\":false,\"text\":\"Typ=Rural\",\"x\":0.755,\"xanchor\":\"center\",\"xref\":\"paper\",\"y\":1.0,\"yanchor\":\"bottom\",\"yref\":\"paper\"}],\"barmode\":\"relative\",\"font\":{\"family\":\"Courier New\"},\"height\":2000,\"legend\":{\"title\":{\"font\":{\"color\":\"green\"},\"text\":\"Typ\"},\"tracegroupgap\":0},\"margin\":{\"t\":60},\"template\":{\"data\":{\"bar\":[{\"error_x\":{\"color\":\"#2a3f5f\"},\"error_y\":{\"color\":\"#2a3f5f\"},\"marker\":{\"line\":{\"color\":\"#E5ECF6\",\"width\":0.5},\"pattern\":{\"fillmode\":\"overlay\",\"size\":10,\"solidity\":0.2}},\"type\":\"bar\"}],\"barpolar\":[{\"marker\":{\"line\":{\"color\":\"#E5ECF6\",\"width\":0.5},\"pattern\":{\"fillmode\":\"overlay\",\"size\":10,\"solidity\":0.2}},\"type\":\"barpolar\"}],\"carpet\":[{\"aaxis\":{\"endlinecolor\":\"#2a3f5f\",\"gridcolor\":\"white\",\"linecolor\":\"white\",\"minorgridcolor\":\"white\",\"startlinecolor\":\"#2a3f5f\"},\"baxis\":{\"endlinecolor\":\"#2a3f5f\",\"gridcolor\":\"white\",\"linecolor\":\"white\",\"minorgridcolor\":\"white\",\"startlinecolor\":\"#2a3f5f\"},\"type\":\"carpet\"}],\"choropleth\":[{\"colorbar\":{\"outlinewidth\":0,\"ticks\":\"\"},\"type\":\"choropleth\"}],\"contour\":[{\"colorbar\":{\"outlinewidth\":0,\"ticks\":\"\"},\"colorscale\":[[0.0,\"#0d0887\"],[0.1111111111111111,\"#46039f\"],[0.2222222222222222,\"#7201a8\"],[0.3333333333333333,\"#9c179e\"],[0.4444444444444444,\"#bd3786\"],[0.5555555555555556,\"#d8576b\"],[0.6666666666666666,\"#ed7953\"],[0.7777777777777778,\"#fb9f3a\"],[0.8888888888888888,\"#fdca26\"],[1.0,\"#f0f921\"]],\"type\":\"contour\"}],\"contourcarpet\":[{\"colorbar\":{\"outlinewidth\":0,\"ticks\":\"\"},\"type\":\"contourcarpet\"}],\"heatmap\":[{\"colorbar\":{\"outlinewidth\":0,\"ticks\":\"\"},\"colorscale\":[[0.0,\"#0d0887\"],[0.1111111111111111,\"#46039f\"],[0.2222222222222222,\"#7201a8\"],[0.3333333333333333,\"#9c179e\"],[0.4444444444444444,\"#bd3786\"],[0.5555555555555556,\"#d8576b\"],[0.6666666666666666,\"#ed7953\"],[0.7777777777777778,\"#fb9f3a\"],[0.8888888888888888,\"#fdca26\"],[1.0,\"#f0f921\"]],\"type\":\"heatmap\"}],\"heatmapgl\":[{\"colorbar\":{\"outlinewidth\":0,\"ticks\":\"\"},\"colorscale\":[[0.0,\"#0d0887\"],[0.1111111111111111,\"#46039f\"],[0.2222222222222222,\"#7201a8\"],[0.3333333333333333,\"#9c179e\"],[0.4444444444444444,\"#bd3786\"],[0.5555555555555556,\"#d8576b\"],[0.6666666666666666,\"#ed7953\"],[0.7777777777777778,\"#fb9f3a\"],[0.8888888888888888,\"#fdca26\"],[1.0,\"#f0f921\"]],\"type\":\"heatmapgl\"}],\"histogram\":[{\"marker\":{\"pattern\":{\"fillmode\":\"overlay\",\"size\":10,\"solidity\":0.2}},\"type\":\"histogram\"}],\"histogram2d\":[{\"colorbar\":{\"outlinewidth\":0,\"ticks\":\"\"},\"colorscale\":[[0.0,\"#0d0887\"],[0.1111111111111111,\"#46039f\"],[0.2222222222222222,\"#7201a8\"],[0.3333333333333333,\"#9c179e\"],[0.4444444444444444,\"#bd3786\"],[0.5555555555555556,\"#d8576b\"],[0.6666666666666666,\"#ed7953\"],[0.7777777777777778,\"#fb9f3a\"],[0.8888888888888888,\"#fdca26\"],[1.0,\"#f0f921\"]],\"type\":\"histogram2d\"}],\"histogram2dcontour\":[{\"colorbar\":{\"outlinewidth\":0,\"ticks\":\"\"},\"colorscale\":[[0.0,\"#0d0887\"],[0.1111111111111111,\"#46039f\"],[0.2222222222222222,\"#7201a8\"],[0.3333333333333333,\"#9c179e\"],[0.4444444444444444,\"#bd3786\"],[0.5555555555555556,\"#d8576b\"],[0.6666666666666666,\"#ed7953\"],[0.7777777777777778,\"#fb9f3a\"],[0.8888888888888888,\"#fdca26\"],[1.0,\"#f0f921\"]],\"type\":\"histogram2dcontour\"}],\"mesh3d\":[{\"colorbar\":{\"outlinewidth\":0,\"ticks\":\"\"},\"type\":\"mesh3d\"}],\"parcoords\":[{\"line\":{\"colorbar\":{\"outlinewidth\":0,\"ticks\":\"\"}},\"type\":\"parcoords\"}],\"pie\":[{\"automargin\":true,\"type\":\"pie\"}],\"scatter\":[{\"marker\":{\"colorbar\":{\"outlinewidth\":0,\"ticks\":\"\"}},\"type\":\"scatter\"}],\"scatter3d\":[{\"line\":{\"colorbar\":{\"outlinewidth\":0,\"ticks\":\"\"}},\"marker\":{\"colorbar\":{\"outlinewidth\":0,\"ticks\":\"\"}},\"type\":\"scatter3d\"}],\"scattercarpet\":[{\"marker\":{\"colorbar\":{\"outlinewidth\":0,\"ticks\":\"\"}},\"type\":\"scattercarpet\"}],\"scattergeo\":[{\"marker\":{\"colorbar\":{\"outlinewidth\":0,\"ticks\":\"\"}},\"type\":\"scattergeo\"}],\"scattergl\":[{\"marker\":{\"colorbar\":{\"outlinewidth\":0,\"ticks\":\"\"}},\"type\":\"scattergl\"}],\"scattermapbox\":[{\"marker\":{\"colorbar\":{\"outlinewidth\":0,\"ticks\":\"\"}},\"type\":\"scattermapbox\"}],\"scatterpolar\":[{\"marker\":{\"colorbar\":{\"outlinewidth\":0,\"ticks\":\"\"}},\"type\":\"scatterpolar\"}],\"scatterpolargl\":[{\"marker\":{\"colorbar\":{\"outlinewidth\":0,\"ticks\":\"\"}},\"type\":\"scatterpolargl\"}],\"scatterternary\":[{\"marker\":{\"colorbar\":{\"outlinewidth\":0,\"ticks\":\"\"}},\"type\":\"scatterternary\"}],\"surface\":[{\"colorbar\":{\"outlinewidth\":0,\"ticks\":\"\"},\"colorscale\":[[0.0,\"#0d0887\"],[0.1111111111111111,\"#46039f\"],[0.2222222222222222,\"#7201a8\"],[0.3333333333333333,\"#9c179e\"],[0.4444444444444444,\"#bd3786\"],[0.5555555555555556,\"#d8576b\"],[0.6666666666666666,\"#ed7953\"],[0.7777777777777778,\"#fb9f3a\"],[0.8888888888888888,\"#fdca26\"],[1.0,\"#f0f921\"]],\"type\":\"surface\"}],\"table\":[{\"cells\":{\"fill\":{\"color\":\"#EBF0F8\"},\"line\":{\"color\":\"white\"}},\"header\":{\"fill\":{\"color\":\"#C8D4E3\"},\"line\":{\"color\":\"white\"}},\"type\":\"table\"}]},\"layout\":{\"annotationdefaults\":{\"arrowcolor\":\"#2a3f5f\",\"arrowhead\":0,\"arrowwidth\":1},\"autotypenumbers\":\"strict\",\"coloraxis\":{\"colorbar\":{\"outlinewidth\":0,\"ticks\":\"\"}},\"colorscale\":{\"diverging\":[[0,\"#8e0152\"],[0.1,\"#c51b7d\"],[0.2,\"#de77ae\"],[0.3,\"#f1b6da\"],[0.4,\"#fde0ef\"],[0.5,\"#f7f7f7\"],[0.6,\"#e6f5d0\"],[0.7,\"#b8e186\"],[0.8,\"#7fbc41\"],[0.9,\"#4d9221\"],[1,\"#276419\"]],\"sequential\":[[0.0,\"#0d0887\"],[0.1111111111111111,\"#46039f\"],[0.2222222222222222,\"#7201a8\"],[0.3333333333333333,\"#9c179e\"],[0.4444444444444444,\"#bd3786\"],[0.5555555555555556,\"#d8576b\"],[0.6666666666666666,\"#ed7953\"],[0.7777777777777778,\"#fb9f3a\"],[0.8888888888888888,\"#fdca26\"],[1.0,\"#f0f921\"]],\"sequentialminus\":[[0.0,\"#0d0887\"],[0.1111111111111111,\"#46039f\"],[0.2222222222222222,\"#7201a8\"],[0.3333333333333333,\"#9c179e\"],[0.4444444444444444,\"#bd3786\"],[0.5555555555555556,\"#d8576b\"],[0.6666666666666666,\"#ed7953\"],[0.7777777777777778,\"#fb9f3a\"],[0.8888888888888888,\"#fdca26\"],[1.0,\"#f0f921\"]]},\"colorway\":[\"#636efa\",\"#EF553B\",\"#00cc96\",\"#ab63fa\",\"#FFA15A\",\"#19d3f3\",\"#FF6692\",\"#B6E880\",\"#FF97FF\",\"#FECB52\"],\"font\":{\"color\":\"#2a3f5f\"},\"geo\":{\"bgcolor\":\"white\",\"lakecolor\":\"white\",\"landcolor\":\"#E5ECF6\",\"showlakes\":true,\"showland\":true,\"subunitcolor\":\"white\"},\"hoverlabel\":{\"align\":\"left\"},\"hovermode\":\"closest\",\"mapbox\":{\"style\":\"light\"},\"paper_bgcolor\":\"white\",\"plot_bgcolor\":\"#E5ECF6\",\"polar\":{\"angularaxis\":{\"gridcolor\":\"white\",\"linecolor\":\"white\",\"ticks\":\"\"},\"bgcolor\":\"#E5ECF6\",\"radialaxis\":{\"gridcolor\":\"white\",\"linecolor\":\"white\",\"ticks\":\"\"}},\"scene\":{\"xaxis\":{\"backgroundcolor\":\"#E5ECF6\",\"gridcolor\":\"white\",\"gridwidth\":2,\"linecolor\":\"white\",\"showbackground\":true,\"ticks\":\"\",\"zerolinecolor\":\"white\"},\"yaxis\":{\"backgroundcolor\":\"#E5ECF6\",\"gridcolor\":\"white\",\"gridwidth\":2,\"linecolor\":\"white\",\"showbackground\":true,\"ticks\":\"\",\"zerolinecolor\":\"white\"},\"zaxis\":{\"backgroundcolor\":\"#E5ECF6\",\"gridcolor\":\"white\",\"gridwidth\":2,\"linecolor\":\"white\",\"showbackground\":true,\"ticks\":\"\",\"zerolinecolor\":\"white\"}},\"shapedefaults\":{\"line\":{\"color\":\"#2a3f5f\"}},\"ternary\":{\"aaxis\":{\"gridcolor\":\"white\",\"linecolor\":\"white\",\"ticks\":\"\"},\"baxis\":{\"gridcolor\":\"white\",\"linecolor\":\"white\",\"ticks\":\"\"},\"bgcolor\":\"#E5ECF6\",\"caxis\":{\"gridcolor\":\"white\",\"linecolor\":\"white\",\"ticks\":\"\"}},\"title\":{\"x\":0.05},\"xaxis\":{\"automargin\":true,\"gridcolor\":\"white\",\"linecolor\":\"white\",\"ticks\":\"\",\"title\":{\"standoff\":15},\"zerolinecolor\":\"white\",\"zerolinewidth\":2},\"yaxis\":{\"automargin\":true,\"gridcolor\":\"white\",\"linecolor\":\"white\",\"ticks\":\"\",\"title\":{\"standoff\":15},\"zerolinecolor\":\"white\",\"zerolinewidth\":2}}},\"title\":{\"font\":{\"color\":\"red\",\"size\":20},\"text\":\"States with change in Literacy Rate from Census is 2001\"},\"xaxis\":{\"anchor\":\"y\",\"domain\":[0.0,0.49],\"title\":{\"text\":\"chng\"}},\"xaxis2\":{\"anchor\":\"y2\",\"domain\":[0.51,1.0],\"matches\":\"x\",\"title\":{\"text\":\"chng\"}},\"yaxis\":{\"anchor\":\"x\",\"domain\":[0.0,1.0],\"title\":{\"text\":\"STATE_UT\"}},\"yaxis2\":{\"anchor\":\"x2\",\"domain\":[0.0,1.0],\"matches\":\"y\",\"showticklabels\":false}},                        {\"responsive\": true}                    ).then(function(){\n",
       "                            \n",
       "var gd = document.getElementById('0c11b10b-3321-413f-ace7-49a93616cdd4');\n",
       "var x = new MutationObserver(function (mutations, observer) {{\n",
       "        var display = window.getComputedStyle(gd).display;\n",
       "        if (!display || display === 'none') {{\n",
       "            console.log([gd, 'removed!']);\n",
       "            Plotly.purge(gd);\n",
       "            observer.disconnect();\n",
       "        }}\n",
       "}});\n",
       "\n",
       "// Listen for the removal of the full notebook cells\n",
       "var notebookContainer = gd.closest('#notebook-container');\n",
       "if (notebookContainer) {{\n",
       "    x.observe(notebookContainer, {childList: true});\n",
       "}}\n",
       "\n",
       "// Listen for the clearing of the current output cell\n",
       "var outputEl = gd.closest('.output');\n",
       "if (outputEl) {{\n",
       "    x.observe(outputEl, {childList: true});\n",
       "}}\n",
       "\n",
       "                        })                };                });            </script>        </div>"
      ]
     },
     "metadata": {},
     "output_type": "display_data"
    }
   ],
   "source": [
    "q2=df2[(df2['Typ']!='Total')&(df2['STATE_UT']!='INDIA')].groupby(['STATE_UT','Year','Typ']).agg({\"Literacy_Rate\":\"mean\"}).sort_values(by='Literacy_Rate',ascending=True).reset_index()\n",
    "q2=q2.set_index(['STATE_UT','Typ','Year'])['Literacy_Rate'].unstack().reset_index().rename(columns={\"2001\":\"last_census\",\"2011\":\"latest_census\"})\n",
    "q2['chng']=q2['latest_census']-q2['last_census']\n",
    "q2=q2.sort_values(by='chng',ascending=True)\n",
    "q2['chng_lab']=q2['chng'].apply(lambda x: \"{:.1%}\".format(x/100))\n",
    "\n",
    "\n",
    "fig=px.bar(q2,x='chng',y='STATE_UT',orientation='h',color='Typ',facet_col='Typ',hover_data=q2.columns,text='chng_lab',height=2000)\n",
    "fig.update_layout({\"title\":\"States with change in Literacy Rate from Census is 2001\",\"title_font_size\":20,\"font_family\":\"Courier New\",\"title_font_color\":\"red\",\"legend_title_font_color\":\"green\"})\n",
    "fig.write_image(format='png',file='States with change in Literacy Rate.png',validate=True)\n",
    "fig.show()\n",
    "\n"
   ]
  },
  {
   "cell_type": "markdown",
   "id": "2b42d692",
   "metadata": {},
   "source": [
    "### Difference b/w Literacy Rates Max and Minimum"
   ]
  },
  {
   "cell_type": "code",
   "execution_count": 36,
   "id": "246cc916",
   "metadata": {},
   "outputs": [
    {
     "data": {
      "text/html": [
       "<div>\n",
       "<style scoped>\n",
       "    .dataframe tbody tr th:only-of-type {\n",
       "        vertical-align: middle;\n",
       "    }\n",
       "\n",
       "    .dataframe tbody tr th {\n",
       "        vertical-align: top;\n",
       "    }\n",
       "\n",
       "    .dataframe thead th {\n",
       "        text-align: right;\n",
       "    }\n",
       "</style>\n",
       "<table border=\"1\" class=\"dataframe\">\n",
       "  <thead>\n",
       "    <tr style=\"text-align: right;\">\n",
       "      <th>Year</th>\n",
       "      <th>latest_census</th>\n",
       "    </tr>\n",
       "  </thead>\n",
       "  <tbody>\n",
       "    <tr>\n",
       "      <th>0</th>\n",
       "      <td>NaN</td>\n",
       "    </tr>\n",
       "    <tr>\n",
       "      <th>1</th>\n",
       "      <td>-25.7</td>\n",
       "    </tr>\n",
       "  </tbody>\n",
       "</table>\n",
       "</div>"
      ],
      "text/plain": [
       "Year  latest_census\n",
       "0               NaN\n",
       "1             -25.7"
      ]
     },
     "execution_count": 36,
     "metadata": {},
     "output_type": "execute_result"
    }
   ],
   "source": [
    "q3=df2[(df2['Typ']!='Total')&(df2['STATE_UT']!='INDIA')].groupby(['STATE_UT','Year']).agg({\"Literacy_Rate\":\"mean\"}).sort_values(by='Literacy_Rate',ascending=True).reset_index()\n",
    "q3=q3.set_index(['STATE_UT','Year'])['Literacy_Rate'].unstack().reset_index().rename(columns={\"2001\":\"last_census\",\"2011\":\"latest_census\"})\n",
    "q3.groupby('STATE_UT').agg({\"latest_census\":\"mean\"}).rank(ascending=False)\n",
    "q3=pd.concat([q3,q3.groupby('STATE_UT').agg({\"latest_census\":\"mean\"}).rank(ascending=False).reset_index().rename(columns={\"latest_census\":\"LR_Rank\",\"STATE_UT\":\"STATE\"})],axis=1)[['STATE_UT','latest_census','LR_Rank']]\n",
    "\n",
    "ans=q3.sort_values(by='LR_Rank',ascending=True).head(1).append(q3.sort_values(by='LR_Rank',ascending=True).tail(1))\n",
    "ans[['latest_census']].reset_index(drop=True).diff()"
   ]
  },
  {
   "cell_type": "code",
   "execution_count": 61,
   "id": "95e603f1",
   "metadata": {},
   "outputs": [
    {
     "data": {
      "application/vnd.plotly.v1+json": {
       "config": {
        "plotlyServerURL": "https://plot.ly"
       },
       "data": [
        {
         "alignmentgroup": "True",
         "hovertemplate": "Typ=Rural<br>Category=Country<br>Literacy_Rate=%{x}<br>Year=%{y}<br>Literacy_Rate_lab=%{text}<extra></extra>",
         "legendgroup": "Rural",
         "marker": {
          "color": "#636efa",
          "pattern": {
           "shape": ""
          }
         },
         "name": "Rural",
         "offsetgroup": "Rural",
         "orientation": "h",
         "showlegend": true,
         "text": [
          "58.7%",
          "67.8%"
         ],
         "textposition": "auto",
         "type": "bar",
         "x": [
          58.7,
          67.8
         ],
         "xaxis": "x7",
         "y": [
          "2001",
          "2011"
         ],
         "yaxis": "y7"
        },
        {
         "alignmentgroup": "True",
         "hovertemplate": "Typ=Rural<br>Category=State<br>Literacy_Rate=%{x}<br>Year=%{y}<br>Literacy_Rate_lab=%{text}<extra></extra>",
         "legendgroup": "Rural",
         "marker": {
          "color": "#636efa",
          "pattern": {
           "shape": ""
          }
         },
         "name": "Rural",
         "offsetgroup": "Rural",
         "orientation": "h",
         "showlegend": false,
         "text": [
          "62.6%",
          "71.8%"
         ],
         "textposition": "auto",
         "type": "bar",
         "x": [
          62.60357142857142,
          71.81428571428572
         ],
         "xaxis": "x8",
         "y": [
          "2001",
          "2011"
         ],
         "yaxis": "y8"
        },
        {
         "alignmentgroup": "True",
         "hovertemplate": "Typ=Rural<br>Category=Union Territory<br>Literacy_Rate=%{x}<br>Year=%{y}<br>Literacy_Rate_lab=%{text}<extra></extra>",
         "legendgroup": "Rural",
         "marker": {
          "color": "#636efa",
          "pattern": {
           "shape": ""
          }
         },
         "name": "Rural",
         "offsetgroup": "Rural",
         "orientation": "h",
         "showlegend": false,
         "text": [
          "73.8%",
          "80.6%"
         ],
         "textposition": "auto",
         "type": "bar",
         "x": [
          73.78571428571429,
          80.61428571428571
         ],
         "xaxis": "x9",
         "y": [
          "2001",
          "2011"
         ],
         "yaxis": "y9"
        },
        {
         "alignmentgroup": "True",
         "hovertemplate": "Typ=Total<br>Category=Country<br>Literacy_Rate=%{x}<br>Year=%{y}<br>Literacy_Rate_lab=%{text}<extra></extra>",
         "legendgroup": "Total",
         "marker": {
          "color": "#EF553B",
          "pattern": {
           "shape": ""
          }
         },
         "name": "Total",
         "offsetgroup": "Total",
         "orientation": "h",
         "showlegend": true,
         "text": [
          "64.8%",
          "73.0%"
         ],
         "textposition": "auto",
         "type": "bar",
         "x": [
          64.8,
          73
         ],
         "xaxis": "x4",
         "y": [
          "2001",
          "2011"
         ],
         "yaxis": "y4"
        },
        {
         "alignmentgroup": "True",
         "hovertemplate": "Typ=Total<br>Category=State<br>Literacy_Rate=%{x}<br>Year=%{y}<br>Literacy_Rate_lab=%{text}<extra></extra>",
         "legendgroup": "Total",
         "marker": {
          "color": "#EF553B",
          "pattern": {
           "shape": ""
          }
         },
         "name": "Total",
         "offsetgroup": "Total",
         "orientation": "h",
         "showlegend": false,
         "text": [
          "67.4%",
          "75.9%"
         ],
         "textposition": "auto",
         "type": "bar",
         "x": [
          67.36428571428571,
          75.88928571428572
         ],
         "xaxis": "x5",
         "y": [
          "2001",
          "2011"
         ],
         "yaxis": "y5"
        },
        {
         "alignmentgroup": "True",
         "hovertemplate": "Typ=Total<br>Category=Union Territory<br>Literacy_Rate=%{x}<br>Year=%{y}<br>Literacy_Rate_lab=%{text}<extra></extra>",
         "legendgroup": "Total",
         "marker": {
          "color": "#EF553B",
          "pattern": {
           "shape": ""
          }
         },
         "name": "Total",
         "offsetgroup": "Total",
         "orientation": "h",
         "showlegend": false,
         "text": [
          "78.4%",
          "85.7%"
         ],
         "textposition": "auto",
         "type": "bar",
         "x": [
          78.37142857142858,
          85.67142857142858
         ],
         "xaxis": "x6",
         "y": [
          "2001",
          "2011"
         ],
         "yaxis": "y6"
        },
        {
         "alignmentgroup": "True",
         "hovertemplate": "Typ=Urban<br>Category=Country<br>Literacy_Rate=%{x}<br>Year=%{y}<br>Literacy_Rate_lab=%{text}<extra></extra>",
         "legendgroup": "Urban",
         "marker": {
          "color": "#00cc96",
          "pattern": {
           "shape": ""
          }
         },
         "name": "Urban",
         "offsetgroup": "Urban",
         "orientation": "h",
         "showlegend": true,
         "text": [
          "79.9%",
          "84.1%"
         ],
         "textposition": "auto",
         "type": "bar",
         "x": [
          79.9,
          84.1
         ],
         "xaxis": "x",
         "y": [
          "2001",
          "2011"
         ],
         "yaxis": "y"
        },
        {
         "alignmentgroup": "True",
         "hovertemplate": "Typ=Urban<br>Category=State<br>Literacy_Rate=%{x}<br>Year=%{y}<br>Literacy_Rate_lab=%{text}<extra></extra>",
         "legendgroup": "Urban",
         "marker": {
          "color": "#00cc96",
          "pattern": {
           "shape": ""
          }
         },
         "name": "Urban",
         "offsetgroup": "Urban",
         "orientation": "h",
         "showlegend": false,
         "text": [
          "81.7%",
          "85.7%"
         ],
         "textposition": "auto",
         "type": "bar",
         "x": [
          81.66785714285713,
          85.72500000000001
         ],
         "xaxis": "x2",
         "y": [
          "2001",
          "2011"
         ],
         "yaxis": "y2"
        },
        {
         "alignmentgroup": "True",
         "hovertemplate": "Typ=Urban<br>Category=Union Territory<br>Literacy_Rate=%{x}<br>Year=%{y}<br>Literacy_Rate_lab=%{text}<extra></extra>",
         "legendgroup": "Urban",
         "marker": {
          "color": "#00cc96",
          "pattern": {
           "shape": ""
          }
         },
         "name": "Urban",
         "offsetgroup": "Urban",
         "orientation": "h",
         "showlegend": false,
         "text": [
          "84.5%",
          "88.8%"
         ],
         "textposition": "auto",
         "type": "bar",
         "x": [
          84.45714285714287,
          88.82857142857142
         ],
         "xaxis": "x3",
         "y": [
          "2001",
          "2011"
         ],
         "yaxis": "y3"
        }
       ],
       "layout": {
        "annotations": [
         {
          "font": {},
          "showarrow": false,
          "text": "Category=Country",
          "x": 0.15666666666666665,
          "xanchor": "center",
          "xref": "paper",
          "y": 0.9999999999999998,
          "yanchor": "bottom",
          "yref": "paper"
         },
         {
          "font": {},
          "showarrow": false,
          "text": "Category=State",
          "x": 0.49,
          "xanchor": "center",
          "xref": "paper",
          "y": 0.9999999999999998,
          "yanchor": "bottom",
          "yref": "paper"
         },
         {
          "font": {},
          "showarrow": false,
          "text": "Category=Union Territory",
          "x": 0.8233333333333333,
          "xanchor": "center",
          "xref": "paper",
          "y": 0.9999999999999998,
          "yanchor": "bottom",
          "yref": "paper"
         },
         {
          "font": {},
          "showarrow": false,
          "text": "Typ=Urban",
          "textangle": 90,
          "x": 0.98,
          "xanchor": "left",
          "xref": "paper",
          "y": 0.15666666666666665,
          "yanchor": "middle",
          "yref": "paper"
         },
         {
          "font": {},
          "showarrow": false,
          "text": "Typ=Total",
          "textangle": 90,
          "x": 0.98,
          "xanchor": "left",
          "xref": "paper",
          "y": 0.4999999999999999,
          "yanchor": "middle",
          "yref": "paper"
         },
         {
          "font": {},
          "showarrow": false,
          "text": "Typ=Rural",
          "textangle": 90,
          "x": 0.98,
          "xanchor": "left",
          "xref": "paper",
          "y": 0.8433333333333332,
          "yanchor": "middle",
          "yref": "paper"
         }
        ],
        "barmode": "relative",
        "font": {
         "family": "Courier New"
        },
        "legend": {
         "title": {
          "font": {
           "color": "green"
          },
          "text": "Typ"
         },
         "tracegroupgap": 0
        },
        "margin": {
         "t": 60
        },
        "template": {
         "data": {
          "bar": [
           {
            "error_x": {
             "color": "#2a3f5f"
            },
            "error_y": {
             "color": "#2a3f5f"
            },
            "marker": {
             "line": {
              "color": "#E5ECF6",
              "width": 0.5
             },
             "pattern": {
              "fillmode": "overlay",
              "size": 10,
              "solidity": 0.2
             }
            },
            "type": "bar"
           }
          ],
          "barpolar": [
           {
            "marker": {
             "line": {
              "color": "#E5ECF6",
              "width": 0.5
             },
             "pattern": {
              "fillmode": "overlay",
              "size": 10,
              "solidity": 0.2
             }
            },
            "type": "barpolar"
           }
          ],
          "carpet": [
           {
            "aaxis": {
             "endlinecolor": "#2a3f5f",
             "gridcolor": "white",
             "linecolor": "white",
             "minorgridcolor": "white",
             "startlinecolor": "#2a3f5f"
            },
            "baxis": {
             "endlinecolor": "#2a3f5f",
             "gridcolor": "white",
             "linecolor": "white",
             "minorgridcolor": "white",
             "startlinecolor": "#2a3f5f"
            },
            "type": "carpet"
           }
          ],
          "choropleth": [
           {
            "colorbar": {
             "outlinewidth": 0,
             "ticks": ""
            },
            "type": "choropleth"
           }
          ],
          "contour": [
           {
            "colorbar": {
             "outlinewidth": 0,
             "ticks": ""
            },
            "colorscale": [
             [
              0,
              "#0d0887"
             ],
             [
              0.1111111111111111,
              "#46039f"
             ],
             [
              0.2222222222222222,
              "#7201a8"
             ],
             [
              0.3333333333333333,
              "#9c179e"
             ],
             [
              0.4444444444444444,
              "#bd3786"
             ],
             [
              0.5555555555555556,
              "#d8576b"
             ],
             [
              0.6666666666666666,
              "#ed7953"
             ],
             [
              0.7777777777777778,
              "#fb9f3a"
             ],
             [
              0.8888888888888888,
              "#fdca26"
             ],
             [
              1,
              "#f0f921"
             ]
            ],
            "type": "contour"
           }
          ],
          "contourcarpet": [
           {
            "colorbar": {
             "outlinewidth": 0,
             "ticks": ""
            },
            "type": "contourcarpet"
           }
          ],
          "heatmap": [
           {
            "colorbar": {
             "outlinewidth": 0,
             "ticks": ""
            },
            "colorscale": [
             [
              0,
              "#0d0887"
             ],
             [
              0.1111111111111111,
              "#46039f"
             ],
             [
              0.2222222222222222,
              "#7201a8"
             ],
             [
              0.3333333333333333,
              "#9c179e"
             ],
             [
              0.4444444444444444,
              "#bd3786"
             ],
             [
              0.5555555555555556,
              "#d8576b"
             ],
             [
              0.6666666666666666,
              "#ed7953"
             ],
             [
              0.7777777777777778,
              "#fb9f3a"
             ],
             [
              0.8888888888888888,
              "#fdca26"
             ],
             [
              1,
              "#f0f921"
             ]
            ],
            "type": "heatmap"
           }
          ],
          "heatmapgl": [
           {
            "colorbar": {
             "outlinewidth": 0,
             "ticks": ""
            },
            "colorscale": [
             [
              0,
              "#0d0887"
             ],
             [
              0.1111111111111111,
              "#46039f"
             ],
             [
              0.2222222222222222,
              "#7201a8"
             ],
             [
              0.3333333333333333,
              "#9c179e"
             ],
             [
              0.4444444444444444,
              "#bd3786"
             ],
             [
              0.5555555555555556,
              "#d8576b"
             ],
             [
              0.6666666666666666,
              "#ed7953"
             ],
             [
              0.7777777777777778,
              "#fb9f3a"
             ],
             [
              0.8888888888888888,
              "#fdca26"
             ],
             [
              1,
              "#f0f921"
             ]
            ],
            "type": "heatmapgl"
           }
          ],
          "histogram": [
           {
            "marker": {
             "pattern": {
              "fillmode": "overlay",
              "size": 10,
              "solidity": 0.2
             }
            },
            "type": "histogram"
           }
          ],
          "histogram2d": [
           {
            "colorbar": {
             "outlinewidth": 0,
             "ticks": ""
            },
            "colorscale": [
             [
              0,
              "#0d0887"
             ],
             [
              0.1111111111111111,
              "#46039f"
             ],
             [
              0.2222222222222222,
              "#7201a8"
             ],
             [
              0.3333333333333333,
              "#9c179e"
             ],
             [
              0.4444444444444444,
              "#bd3786"
             ],
             [
              0.5555555555555556,
              "#d8576b"
             ],
             [
              0.6666666666666666,
              "#ed7953"
             ],
             [
              0.7777777777777778,
              "#fb9f3a"
             ],
             [
              0.8888888888888888,
              "#fdca26"
             ],
             [
              1,
              "#f0f921"
             ]
            ],
            "type": "histogram2d"
           }
          ],
          "histogram2dcontour": [
           {
            "colorbar": {
             "outlinewidth": 0,
             "ticks": ""
            },
            "colorscale": [
             [
              0,
              "#0d0887"
             ],
             [
              0.1111111111111111,
              "#46039f"
             ],
             [
              0.2222222222222222,
              "#7201a8"
             ],
             [
              0.3333333333333333,
              "#9c179e"
             ],
             [
              0.4444444444444444,
              "#bd3786"
             ],
             [
              0.5555555555555556,
              "#d8576b"
             ],
             [
              0.6666666666666666,
              "#ed7953"
             ],
             [
              0.7777777777777778,
              "#fb9f3a"
             ],
             [
              0.8888888888888888,
              "#fdca26"
             ],
             [
              1,
              "#f0f921"
             ]
            ],
            "type": "histogram2dcontour"
           }
          ],
          "mesh3d": [
           {
            "colorbar": {
             "outlinewidth": 0,
             "ticks": ""
            },
            "type": "mesh3d"
           }
          ],
          "parcoords": [
           {
            "line": {
             "colorbar": {
              "outlinewidth": 0,
              "ticks": ""
             }
            },
            "type": "parcoords"
           }
          ],
          "pie": [
           {
            "automargin": true,
            "type": "pie"
           }
          ],
          "scatter": [
           {
            "marker": {
             "colorbar": {
              "outlinewidth": 0,
              "ticks": ""
             }
            },
            "type": "scatter"
           }
          ],
          "scatter3d": [
           {
            "line": {
             "colorbar": {
              "outlinewidth": 0,
              "ticks": ""
             }
            },
            "marker": {
             "colorbar": {
              "outlinewidth": 0,
              "ticks": ""
             }
            },
            "type": "scatter3d"
           }
          ],
          "scattercarpet": [
           {
            "marker": {
             "colorbar": {
              "outlinewidth": 0,
              "ticks": ""
             }
            },
            "type": "scattercarpet"
           }
          ],
          "scattergeo": [
           {
            "marker": {
             "colorbar": {
              "outlinewidth": 0,
              "ticks": ""
             }
            },
            "type": "scattergeo"
           }
          ],
          "scattergl": [
           {
            "marker": {
             "colorbar": {
              "outlinewidth": 0,
              "ticks": ""
             }
            },
            "type": "scattergl"
           }
          ],
          "scattermapbox": [
           {
            "marker": {
             "colorbar": {
              "outlinewidth": 0,
              "ticks": ""
             }
            },
            "type": "scattermapbox"
           }
          ],
          "scatterpolar": [
           {
            "marker": {
             "colorbar": {
              "outlinewidth": 0,
              "ticks": ""
             }
            },
            "type": "scatterpolar"
           }
          ],
          "scatterpolargl": [
           {
            "marker": {
             "colorbar": {
              "outlinewidth": 0,
              "ticks": ""
             }
            },
            "type": "scatterpolargl"
           }
          ],
          "scatterternary": [
           {
            "marker": {
             "colorbar": {
              "outlinewidth": 0,
              "ticks": ""
             }
            },
            "type": "scatterternary"
           }
          ],
          "surface": [
           {
            "colorbar": {
             "outlinewidth": 0,
             "ticks": ""
            },
            "colorscale": [
             [
              0,
              "#0d0887"
             ],
             [
              0.1111111111111111,
              "#46039f"
             ],
             [
              0.2222222222222222,
              "#7201a8"
             ],
             [
              0.3333333333333333,
              "#9c179e"
             ],
             [
              0.4444444444444444,
              "#bd3786"
             ],
             [
              0.5555555555555556,
              "#d8576b"
             ],
             [
              0.6666666666666666,
              "#ed7953"
             ],
             [
              0.7777777777777778,
              "#fb9f3a"
             ],
             [
              0.8888888888888888,
              "#fdca26"
             ],
             [
              1,
              "#f0f921"
             ]
            ],
            "type": "surface"
           }
          ],
          "table": [
           {
            "cells": {
             "fill": {
              "color": "#EBF0F8"
             },
             "line": {
              "color": "white"
             }
            },
            "header": {
             "fill": {
              "color": "#C8D4E3"
             },
             "line": {
              "color": "white"
             }
            },
            "type": "table"
           }
          ]
         },
         "layout": {
          "annotationdefaults": {
           "arrowcolor": "#2a3f5f",
           "arrowhead": 0,
           "arrowwidth": 1
          },
          "autotypenumbers": "strict",
          "coloraxis": {
           "colorbar": {
            "outlinewidth": 0,
            "ticks": ""
           }
          },
          "colorscale": {
           "diverging": [
            [
             0,
             "#8e0152"
            ],
            [
             0.1,
             "#c51b7d"
            ],
            [
             0.2,
             "#de77ae"
            ],
            [
             0.3,
             "#f1b6da"
            ],
            [
             0.4,
             "#fde0ef"
            ],
            [
             0.5,
             "#f7f7f7"
            ],
            [
             0.6,
             "#e6f5d0"
            ],
            [
             0.7,
             "#b8e186"
            ],
            [
             0.8,
             "#7fbc41"
            ],
            [
             0.9,
             "#4d9221"
            ],
            [
             1,
             "#276419"
            ]
           ],
           "sequential": [
            [
             0,
             "#0d0887"
            ],
            [
             0.1111111111111111,
             "#46039f"
            ],
            [
             0.2222222222222222,
             "#7201a8"
            ],
            [
             0.3333333333333333,
             "#9c179e"
            ],
            [
             0.4444444444444444,
             "#bd3786"
            ],
            [
             0.5555555555555556,
             "#d8576b"
            ],
            [
             0.6666666666666666,
             "#ed7953"
            ],
            [
             0.7777777777777778,
             "#fb9f3a"
            ],
            [
             0.8888888888888888,
             "#fdca26"
            ],
            [
             1,
             "#f0f921"
            ]
           ],
           "sequentialminus": [
            [
             0,
             "#0d0887"
            ],
            [
             0.1111111111111111,
             "#46039f"
            ],
            [
             0.2222222222222222,
             "#7201a8"
            ],
            [
             0.3333333333333333,
             "#9c179e"
            ],
            [
             0.4444444444444444,
             "#bd3786"
            ],
            [
             0.5555555555555556,
             "#d8576b"
            ],
            [
             0.6666666666666666,
             "#ed7953"
            ],
            [
             0.7777777777777778,
             "#fb9f3a"
            ],
            [
             0.8888888888888888,
             "#fdca26"
            ],
            [
             1,
             "#f0f921"
            ]
           ]
          },
          "colorway": [
           "#636efa",
           "#EF553B",
           "#00cc96",
           "#ab63fa",
           "#FFA15A",
           "#19d3f3",
           "#FF6692",
           "#B6E880",
           "#FF97FF",
           "#FECB52"
          ],
          "font": {
           "color": "#2a3f5f"
          },
          "geo": {
           "bgcolor": "white",
           "lakecolor": "white",
           "landcolor": "#E5ECF6",
           "showlakes": true,
           "showland": true,
           "subunitcolor": "white"
          },
          "hoverlabel": {
           "align": "left"
          },
          "hovermode": "closest",
          "mapbox": {
           "style": "light"
          },
          "paper_bgcolor": "white",
          "plot_bgcolor": "#E5ECF6",
          "polar": {
           "angularaxis": {
            "gridcolor": "white",
            "linecolor": "white",
            "ticks": ""
           },
           "bgcolor": "#E5ECF6",
           "radialaxis": {
            "gridcolor": "white",
            "linecolor": "white",
            "ticks": ""
           }
          },
          "scene": {
           "xaxis": {
            "backgroundcolor": "#E5ECF6",
            "gridcolor": "white",
            "gridwidth": 2,
            "linecolor": "white",
            "showbackground": true,
            "ticks": "",
            "zerolinecolor": "white"
           },
           "yaxis": {
            "backgroundcolor": "#E5ECF6",
            "gridcolor": "white",
            "gridwidth": 2,
            "linecolor": "white",
            "showbackground": true,
            "ticks": "",
            "zerolinecolor": "white"
           },
           "zaxis": {
            "backgroundcolor": "#E5ECF6",
            "gridcolor": "white",
            "gridwidth": 2,
            "linecolor": "white",
            "showbackground": true,
            "ticks": "",
            "zerolinecolor": "white"
           }
          },
          "shapedefaults": {
           "line": {
            "color": "#2a3f5f"
           }
          },
          "ternary": {
           "aaxis": {
            "gridcolor": "white",
            "linecolor": "white",
            "ticks": ""
           },
           "baxis": {
            "gridcolor": "white",
            "linecolor": "white",
            "ticks": ""
           },
           "bgcolor": "#E5ECF6",
           "caxis": {
            "gridcolor": "white",
            "linecolor": "white",
            "ticks": ""
           }
          },
          "title": {
           "x": 0.05
          },
          "xaxis": {
           "automargin": true,
           "gridcolor": "white",
           "linecolor": "white",
           "ticks": "",
           "title": {
            "standoff": 15
           },
           "zerolinecolor": "white",
           "zerolinewidth": 2
          },
          "yaxis": {
           "automargin": true,
           "gridcolor": "white",
           "linecolor": "white",
           "ticks": "",
           "title": {
            "standoff": 15
           },
           "zerolinecolor": "white",
           "zerolinewidth": 2
          }
         }
        },
        "title": {
         "font": {
          "color": "blue",
          "size": 20
         },
         "text": "Summary of Literacy Rate"
        },
        "xaxis": {
         "anchor": "y",
         "domain": [
          0,
          0.3133333333333333
         ],
         "title": {
          "text": "Literacy_Rate"
         }
        },
        "xaxis2": {
         "anchor": "y2",
         "domain": [
          0.3333333333333333,
          0.6466666666666666
         ],
         "matches": "x",
         "title": {
          "text": "Literacy_Rate"
         }
        },
        "xaxis3": {
         "anchor": "y3",
         "domain": [
          0.6666666666666666,
          0.98
         ],
         "matches": "x",
         "title": {
          "text": "Literacy_Rate"
         }
        },
        "xaxis4": {
         "anchor": "y4",
         "domain": [
          0,
          0.3133333333333333
         ],
         "matches": "x",
         "showticklabels": false
        },
        "xaxis5": {
         "anchor": "y5",
         "domain": [
          0.3333333333333333,
          0.6466666666666666
         ],
         "matches": "x",
         "showticklabels": false
        },
        "xaxis6": {
         "anchor": "y6",
         "domain": [
          0.6666666666666666,
          0.98
         ],
         "matches": "x",
         "showticklabels": false
        },
        "xaxis7": {
         "anchor": "y7",
         "domain": [
          0,
          0.3133333333333333
         ],
         "matches": "x",
         "showticklabels": false
        },
        "xaxis8": {
         "anchor": "y8",
         "domain": [
          0.3333333333333333,
          0.6466666666666666
         ],
         "matches": "x",
         "showticklabels": false
        },
        "xaxis9": {
         "anchor": "y9",
         "domain": [
          0.6666666666666666,
          0.98
         ],
         "matches": "x",
         "showticklabels": false
        },
        "yaxis": {
         "anchor": "x",
         "domain": [
          0,
          0.3133333333333333
         ],
         "title": {
          "text": "Year"
         }
        },
        "yaxis2": {
         "anchor": "x2",
         "domain": [
          0,
          0.3133333333333333
         ],
         "matches": "y",
         "showticklabels": false
        },
        "yaxis3": {
         "anchor": "x3",
         "domain": [
          0,
          0.3133333333333333
         ],
         "matches": "y",
         "showticklabels": false
        },
        "yaxis4": {
         "anchor": "x4",
         "domain": [
          0.34333333333333327,
          0.6566666666666665
         ],
         "matches": "y",
         "title": {
          "text": "Year"
         }
        },
        "yaxis5": {
         "anchor": "x5",
         "domain": [
          0.34333333333333327,
          0.6566666666666665
         ],
         "matches": "y",
         "showticklabels": false
        },
        "yaxis6": {
         "anchor": "x6",
         "domain": [
          0.34333333333333327,
          0.6566666666666665
         ],
         "matches": "y",
         "showticklabels": false
        },
        "yaxis7": {
         "anchor": "x7",
         "domain": [
          0.6866666666666665,
          0.9999999999999998
         ],
         "matches": "y",
         "title": {
          "text": "Year"
         }
        },
        "yaxis8": {
         "anchor": "x8",
         "domain": [
          0.6866666666666665,
          0.9999999999999998
         ],
         "matches": "y",
         "showticklabels": false
        },
        "yaxis9": {
         "anchor": "x9",
         "domain": [
          0.6866666666666665,
          0.9999999999999998
         ],
         "matches": "y",
         "showticklabels": false
        }
       }
      },
      "text/html": [
       "<div>                            <div id=\"8f59c312-d57a-4d9a-9e56-3d295e1093e5\" class=\"plotly-graph-div\" style=\"height:525px; width:100%;\"></div>            <script type=\"text/javascript\">                require([\"plotly\"], function(Plotly) {                    window.PLOTLYENV=window.PLOTLYENV || {};                                    if (document.getElementById(\"8f59c312-d57a-4d9a-9e56-3d295e1093e5\")) {                    Plotly.newPlot(                        \"8f59c312-d57a-4d9a-9e56-3d295e1093e5\",                        [{\"alignmentgroup\":\"True\",\"hovertemplate\":\"Typ=Rural<br>Category=Country<br>Literacy_Rate=%{x}<br>Year=%{y}<br>Literacy_Rate_lab=%{text}<extra></extra>\",\"legendgroup\":\"Rural\",\"marker\":{\"color\":\"#636efa\",\"pattern\":{\"shape\":\"\"}},\"name\":\"Rural\",\"offsetgroup\":\"Rural\",\"orientation\":\"h\",\"showlegend\":true,\"text\":[\"58.7%\",\"67.8%\"],\"textposition\":\"auto\",\"type\":\"bar\",\"x\":[58.7,67.8],\"xaxis\":\"x7\",\"y\":[\"2001\",\"2011\"],\"yaxis\":\"y7\"},{\"alignmentgroup\":\"True\",\"hovertemplate\":\"Typ=Rural<br>Category=State<br>Literacy_Rate=%{x}<br>Year=%{y}<br>Literacy_Rate_lab=%{text}<extra></extra>\",\"legendgroup\":\"Rural\",\"marker\":{\"color\":\"#636efa\",\"pattern\":{\"shape\":\"\"}},\"name\":\"Rural\",\"offsetgroup\":\"Rural\",\"orientation\":\"h\",\"showlegend\":false,\"text\":[\"62.6%\",\"71.8%\"],\"textposition\":\"auto\",\"type\":\"bar\",\"x\":[62.60357142857142,71.81428571428572],\"xaxis\":\"x8\",\"y\":[\"2001\",\"2011\"],\"yaxis\":\"y8\"},{\"alignmentgroup\":\"True\",\"hovertemplate\":\"Typ=Rural<br>Category=Union Territory<br>Literacy_Rate=%{x}<br>Year=%{y}<br>Literacy_Rate_lab=%{text}<extra></extra>\",\"legendgroup\":\"Rural\",\"marker\":{\"color\":\"#636efa\",\"pattern\":{\"shape\":\"\"}},\"name\":\"Rural\",\"offsetgroup\":\"Rural\",\"orientation\":\"h\",\"showlegend\":false,\"text\":[\"73.8%\",\"80.6%\"],\"textposition\":\"auto\",\"type\":\"bar\",\"x\":[73.78571428571429,80.61428571428571],\"xaxis\":\"x9\",\"y\":[\"2001\",\"2011\"],\"yaxis\":\"y9\"},{\"alignmentgroup\":\"True\",\"hovertemplate\":\"Typ=Total<br>Category=Country<br>Literacy_Rate=%{x}<br>Year=%{y}<br>Literacy_Rate_lab=%{text}<extra></extra>\",\"legendgroup\":\"Total\",\"marker\":{\"color\":\"#EF553B\",\"pattern\":{\"shape\":\"\"}},\"name\":\"Total\",\"offsetgroup\":\"Total\",\"orientation\":\"h\",\"showlegend\":true,\"text\":[\"64.8%\",\"73.0%\"],\"textposition\":\"auto\",\"type\":\"bar\",\"x\":[64.8,73.0],\"xaxis\":\"x4\",\"y\":[\"2001\",\"2011\"],\"yaxis\":\"y4\"},{\"alignmentgroup\":\"True\",\"hovertemplate\":\"Typ=Total<br>Category=State<br>Literacy_Rate=%{x}<br>Year=%{y}<br>Literacy_Rate_lab=%{text}<extra></extra>\",\"legendgroup\":\"Total\",\"marker\":{\"color\":\"#EF553B\",\"pattern\":{\"shape\":\"\"}},\"name\":\"Total\",\"offsetgroup\":\"Total\",\"orientation\":\"h\",\"showlegend\":false,\"text\":[\"67.4%\",\"75.9%\"],\"textposition\":\"auto\",\"type\":\"bar\",\"x\":[67.36428571428571,75.88928571428572],\"xaxis\":\"x5\",\"y\":[\"2001\",\"2011\"],\"yaxis\":\"y5\"},{\"alignmentgroup\":\"True\",\"hovertemplate\":\"Typ=Total<br>Category=Union Territory<br>Literacy_Rate=%{x}<br>Year=%{y}<br>Literacy_Rate_lab=%{text}<extra></extra>\",\"legendgroup\":\"Total\",\"marker\":{\"color\":\"#EF553B\",\"pattern\":{\"shape\":\"\"}},\"name\":\"Total\",\"offsetgroup\":\"Total\",\"orientation\":\"h\",\"showlegend\":false,\"text\":[\"78.4%\",\"85.7%\"],\"textposition\":\"auto\",\"type\":\"bar\",\"x\":[78.37142857142858,85.67142857142858],\"xaxis\":\"x6\",\"y\":[\"2001\",\"2011\"],\"yaxis\":\"y6\"},{\"alignmentgroup\":\"True\",\"hovertemplate\":\"Typ=Urban<br>Category=Country<br>Literacy_Rate=%{x}<br>Year=%{y}<br>Literacy_Rate_lab=%{text}<extra></extra>\",\"legendgroup\":\"Urban\",\"marker\":{\"color\":\"#00cc96\",\"pattern\":{\"shape\":\"\"}},\"name\":\"Urban\",\"offsetgroup\":\"Urban\",\"orientation\":\"h\",\"showlegend\":true,\"text\":[\"79.9%\",\"84.1%\"],\"textposition\":\"auto\",\"type\":\"bar\",\"x\":[79.9,84.1],\"xaxis\":\"x\",\"y\":[\"2001\",\"2011\"],\"yaxis\":\"y\"},{\"alignmentgroup\":\"True\",\"hovertemplate\":\"Typ=Urban<br>Category=State<br>Literacy_Rate=%{x}<br>Year=%{y}<br>Literacy_Rate_lab=%{text}<extra></extra>\",\"legendgroup\":\"Urban\",\"marker\":{\"color\":\"#00cc96\",\"pattern\":{\"shape\":\"\"}},\"name\":\"Urban\",\"offsetgroup\":\"Urban\",\"orientation\":\"h\",\"showlegend\":false,\"text\":[\"81.7%\",\"85.7%\"],\"textposition\":\"auto\",\"type\":\"bar\",\"x\":[81.66785714285713,85.72500000000001],\"xaxis\":\"x2\",\"y\":[\"2001\",\"2011\"],\"yaxis\":\"y2\"},{\"alignmentgroup\":\"True\",\"hovertemplate\":\"Typ=Urban<br>Category=Union Territory<br>Literacy_Rate=%{x}<br>Year=%{y}<br>Literacy_Rate_lab=%{text}<extra></extra>\",\"legendgroup\":\"Urban\",\"marker\":{\"color\":\"#00cc96\",\"pattern\":{\"shape\":\"\"}},\"name\":\"Urban\",\"offsetgroup\":\"Urban\",\"orientation\":\"h\",\"showlegend\":false,\"text\":[\"84.5%\",\"88.8%\"],\"textposition\":\"auto\",\"type\":\"bar\",\"x\":[84.45714285714287,88.82857142857142],\"xaxis\":\"x3\",\"y\":[\"2001\",\"2011\"],\"yaxis\":\"y3\"}],                        {\"annotations\":[{\"font\":{},\"showarrow\":false,\"text\":\"Category=Country\",\"x\":0.15666666666666665,\"xanchor\":\"center\",\"xref\":\"paper\",\"y\":0.9999999999999998,\"yanchor\":\"bottom\",\"yref\":\"paper\"},{\"font\":{},\"showarrow\":false,\"text\":\"Category=State\",\"x\":0.49,\"xanchor\":\"center\",\"xref\":\"paper\",\"y\":0.9999999999999998,\"yanchor\":\"bottom\",\"yref\":\"paper\"},{\"font\":{},\"showarrow\":false,\"text\":\"Category=Union Territory\",\"x\":0.8233333333333333,\"xanchor\":\"center\",\"xref\":\"paper\",\"y\":0.9999999999999998,\"yanchor\":\"bottom\",\"yref\":\"paper\"},{\"font\":{},\"showarrow\":false,\"text\":\"Typ=Urban\",\"textangle\":90,\"x\":0.98,\"xanchor\":\"left\",\"xref\":\"paper\",\"y\":0.15666666666666665,\"yanchor\":\"middle\",\"yref\":\"paper\"},{\"font\":{},\"showarrow\":false,\"text\":\"Typ=Total\",\"textangle\":90,\"x\":0.98,\"xanchor\":\"left\",\"xref\":\"paper\",\"y\":0.4999999999999999,\"yanchor\":\"middle\",\"yref\":\"paper\"},{\"font\":{},\"showarrow\":false,\"text\":\"Typ=Rural\",\"textangle\":90,\"x\":0.98,\"xanchor\":\"left\",\"xref\":\"paper\",\"y\":0.8433333333333332,\"yanchor\":\"middle\",\"yref\":\"paper\"}],\"barmode\":\"relative\",\"font\":{\"family\":\"Courier New\"},\"legend\":{\"title\":{\"font\":{\"color\":\"green\"},\"text\":\"Typ\"},\"tracegroupgap\":0},\"margin\":{\"t\":60},\"template\":{\"data\":{\"bar\":[{\"error_x\":{\"color\":\"#2a3f5f\"},\"error_y\":{\"color\":\"#2a3f5f\"},\"marker\":{\"line\":{\"color\":\"#E5ECF6\",\"width\":0.5},\"pattern\":{\"fillmode\":\"overlay\",\"size\":10,\"solidity\":0.2}},\"type\":\"bar\"}],\"barpolar\":[{\"marker\":{\"line\":{\"color\":\"#E5ECF6\",\"width\":0.5},\"pattern\":{\"fillmode\":\"overlay\",\"size\":10,\"solidity\":0.2}},\"type\":\"barpolar\"}],\"carpet\":[{\"aaxis\":{\"endlinecolor\":\"#2a3f5f\",\"gridcolor\":\"white\",\"linecolor\":\"white\",\"minorgridcolor\":\"white\",\"startlinecolor\":\"#2a3f5f\"},\"baxis\":{\"endlinecolor\":\"#2a3f5f\",\"gridcolor\":\"white\",\"linecolor\":\"white\",\"minorgridcolor\":\"white\",\"startlinecolor\":\"#2a3f5f\"},\"type\":\"carpet\"}],\"choropleth\":[{\"colorbar\":{\"outlinewidth\":0,\"ticks\":\"\"},\"type\":\"choropleth\"}],\"contour\":[{\"colorbar\":{\"outlinewidth\":0,\"ticks\":\"\"},\"colorscale\":[[0.0,\"#0d0887\"],[0.1111111111111111,\"#46039f\"],[0.2222222222222222,\"#7201a8\"],[0.3333333333333333,\"#9c179e\"],[0.4444444444444444,\"#bd3786\"],[0.5555555555555556,\"#d8576b\"],[0.6666666666666666,\"#ed7953\"],[0.7777777777777778,\"#fb9f3a\"],[0.8888888888888888,\"#fdca26\"],[1.0,\"#f0f921\"]],\"type\":\"contour\"}],\"contourcarpet\":[{\"colorbar\":{\"outlinewidth\":0,\"ticks\":\"\"},\"type\":\"contourcarpet\"}],\"heatmap\":[{\"colorbar\":{\"outlinewidth\":0,\"ticks\":\"\"},\"colorscale\":[[0.0,\"#0d0887\"],[0.1111111111111111,\"#46039f\"],[0.2222222222222222,\"#7201a8\"],[0.3333333333333333,\"#9c179e\"],[0.4444444444444444,\"#bd3786\"],[0.5555555555555556,\"#d8576b\"],[0.6666666666666666,\"#ed7953\"],[0.7777777777777778,\"#fb9f3a\"],[0.8888888888888888,\"#fdca26\"],[1.0,\"#f0f921\"]],\"type\":\"heatmap\"}],\"heatmapgl\":[{\"colorbar\":{\"outlinewidth\":0,\"ticks\":\"\"},\"colorscale\":[[0.0,\"#0d0887\"],[0.1111111111111111,\"#46039f\"],[0.2222222222222222,\"#7201a8\"],[0.3333333333333333,\"#9c179e\"],[0.4444444444444444,\"#bd3786\"],[0.5555555555555556,\"#d8576b\"],[0.6666666666666666,\"#ed7953\"],[0.7777777777777778,\"#fb9f3a\"],[0.8888888888888888,\"#fdca26\"],[1.0,\"#f0f921\"]],\"type\":\"heatmapgl\"}],\"histogram\":[{\"marker\":{\"pattern\":{\"fillmode\":\"overlay\",\"size\":10,\"solidity\":0.2}},\"type\":\"histogram\"}],\"histogram2d\":[{\"colorbar\":{\"outlinewidth\":0,\"ticks\":\"\"},\"colorscale\":[[0.0,\"#0d0887\"],[0.1111111111111111,\"#46039f\"],[0.2222222222222222,\"#7201a8\"],[0.3333333333333333,\"#9c179e\"],[0.4444444444444444,\"#bd3786\"],[0.5555555555555556,\"#d8576b\"],[0.6666666666666666,\"#ed7953\"],[0.7777777777777778,\"#fb9f3a\"],[0.8888888888888888,\"#fdca26\"],[1.0,\"#f0f921\"]],\"type\":\"histogram2d\"}],\"histogram2dcontour\":[{\"colorbar\":{\"outlinewidth\":0,\"ticks\":\"\"},\"colorscale\":[[0.0,\"#0d0887\"],[0.1111111111111111,\"#46039f\"],[0.2222222222222222,\"#7201a8\"],[0.3333333333333333,\"#9c179e\"],[0.4444444444444444,\"#bd3786\"],[0.5555555555555556,\"#d8576b\"],[0.6666666666666666,\"#ed7953\"],[0.7777777777777778,\"#fb9f3a\"],[0.8888888888888888,\"#fdca26\"],[1.0,\"#f0f921\"]],\"type\":\"histogram2dcontour\"}],\"mesh3d\":[{\"colorbar\":{\"outlinewidth\":0,\"ticks\":\"\"},\"type\":\"mesh3d\"}],\"parcoords\":[{\"line\":{\"colorbar\":{\"outlinewidth\":0,\"ticks\":\"\"}},\"type\":\"parcoords\"}],\"pie\":[{\"automargin\":true,\"type\":\"pie\"}],\"scatter\":[{\"marker\":{\"colorbar\":{\"outlinewidth\":0,\"ticks\":\"\"}},\"type\":\"scatter\"}],\"scatter3d\":[{\"line\":{\"colorbar\":{\"outlinewidth\":0,\"ticks\":\"\"}},\"marker\":{\"colorbar\":{\"outlinewidth\":0,\"ticks\":\"\"}},\"type\":\"scatter3d\"}],\"scattercarpet\":[{\"marker\":{\"colorbar\":{\"outlinewidth\":0,\"ticks\":\"\"}},\"type\":\"scattercarpet\"}],\"scattergeo\":[{\"marker\":{\"colorbar\":{\"outlinewidth\":0,\"ticks\":\"\"}},\"type\":\"scattergeo\"}],\"scattergl\":[{\"marker\":{\"colorbar\":{\"outlinewidth\":0,\"ticks\":\"\"}},\"type\":\"scattergl\"}],\"scattermapbox\":[{\"marker\":{\"colorbar\":{\"outlinewidth\":0,\"ticks\":\"\"}},\"type\":\"scattermapbox\"}],\"scatterpolar\":[{\"marker\":{\"colorbar\":{\"outlinewidth\":0,\"ticks\":\"\"}},\"type\":\"scatterpolar\"}],\"scatterpolargl\":[{\"marker\":{\"colorbar\":{\"outlinewidth\":0,\"ticks\":\"\"}},\"type\":\"scatterpolargl\"}],\"scatterternary\":[{\"marker\":{\"colorbar\":{\"outlinewidth\":0,\"ticks\":\"\"}},\"type\":\"scatterternary\"}],\"surface\":[{\"colorbar\":{\"outlinewidth\":0,\"ticks\":\"\"},\"colorscale\":[[0.0,\"#0d0887\"],[0.1111111111111111,\"#46039f\"],[0.2222222222222222,\"#7201a8\"],[0.3333333333333333,\"#9c179e\"],[0.4444444444444444,\"#bd3786\"],[0.5555555555555556,\"#d8576b\"],[0.6666666666666666,\"#ed7953\"],[0.7777777777777778,\"#fb9f3a\"],[0.8888888888888888,\"#fdca26\"],[1.0,\"#f0f921\"]],\"type\":\"surface\"}],\"table\":[{\"cells\":{\"fill\":{\"color\":\"#EBF0F8\"},\"line\":{\"color\":\"white\"}},\"header\":{\"fill\":{\"color\":\"#C8D4E3\"},\"line\":{\"color\":\"white\"}},\"type\":\"table\"}]},\"layout\":{\"annotationdefaults\":{\"arrowcolor\":\"#2a3f5f\",\"arrowhead\":0,\"arrowwidth\":1},\"autotypenumbers\":\"strict\",\"coloraxis\":{\"colorbar\":{\"outlinewidth\":0,\"ticks\":\"\"}},\"colorscale\":{\"diverging\":[[0,\"#8e0152\"],[0.1,\"#c51b7d\"],[0.2,\"#de77ae\"],[0.3,\"#f1b6da\"],[0.4,\"#fde0ef\"],[0.5,\"#f7f7f7\"],[0.6,\"#e6f5d0\"],[0.7,\"#b8e186\"],[0.8,\"#7fbc41\"],[0.9,\"#4d9221\"],[1,\"#276419\"]],\"sequential\":[[0.0,\"#0d0887\"],[0.1111111111111111,\"#46039f\"],[0.2222222222222222,\"#7201a8\"],[0.3333333333333333,\"#9c179e\"],[0.4444444444444444,\"#bd3786\"],[0.5555555555555556,\"#d8576b\"],[0.6666666666666666,\"#ed7953\"],[0.7777777777777778,\"#fb9f3a\"],[0.8888888888888888,\"#fdca26\"],[1.0,\"#f0f921\"]],\"sequentialminus\":[[0.0,\"#0d0887\"],[0.1111111111111111,\"#46039f\"],[0.2222222222222222,\"#7201a8\"],[0.3333333333333333,\"#9c179e\"],[0.4444444444444444,\"#bd3786\"],[0.5555555555555556,\"#d8576b\"],[0.6666666666666666,\"#ed7953\"],[0.7777777777777778,\"#fb9f3a\"],[0.8888888888888888,\"#fdca26\"],[1.0,\"#f0f921\"]]},\"colorway\":[\"#636efa\",\"#EF553B\",\"#00cc96\",\"#ab63fa\",\"#FFA15A\",\"#19d3f3\",\"#FF6692\",\"#B6E880\",\"#FF97FF\",\"#FECB52\"],\"font\":{\"color\":\"#2a3f5f\"},\"geo\":{\"bgcolor\":\"white\",\"lakecolor\":\"white\",\"landcolor\":\"#E5ECF6\",\"showlakes\":true,\"showland\":true,\"subunitcolor\":\"white\"},\"hoverlabel\":{\"align\":\"left\"},\"hovermode\":\"closest\",\"mapbox\":{\"style\":\"light\"},\"paper_bgcolor\":\"white\",\"plot_bgcolor\":\"#E5ECF6\",\"polar\":{\"angularaxis\":{\"gridcolor\":\"white\",\"linecolor\":\"white\",\"ticks\":\"\"},\"bgcolor\":\"#E5ECF6\",\"radialaxis\":{\"gridcolor\":\"white\",\"linecolor\":\"white\",\"ticks\":\"\"}},\"scene\":{\"xaxis\":{\"backgroundcolor\":\"#E5ECF6\",\"gridcolor\":\"white\",\"gridwidth\":2,\"linecolor\":\"white\",\"showbackground\":true,\"ticks\":\"\",\"zerolinecolor\":\"white\"},\"yaxis\":{\"backgroundcolor\":\"#E5ECF6\",\"gridcolor\":\"white\",\"gridwidth\":2,\"linecolor\":\"white\",\"showbackground\":true,\"ticks\":\"\",\"zerolinecolor\":\"white\"},\"zaxis\":{\"backgroundcolor\":\"#E5ECF6\",\"gridcolor\":\"white\",\"gridwidth\":2,\"linecolor\":\"white\",\"showbackground\":true,\"ticks\":\"\",\"zerolinecolor\":\"white\"}},\"shapedefaults\":{\"line\":{\"color\":\"#2a3f5f\"}},\"ternary\":{\"aaxis\":{\"gridcolor\":\"white\",\"linecolor\":\"white\",\"ticks\":\"\"},\"baxis\":{\"gridcolor\":\"white\",\"linecolor\":\"white\",\"ticks\":\"\"},\"bgcolor\":\"#E5ECF6\",\"caxis\":{\"gridcolor\":\"white\",\"linecolor\":\"white\",\"ticks\":\"\"}},\"title\":{\"x\":0.05},\"xaxis\":{\"automargin\":true,\"gridcolor\":\"white\",\"linecolor\":\"white\",\"ticks\":\"\",\"title\":{\"standoff\":15},\"zerolinecolor\":\"white\",\"zerolinewidth\":2},\"yaxis\":{\"automargin\":true,\"gridcolor\":\"white\",\"linecolor\":\"white\",\"ticks\":\"\",\"title\":{\"standoff\":15},\"zerolinecolor\":\"white\",\"zerolinewidth\":2}}},\"title\":{\"font\":{\"color\":\"blue\",\"size\":20},\"text\":\"Summary of Literacy Rate\"},\"xaxis\":{\"anchor\":\"y\",\"domain\":[0.0,0.3133333333333333],\"title\":{\"text\":\"Literacy_Rate\"}},\"xaxis2\":{\"anchor\":\"y2\",\"domain\":[0.3333333333333333,0.6466666666666666],\"matches\":\"x\",\"title\":{\"text\":\"Literacy_Rate\"}},\"xaxis3\":{\"anchor\":\"y3\",\"domain\":[0.6666666666666666,0.98],\"matches\":\"x\",\"title\":{\"text\":\"Literacy_Rate\"}},\"xaxis4\":{\"anchor\":\"y4\",\"domain\":[0.0,0.3133333333333333],\"matches\":\"x\",\"showticklabels\":false},\"xaxis5\":{\"anchor\":\"y5\",\"domain\":[0.3333333333333333,0.6466666666666666],\"matches\":\"x\",\"showticklabels\":false},\"xaxis6\":{\"anchor\":\"y6\",\"domain\":[0.6666666666666666,0.98],\"matches\":\"x\",\"showticklabels\":false},\"xaxis7\":{\"anchor\":\"y7\",\"domain\":[0.0,0.3133333333333333],\"matches\":\"x\",\"showticklabels\":false},\"xaxis8\":{\"anchor\":\"y8\",\"domain\":[0.3333333333333333,0.6466666666666666],\"matches\":\"x\",\"showticklabels\":false},\"xaxis9\":{\"anchor\":\"y9\",\"domain\":[0.6666666666666666,0.98],\"matches\":\"x\",\"showticklabels\":false},\"yaxis\":{\"anchor\":\"x\",\"domain\":[0.0,0.3133333333333333],\"title\":{\"text\":\"Year\"}},\"yaxis2\":{\"anchor\":\"x2\",\"domain\":[0.0,0.3133333333333333],\"matches\":\"y\",\"showticklabels\":false},\"yaxis3\":{\"anchor\":\"x3\",\"domain\":[0.0,0.3133333333333333],\"matches\":\"y\",\"showticklabels\":false},\"yaxis4\":{\"anchor\":\"x4\",\"domain\":[0.34333333333333327,0.6566666666666665],\"matches\":\"y\",\"title\":{\"text\":\"Year\"}},\"yaxis5\":{\"anchor\":\"x5\",\"domain\":[0.34333333333333327,0.6566666666666665],\"matches\":\"y\",\"showticklabels\":false},\"yaxis6\":{\"anchor\":\"x6\",\"domain\":[0.34333333333333327,0.6566666666666665],\"matches\":\"y\",\"showticklabels\":false},\"yaxis7\":{\"anchor\":\"x7\",\"domain\":[0.6866666666666665,0.9999999999999998],\"matches\":\"y\",\"title\":{\"text\":\"Year\"}},\"yaxis8\":{\"anchor\":\"x8\",\"domain\":[0.6866666666666665,0.9999999999999998],\"matches\":\"y\",\"showticklabels\":false},\"yaxis9\":{\"anchor\":\"x9\",\"domain\":[0.6866666666666665,0.9999999999999998],\"matches\":\"y\",\"showticklabels\":false}},                        {\"responsive\": true}                    ).then(function(){\n",
       "                            \n",
       "var gd = document.getElementById('8f59c312-d57a-4d9a-9e56-3d295e1093e5');\n",
       "var x = new MutationObserver(function (mutations, observer) {{\n",
       "        var display = window.getComputedStyle(gd).display;\n",
       "        if (!display || display === 'none') {{\n",
       "            console.log([gd, 'removed!']);\n",
       "            Plotly.purge(gd);\n",
       "            observer.disconnect();\n",
       "        }}\n",
       "}});\n",
       "\n",
       "// Listen for the removal of the full notebook cells\n",
       "var notebookContainer = gd.closest('#notebook-container');\n",
       "if (notebookContainer) {{\n",
       "    x.observe(notebookContainer, {childList: true});\n",
       "}}\n",
       "\n",
       "// Listen for the clearing of the current output cell\n",
       "var outputEl = gd.closest('.output');\n",
       "if (outputEl) {{\n",
       "    x.observe(outputEl, {childList: true});\n",
       "}}\n",
       "\n",
       "                        })                };                });            </script>        </div>"
      ]
     },
     "metadata": {},
     "output_type": "display_data"
    }
   ],
   "source": [
    "q4=df2.groupby(['Category','Typ','Year']).agg({\"Literacy_Rate\":\"mean\"}).reset_index()\n",
    "#q4=q4.set_index(['Category','Typ','Year'])['Literacy_Rate'].unstack().reset_index().rename(columns={\"2001\":\"last_census\",\"2011\":\"latest_census\"})\n",
    "\n",
    "q4['Literacy_Rate_lab']= q4['Literacy_Rate'].apply(lambda x: \"{:.1%}\".format(x/100))\n",
    "fig =px.bar(q4,x='Literacy_Rate',y='Year',facet_col='Category',facet_row='Typ',color='Typ',text='Literacy_Rate_lab')\n",
    "fig.update_layout({\"title\":\"Summary of Literacy Rate\",\"title_font_size\":20,\"font_family\":\"Courier New\",\"title_font_color\":\"blue\",\"legend_title_font_color\":\"green\"})\n",
    "fig.write_image(format='png',file='Summary of Literacy Rate.png',validate=True)\n",
    "fig.show()"
   ]
  },
  {
   "cell_type": "code",
   "execution_count": 60,
   "id": "7920fccf",
   "metadata": {},
   "outputs": [
    {
     "data": {
      "text/html": [
       "<div>\n",
       "<style scoped>\n",
       "    .dataframe tbody tr th:only-of-type {\n",
       "        vertical-align: middle;\n",
       "    }\n",
       "\n",
       "    .dataframe tbody tr th {\n",
       "        vertical-align: top;\n",
       "    }\n",
       "\n",
       "    .dataframe thead th {\n",
       "        text-align: right;\n",
       "    }\n",
       "</style>\n",
       "<table border=\"1\" class=\"dataframe\">\n",
       "  <thead>\n",
       "    <tr style=\"text-align: right;\">\n",
       "      <th></th>\n",
       "      <th>Category</th>\n",
       "      <th>STATE_UT</th>\n",
       "      <th>Literacy_Rate</th>\n",
       "      <th>Year</th>\n",
       "      <th>Typ</th>\n",
       "    </tr>\n",
       "  </thead>\n",
       "  <tbody>\n",
       "    <tr>\n",
       "      <th>0</th>\n",
       "      <td>Country</td>\n",
       "      <td>INDIA</td>\n",
       "      <td>64.8</td>\n",
       "      <td>2001</td>\n",
       "      <td>Total</td>\n",
       "    </tr>\n",
       "    <tr>\n",
       "      <th>1</th>\n",
       "      <td>State</td>\n",
       "      <td>Andhra Pradesh</td>\n",
       "      <td>60.5</td>\n",
       "      <td>2001</td>\n",
       "      <td>Total</td>\n",
       "    </tr>\n",
       "    <tr>\n",
       "      <th>2</th>\n",
       "      <td>State</td>\n",
       "      <td>Arunachal Pradesh</td>\n",
       "      <td>54.3</td>\n",
       "      <td>2001</td>\n",
       "      <td>Total</td>\n",
       "    </tr>\n",
       "    <tr>\n",
       "      <th>3</th>\n",
       "      <td>State</td>\n",
       "      <td>Assam</td>\n",
       "      <td>63.3</td>\n",
       "      <td>2001</td>\n",
       "      <td>Total</td>\n",
       "    </tr>\n",
       "    <tr>\n",
       "      <th>4</th>\n",
       "      <td>State</td>\n",
       "      <td>Bihar</td>\n",
       "      <td>47.0</td>\n",
       "      <td>2001</td>\n",
       "      <td>Total</td>\n",
       "    </tr>\n",
       "  </tbody>\n",
       "</table>\n",
       "</div>"
      ],
      "text/plain": [
       "  Category           STATE_UT  Literacy_Rate  Year    Typ\n",
       "0  Country              INDIA           64.8  2001  Total\n",
       "1    State     Andhra Pradesh           60.5  2001  Total\n",
       "2    State  Arunachal Pradesh           54.3  2001  Total\n",
       "3    State              Assam           63.3  2001  Total\n",
       "4    State              Bihar           47.0  2001  Total"
      ]
     },
     "execution_count": 60,
     "metadata": {},
     "output_type": "execute_result"
    }
   ],
   "source": [
    "df2.head()"
   ]
  }
 ],
 "metadata": {
  "kernelspec": {
   "display_name": "Python 3 (ipykernel)",
   "language": "python",
   "name": "python3"
  },
  "language_info": {
   "codemirror_mode": {
    "name": "ipython",
    "version": 3
   },
   "file_extension": ".py",
   "mimetype": "text/x-python",
   "name": "python",
   "nbconvert_exporter": "python",
   "pygments_lexer": "ipython3",
   "version": "3.9.5"
  }
 },
 "nbformat": 4,
 "nbformat_minor": 5
}
