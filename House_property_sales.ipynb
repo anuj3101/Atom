{
 "cells": [
  {
   "cell_type": "code",
   "execution_count": 1,
   "id": "72357750",
   "metadata": {},
   "outputs": [],
   "source": [
    "import pandas as pd\n",
    "import datetime as dt\n",
    "import pandasql as ps\n",
    "import os\n",
    "import zipfile as zp\n",
    "from datetime import datetime\n",
    "#import matplotlib.pyplot as plt\n",
    "\n",
    "DIR=r'C:\\Users\\anuj\\Downloads'\n",
    "ZIp='archive (4).zip'\n",
    "\n",
    "os.chdir(DIR)\n",
    "zf = zp.ZipFile(f'{ZIp}')\n",
    "\n",
    "dfs={}\n",
    "for name in zf.namelist():\n",
    "    df_name= name.replace('.csv','')\n",
    "    dfs[df_name]=pd.read_csv(zf.open(name,mode='r'),encoding='latin')\n",
    "\n",
    "df1=dfs['ma_lga_12345']\n",
    "df2=dfs['raw_sales']\n",
    "df1.columns=df1.columns.str.replace(' ','_')\n",
    "df2.columns=df2.columns.str.replace(' ','_')\n",
    "\n",
    "#df1[df1.duplicated()]## Check duplicates\n",
    "#df2[df2.duplicated()]## Check duplicates\n",
    "#df2.info()\n",
    "#df2.isnull().values.any() ########Check NUlls\n",
    "#df1.isnull().isnull().sum() ########Check NUlls by each column\n",
    "df2['datesold']= df2['datesold'].apply(lambda x: datetime.strptime(x,'%Y-%m-%d %H:%M:%S'))\n",
    "df1['saledate']= df1['saledate'].apply(lambda x: datetime.strptime(x,'%d/%m/%Y'))\n",
    "df2['postcode']= '0'+ df2['postcode'].apply(lambda x: str(x))\n",
    "df2['bedrooms']= df2['bedrooms'].apply(lambda x: str(x))\n",
    "df1['MA']= df1['MA'].apply(lambda x: str(x))\n",
    "df1['bedrooms']= df1['bedrooms'].apply(lambda x: str(x))\n",
    "merged=ps.sqldf('select * from df2 a left join df1 b on a.propertyType=b.type and a.bedrooms=b.bedrooms and a.datesold=b.saledate')\n",
    "del df1,df2"
   ]
  },
  {
   "cell_type": "code",
   "execution_count": 5,
   "id": "3296da3c",
   "metadata": {},
   "outputs": [
    {
     "data": {
      "text/plain": [
       "array(['02607', '02906', '02905', '02606', '02902', '02612', '02904',\n",
       "       '02615', '02914', '02602', '02600', '02605', '02603', '02611',\n",
       "       '02903', '02617', '02913', '02604', '02614', '02912', '02601',\n",
       "       '02900', '02620', '02618', '02616', '02911', '02609'], dtype=object)"
      ]
     },
     "execution_count": 5,
     "metadata": {},
     "output_type": "execute_result"
    }
   ],
   "source": [
    "merged['postcode'].unique()"
   ]
  }
 ],
 "metadata": {
  "kernelspec": {
   "display_name": "Python 3 (ipykernel)",
   "language": "python",
   "name": "python3"
  },
  "language_info": {
   "codemirror_mode": {
    "name": "ipython",
    "version": 3
   },
   "file_extension": ".py",
   "mimetype": "text/x-python",
   "name": "python",
   "nbconvert_exporter": "python",
   "pygments_lexer": "ipython3",
   "version": "3.9.7"
  }
 },
 "nbformat": 4,
 "nbformat_minor": 5
}
